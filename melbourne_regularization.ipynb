{
 "cells": [
  {
   "cell_type": "markdown",
   "metadata": {},
   "source": [
    "Predict Melbourne house price and use regularization techniques to avoid overfitting"
   ]
  },
  {
   "cell_type": "code",
   "execution_count": 1,
   "metadata": {},
   "outputs": [],
   "source": [
    "import pandas as pd\n",
    "import numpy as np\n",
    "import matplotlib.pyplot as plt\n",
    "import seaborn as sns\n",
    "import warnings\n",
    "warnings.filterwarnings('ignore')"
   ]
  },
  {
   "cell_type": "code",
   "execution_count": 2,
   "metadata": {},
   "outputs": [],
   "source": [
    "df=pd.read_csv('melb_data.csv')"
   ]
  },
  {
   "cell_type": "code",
   "execution_count": 3,
   "metadata": {},
   "outputs": [
    {
     "data": {
      "text/html": [
       "<div>\n",
       "<style scoped>\n",
       "    .dataframe tbody tr th:only-of-type {\n",
       "        vertical-align: middle;\n",
       "    }\n",
       "\n",
       "    .dataframe tbody tr th {\n",
       "        vertical-align: top;\n",
       "    }\n",
       "\n",
       "    .dataframe thead th {\n",
       "        text-align: right;\n",
       "    }\n",
       "</style>\n",
       "<table border=\"1\" class=\"dataframe\">\n",
       "  <thead>\n",
       "    <tr style=\"text-align: right;\">\n",
       "      <th></th>\n",
       "      <th>Suburb</th>\n",
       "      <th>Address</th>\n",
       "      <th>Rooms</th>\n",
       "      <th>Type</th>\n",
       "      <th>Price</th>\n",
       "      <th>Method</th>\n",
       "      <th>SellerG</th>\n",
       "      <th>Date</th>\n",
       "      <th>Distance</th>\n",
       "      <th>Postcode</th>\n",
       "      <th>...</th>\n",
       "      <th>Bathroom</th>\n",
       "      <th>Car</th>\n",
       "      <th>Landsize</th>\n",
       "      <th>BuildingArea</th>\n",
       "      <th>YearBuilt</th>\n",
       "      <th>CouncilArea</th>\n",
       "      <th>Lattitude</th>\n",
       "      <th>Longtitude</th>\n",
       "      <th>Regionname</th>\n",
       "      <th>Propertycount</th>\n",
       "    </tr>\n",
       "  </thead>\n",
       "  <tbody>\n",
       "    <tr>\n",
       "      <th>0</th>\n",
       "      <td>Abbotsford</td>\n",
       "      <td>85 Turner St</td>\n",
       "      <td>2</td>\n",
       "      <td>h</td>\n",
       "      <td>1480000.0</td>\n",
       "      <td>S</td>\n",
       "      <td>Biggin</td>\n",
       "      <td>3/12/2016</td>\n",
       "      <td>2.5</td>\n",
       "      <td>3067.0</td>\n",
       "      <td>...</td>\n",
       "      <td>1.0</td>\n",
       "      <td>1.0</td>\n",
       "      <td>202.0</td>\n",
       "      <td>NaN</td>\n",
       "      <td>NaN</td>\n",
       "      <td>Yarra</td>\n",
       "      <td>-37.79960</td>\n",
       "      <td>144.99840</td>\n",
       "      <td>Northern Metropolitan</td>\n",
       "      <td>4019.0</td>\n",
       "    </tr>\n",
       "    <tr>\n",
       "      <th>1</th>\n",
       "      <td>Abbotsford</td>\n",
       "      <td>25 Bloomburg St</td>\n",
       "      <td>2</td>\n",
       "      <td>h</td>\n",
       "      <td>1035000.0</td>\n",
       "      <td>S</td>\n",
       "      <td>Biggin</td>\n",
       "      <td>4/02/2016</td>\n",
       "      <td>2.5</td>\n",
       "      <td>3067.0</td>\n",
       "      <td>...</td>\n",
       "      <td>1.0</td>\n",
       "      <td>0.0</td>\n",
       "      <td>156.0</td>\n",
       "      <td>79.0</td>\n",
       "      <td>1900.0</td>\n",
       "      <td>Yarra</td>\n",
       "      <td>-37.80790</td>\n",
       "      <td>144.99340</td>\n",
       "      <td>Northern Metropolitan</td>\n",
       "      <td>4019.0</td>\n",
       "    </tr>\n",
       "    <tr>\n",
       "      <th>2</th>\n",
       "      <td>Abbotsford</td>\n",
       "      <td>5 Charles St</td>\n",
       "      <td>3</td>\n",
       "      <td>h</td>\n",
       "      <td>1465000.0</td>\n",
       "      <td>SP</td>\n",
       "      <td>Biggin</td>\n",
       "      <td>4/03/2017</td>\n",
       "      <td>2.5</td>\n",
       "      <td>3067.0</td>\n",
       "      <td>...</td>\n",
       "      <td>2.0</td>\n",
       "      <td>0.0</td>\n",
       "      <td>134.0</td>\n",
       "      <td>150.0</td>\n",
       "      <td>1900.0</td>\n",
       "      <td>Yarra</td>\n",
       "      <td>-37.80930</td>\n",
       "      <td>144.99440</td>\n",
       "      <td>Northern Metropolitan</td>\n",
       "      <td>4019.0</td>\n",
       "    </tr>\n",
       "    <tr>\n",
       "      <th>3</th>\n",
       "      <td>Abbotsford</td>\n",
       "      <td>40 Federation La</td>\n",
       "      <td>3</td>\n",
       "      <td>h</td>\n",
       "      <td>850000.0</td>\n",
       "      <td>PI</td>\n",
       "      <td>Biggin</td>\n",
       "      <td>4/03/2017</td>\n",
       "      <td>2.5</td>\n",
       "      <td>3067.0</td>\n",
       "      <td>...</td>\n",
       "      <td>2.0</td>\n",
       "      <td>1.0</td>\n",
       "      <td>94.0</td>\n",
       "      <td>NaN</td>\n",
       "      <td>NaN</td>\n",
       "      <td>Yarra</td>\n",
       "      <td>-37.79690</td>\n",
       "      <td>144.99690</td>\n",
       "      <td>Northern Metropolitan</td>\n",
       "      <td>4019.0</td>\n",
       "    </tr>\n",
       "    <tr>\n",
       "      <th>4</th>\n",
       "      <td>Abbotsford</td>\n",
       "      <td>55a Park St</td>\n",
       "      <td>4</td>\n",
       "      <td>h</td>\n",
       "      <td>1600000.0</td>\n",
       "      <td>VB</td>\n",
       "      <td>Nelson</td>\n",
       "      <td>4/06/2016</td>\n",
       "      <td>2.5</td>\n",
       "      <td>3067.0</td>\n",
       "      <td>...</td>\n",
       "      <td>1.0</td>\n",
       "      <td>2.0</td>\n",
       "      <td>120.0</td>\n",
       "      <td>142.0</td>\n",
       "      <td>2014.0</td>\n",
       "      <td>Yarra</td>\n",
       "      <td>-37.80720</td>\n",
       "      <td>144.99410</td>\n",
       "      <td>Northern Metropolitan</td>\n",
       "      <td>4019.0</td>\n",
       "    </tr>\n",
       "    <tr>\n",
       "      <th>...</th>\n",
       "      <td>...</td>\n",
       "      <td>...</td>\n",
       "      <td>...</td>\n",
       "      <td>...</td>\n",
       "      <td>...</td>\n",
       "      <td>...</td>\n",
       "      <td>...</td>\n",
       "      <td>...</td>\n",
       "      <td>...</td>\n",
       "      <td>...</td>\n",
       "      <td>...</td>\n",
       "      <td>...</td>\n",
       "      <td>...</td>\n",
       "      <td>...</td>\n",
       "      <td>...</td>\n",
       "      <td>...</td>\n",
       "      <td>...</td>\n",
       "      <td>...</td>\n",
       "      <td>...</td>\n",
       "      <td>...</td>\n",
       "      <td>...</td>\n",
       "    </tr>\n",
       "    <tr>\n",
       "      <th>13575</th>\n",
       "      <td>Wheelers Hill</td>\n",
       "      <td>12 Strada Cr</td>\n",
       "      <td>4</td>\n",
       "      <td>h</td>\n",
       "      <td>1245000.0</td>\n",
       "      <td>S</td>\n",
       "      <td>Barry</td>\n",
       "      <td>26/08/2017</td>\n",
       "      <td>16.7</td>\n",
       "      <td>3150.0</td>\n",
       "      <td>...</td>\n",
       "      <td>2.0</td>\n",
       "      <td>2.0</td>\n",
       "      <td>652.0</td>\n",
       "      <td>NaN</td>\n",
       "      <td>1981.0</td>\n",
       "      <td>NaN</td>\n",
       "      <td>-37.90562</td>\n",
       "      <td>145.16761</td>\n",
       "      <td>South-Eastern Metropolitan</td>\n",
       "      <td>7392.0</td>\n",
       "    </tr>\n",
       "    <tr>\n",
       "      <th>13576</th>\n",
       "      <td>Williamstown</td>\n",
       "      <td>77 Merrett Dr</td>\n",
       "      <td>3</td>\n",
       "      <td>h</td>\n",
       "      <td>1031000.0</td>\n",
       "      <td>SP</td>\n",
       "      <td>Williams</td>\n",
       "      <td>26/08/2017</td>\n",
       "      <td>6.8</td>\n",
       "      <td>3016.0</td>\n",
       "      <td>...</td>\n",
       "      <td>2.0</td>\n",
       "      <td>2.0</td>\n",
       "      <td>333.0</td>\n",
       "      <td>133.0</td>\n",
       "      <td>1995.0</td>\n",
       "      <td>NaN</td>\n",
       "      <td>-37.85927</td>\n",
       "      <td>144.87904</td>\n",
       "      <td>Western Metropolitan</td>\n",
       "      <td>6380.0</td>\n",
       "    </tr>\n",
       "    <tr>\n",
       "      <th>13577</th>\n",
       "      <td>Williamstown</td>\n",
       "      <td>83 Power St</td>\n",
       "      <td>3</td>\n",
       "      <td>h</td>\n",
       "      <td>1170000.0</td>\n",
       "      <td>S</td>\n",
       "      <td>Raine</td>\n",
       "      <td>26/08/2017</td>\n",
       "      <td>6.8</td>\n",
       "      <td>3016.0</td>\n",
       "      <td>...</td>\n",
       "      <td>2.0</td>\n",
       "      <td>4.0</td>\n",
       "      <td>436.0</td>\n",
       "      <td>NaN</td>\n",
       "      <td>1997.0</td>\n",
       "      <td>NaN</td>\n",
       "      <td>-37.85274</td>\n",
       "      <td>144.88738</td>\n",
       "      <td>Western Metropolitan</td>\n",
       "      <td>6380.0</td>\n",
       "    </tr>\n",
       "    <tr>\n",
       "      <th>13578</th>\n",
       "      <td>Williamstown</td>\n",
       "      <td>96 Verdon St</td>\n",
       "      <td>4</td>\n",
       "      <td>h</td>\n",
       "      <td>2500000.0</td>\n",
       "      <td>PI</td>\n",
       "      <td>Sweeney</td>\n",
       "      <td>26/08/2017</td>\n",
       "      <td>6.8</td>\n",
       "      <td>3016.0</td>\n",
       "      <td>...</td>\n",
       "      <td>1.0</td>\n",
       "      <td>5.0</td>\n",
       "      <td>866.0</td>\n",
       "      <td>157.0</td>\n",
       "      <td>1920.0</td>\n",
       "      <td>NaN</td>\n",
       "      <td>-37.85908</td>\n",
       "      <td>144.89299</td>\n",
       "      <td>Western Metropolitan</td>\n",
       "      <td>6380.0</td>\n",
       "    </tr>\n",
       "    <tr>\n",
       "      <th>13579</th>\n",
       "      <td>Yarraville</td>\n",
       "      <td>6 Agnes St</td>\n",
       "      <td>4</td>\n",
       "      <td>h</td>\n",
       "      <td>1285000.0</td>\n",
       "      <td>SP</td>\n",
       "      <td>Village</td>\n",
       "      <td>26/08/2017</td>\n",
       "      <td>6.3</td>\n",
       "      <td>3013.0</td>\n",
       "      <td>...</td>\n",
       "      <td>1.0</td>\n",
       "      <td>1.0</td>\n",
       "      <td>362.0</td>\n",
       "      <td>112.0</td>\n",
       "      <td>1920.0</td>\n",
       "      <td>NaN</td>\n",
       "      <td>-37.81188</td>\n",
       "      <td>144.88449</td>\n",
       "      <td>Western Metropolitan</td>\n",
       "      <td>6543.0</td>\n",
       "    </tr>\n",
       "  </tbody>\n",
       "</table>\n",
       "<p>13580 rows × 21 columns</p>\n",
       "</div>"
      ],
      "text/plain": [
       "              Suburb           Address  Rooms Type      Price Method  \\\n",
       "0         Abbotsford      85 Turner St      2    h  1480000.0      S   \n",
       "1         Abbotsford   25 Bloomburg St      2    h  1035000.0      S   \n",
       "2         Abbotsford      5 Charles St      3    h  1465000.0     SP   \n",
       "3         Abbotsford  40 Federation La      3    h   850000.0     PI   \n",
       "4         Abbotsford       55a Park St      4    h  1600000.0     VB   \n",
       "...              ...               ...    ...  ...        ...    ...   \n",
       "13575  Wheelers Hill      12 Strada Cr      4    h  1245000.0      S   \n",
       "13576   Williamstown     77 Merrett Dr      3    h  1031000.0     SP   \n",
       "13577   Williamstown       83 Power St      3    h  1170000.0      S   \n",
       "13578   Williamstown      96 Verdon St      4    h  2500000.0     PI   \n",
       "13579     Yarraville        6 Agnes St      4    h  1285000.0     SP   \n",
       "\n",
       "        SellerG        Date  Distance  Postcode  ...  Bathroom  Car  Landsize  \\\n",
       "0        Biggin   3/12/2016       2.5    3067.0  ...       1.0  1.0     202.0   \n",
       "1        Biggin   4/02/2016       2.5    3067.0  ...       1.0  0.0     156.0   \n",
       "2        Biggin   4/03/2017       2.5    3067.0  ...       2.0  0.0     134.0   \n",
       "3        Biggin   4/03/2017       2.5    3067.0  ...       2.0  1.0      94.0   \n",
       "4        Nelson   4/06/2016       2.5    3067.0  ...       1.0  2.0     120.0   \n",
       "...         ...         ...       ...       ...  ...       ...  ...       ...   \n",
       "13575     Barry  26/08/2017      16.7    3150.0  ...       2.0  2.0     652.0   \n",
       "13576  Williams  26/08/2017       6.8    3016.0  ...       2.0  2.0     333.0   \n",
       "13577     Raine  26/08/2017       6.8    3016.0  ...       2.0  4.0     436.0   \n",
       "13578   Sweeney  26/08/2017       6.8    3016.0  ...       1.0  5.0     866.0   \n",
       "13579   Village  26/08/2017       6.3    3013.0  ...       1.0  1.0     362.0   \n",
       "\n",
       "       BuildingArea  YearBuilt  CouncilArea Lattitude  Longtitude  \\\n",
       "0               NaN        NaN        Yarra -37.79960   144.99840   \n",
       "1              79.0     1900.0        Yarra -37.80790   144.99340   \n",
       "2             150.0     1900.0        Yarra -37.80930   144.99440   \n",
       "3               NaN        NaN        Yarra -37.79690   144.99690   \n",
       "4             142.0     2014.0        Yarra -37.80720   144.99410   \n",
       "...             ...        ...          ...       ...         ...   \n",
       "13575           NaN     1981.0          NaN -37.90562   145.16761   \n",
       "13576         133.0     1995.0          NaN -37.85927   144.87904   \n",
       "13577           NaN     1997.0          NaN -37.85274   144.88738   \n",
       "13578         157.0     1920.0          NaN -37.85908   144.89299   \n",
       "13579         112.0     1920.0          NaN -37.81188   144.88449   \n",
       "\n",
       "                       Regionname Propertycount  \n",
       "0           Northern Metropolitan        4019.0  \n",
       "1           Northern Metropolitan        4019.0  \n",
       "2           Northern Metropolitan        4019.0  \n",
       "3           Northern Metropolitan        4019.0  \n",
       "4           Northern Metropolitan        4019.0  \n",
       "...                           ...           ...  \n",
       "13575  South-Eastern Metropolitan        7392.0  \n",
       "13576        Western Metropolitan        6380.0  \n",
       "13577        Western Metropolitan        6380.0  \n",
       "13578        Western Metropolitan        6380.0  \n",
       "13579        Western Metropolitan        6543.0  \n",
       "\n",
       "[13580 rows x 21 columns]"
      ]
     },
     "execution_count": 3,
     "metadata": {},
     "output_type": "execute_result"
    }
   ],
   "source": [
    "df"
   ]
  },
  {
   "cell_type": "code",
   "execution_count": 4,
   "metadata": {},
   "outputs": [],
   "source": [
    "df.insert(0, 'ID', range(1, 1 + len(df)))\n",
    "df.set_index(\"ID\",inplace=True)"
   ]
  },
  {
   "cell_type": "code",
   "execution_count": 5,
   "metadata": {},
   "outputs": [
    {
     "data": {
      "text/html": [
       "<div>\n",
       "<style scoped>\n",
       "    .dataframe tbody tr th:only-of-type {\n",
       "        vertical-align: middle;\n",
       "    }\n",
       "\n",
       "    .dataframe tbody tr th {\n",
       "        vertical-align: top;\n",
       "    }\n",
       "\n",
       "    .dataframe thead th {\n",
       "        text-align: right;\n",
       "    }\n",
       "</style>\n",
       "<table border=\"1\" class=\"dataframe\">\n",
       "  <thead>\n",
       "    <tr style=\"text-align: right;\">\n",
       "      <th></th>\n",
       "      <th>Suburb</th>\n",
       "      <th>Address</th>\n",
       "      <th>Rooms</th>\n",
       "      <th>Type</th>\n",
       "      <th>Price</th>\n",
       "      <th>Method</th>\n",
       "      <th>SellerG</th>\n",
       "      <th>Date</th>\n",
       "      <th>Distance</th>\n",
       "      <th>Postcode</th>\n",
       "      <th>...</th>\n",
       "      <th>Bathroom</th>\n",
       "      <th>Car</th>\n",
       "      <th>Landsize</th>\n",
       "      <th>BuildingArea</th>\n",
       "      <th>YearBuilt</th>\n",
       "      <th>CouncilArea</th>\n",
       "      <th>Lattitude</th>\n",
       "      <th>Longtitude</th>\n",
       "      <th>Regionname</th>\n",
       "      <th>Propertycount</th>\n",
       "    </tr>\n",
       "    <tr>\n",
       "      <th>ID</th>\n",
       "      <th></th>\n",
       "      <th></th>\n",
       "      <th></th>\n",
       "      <th></th>\n",
       "      <th></th>\n",
       "      <th></th>\n",
       "      <th></th>\n",
       "      <th></th>\n",
       "      <th></th>\n",
       "      <th></th>\n",
       "      <th></th>\n",
       "      <th></th>\n",
       "      <th></th>\n",
       "      <th></th>\n",
       "      <th></th>\n",
       "      <th></th>\n",
       "      <th></th>\n",
       "      <th></th>\n",
       "      <th></th>\n",
       "      <th></th>\n",
       "      <th></th>\n",
       "    </tr>\n",
       "  </thead>\n",
       "  <tbody>\n",
       "    <tr>\n",
       "      <th>1</th>\n",
       "      <td>Abbotsford</td>\n",
       "      <td>85 Turner St</td>\n",
       "      <td>2</td>\n",
       "      <td>h</td>\n",
       "      <td>1480000.0</td>\n",
       "      <td>S</td>\n",
       "      <td>Biggin</td>\n",
       "      <td>3/12/2016</td>\n",
       "      <td>2.5</td>\n",
       "      <td>3067.0</td>\n",
       "      <td>...</td>\n",
       "      <td>1.0</td>\n",
       "      <td>1.0</td>\n",
       "      <td>202.0</td>\n",
       "      <td>NaN</td>\n",
       "      <td>NaN</td>\n",
       "      <td>Yarra</td>\n",
       "      <td>-37.79960</td>\n",
       "      <td>144.99840</td>\n",
       "      <td>Northern Metropolitan</td>\n",
       "      <td>4019.0</td>\n",
       "    </tr>\n",
       "    <tr>\n",
       "      <th>2</th>\n",
       "      <td>Abbotsford</td>\n",
       "      <td>25 Bloomburg St</td>\n",
       "      <td>2</td>\n",
       "      <td>h</td>\n",
       "      <td>1035000.0</td>\n",
       "      <td>S</td>\n",
       "      <td>Biggin</td>\n",
       "      <td>4/02/2016</td>\n",
       "      <td>2.5</td>\n",
       "      <td>3067.0</td>\n",
       "      <td>...</td>\n",
       "      <td>1.0</td>\n",
       "      <td>0.0</td>\n",
       "      <td>156.0</td>\n",
       "      <td>79.0</td>\n",
       "      <td>1900.0</td>\n",
       "      <td>Yarra</td>\n",
       "      <td>-37.80790</td>\n",
       "      <td>144.99340</td>\n",
       "      <td>Northern Metropolitan</td>\n",
       "      <td>4019.0</td>\n",
       "    </tr>\n",
       "    <tr>\n",
       "      <th>3</th>\n",
       "      <td>Abbotsford</td>\n",
       "      <td>5 Charles St</td>\n",
       "      <td>3</td>\n",
       "      <td>h</td>\n",
       "      <td>1465000.0</td>\n",
       "      <td>SP</td>\n",
       "      <td>Biggin</td>\n",
       "      <td>4/03/2017</td>\n",
       "      <td>2.5</td>\n",
       "      <td>3067.0</td>\n",
       "      <td>...</td>\n",
       "      <td>2.0</td>\n",
       "      <td>0.0</td>\n",
       "      <td>134.0</td>\n",
       "      <td>150.0</td>\n",
       "      <td>1900.0</td>\n",
       "      <td>Yarra</td>\n",
       "      <td>-37.80930</td>\n",
       "      <td>144.99440</td>\n",
       "      <td>Northern Metropolitan</td>\n",
       "      <td>4019.0</td>\n",
       "    </tr>\n",
       "    <tr>\n",
       "      <th>4</th>\n",
       "      <td>Abbotsford</td>\n",
       "      <td>40 Federation La</td>\n",
       "      <td>3</td>\n",
       "      <td>h</td>\n",
       "      <td>850000.0</td>\n",
       "      <td>PI</td>\n",
       "      <td>Biggin</td>\n",
       "      <td>4/03/2017</td>\n",
       "      <td>2.5</td>\n",
       "      <td>3067.0</td>\n",
       "      <td>...</td>\n",
       "      <td>2.0</td>\n",
       "      <td>1.0</td>\n",
       "      <td>94.0</td>\n",
       "      <td>NaN</td>\n",
       "      <td>NaN</td>\n",
       "      <td>Yarra</td>\n",
       "      <td>-37.79690</td>\n",
       "      <td>144.99690</td>\n",
       "      <td>Northern Metropolitan</td>\n",
       "      <td>4019.0</td>\n",
       "    </tr>\n",
       "    <tr>\n",
       "      <th>5</th>\n",
       "      <td>Abbotsford</td>\n",
       "      <td>55a Park St</td>\n",
       "      <td>4</td>\n",
       "      <td>h</td>\n",
       "      <td>1600000.0</td>\n",
       "      <td>VB</td>\n",
       "      <td>Nelson</td>\n",
       "      <td>4/06/2016</td>\n",
       "      <td>2.5</td>\n",
       "      <td>3067.0</td>\n",
       "      <td>...</td>\n",
       "      <td>1.0</td>\n",
       "      <td>2.0</td>\n",
       "      <td>120.0</td>\n",
       "      <td>142.0</td>\n",
       "      <td>2014.0</td>\n",
       "      <td>Yarra</td>\n",
       "      <td>-37.80720</td>\n",
       "      <td>144.99410</td>\n",
       "      <td>Northern Metropolitan</td>\n",
       "      <td>4019.0</td>\n",
       "    </tr>\n",
       "    <tr>\n",
       "      <th>...</th>\n",
       "      <td>...</td>\n",
       "      <td>...</td>\n",
       "      <td>...</td>\n",
       "      <td>...</td>\n",
       "      <td>...</td>\n",
       "      <td>...</td>\n",
       "      <td>...</td>\n",
       "      <td>...</td>\n",
       "      <td>...</td>\n",
       "      <td>...</td>\n",
       "      <td>...</td>\n",
       "      <td>...</td>\n",
       "      <td>...</td>\n",
       "      <td>...</td>\n",
       "      <td>...</td>\n",
       "      <td>...</td>\n",
       "      <td>...</td>\n",
       "      <td>...</td>\n",
       "      <td>...</td>\n",
       "      <td>...</td>\n",
       "      <td>...</td>\n",
       "    </tr>\n",
       "    <tr>\n",
       "      <th>13576</th>\n",
       "      <td>Wheelers Hill</td>\n",
       "      <td>12 Strada Cr</td>\n",
       "      <td>4</td>\n",
       "      <td>h</td>\n",
       "      <td>1245000.0</td>\n",
       "      <td>S</td>\n",
       "      <td>Barry</td>\n",
       "      <td>26/08/2017</td>\n",
       "      <td>16.7</td>\n",
       "      <td>3150.0</td>\n",
       "      <td>...</td>\n",
       "      <td>2.0</td>\n",
       "      <td>2.0</td>\n",
       "      <td>652.0</td>\n",
       "      <td>NaN</td>\n",
       "      <td>1981.0</td>\n",
       "      <td>NaN</td>\n",
       "      <td>-37.90562</td>\n",
       "      <td>145.16761</td>\n",
       "      <td>South-Eastern Metropolitan</td>\n",
       "      <td>7392.0</td>\n",
       "    </tr>\n",
       "    <tr>\n",
       "      <th>13577</th>\n",
       "      <td>Williamstown</td>\n",
       "      <td>77 Merrett Dr</td>\n",
       "      <td>3</td>\n",
       "      <td>h</td>\n",
       "      <td>1031000.0</td>\n",
       "      <td>SP</td>\n",
       "      <td>Williams</td>\n",
       "      <td>26/08/2017</td>\n",
       "      <td>6.8</td>\n",
       "      <td>3016.0</td>\n",
       "      <td>...</td>\n",
       "      <td>2.0</td>\n",
       "      <td>2.0</td>\n",
       "      <td>333.0</td>\n",
       "      <td>133.0</td>\n",
       "      <td>1995.0</td>\n",
       "      <td>NaN</td>\n",
       "      <td>-37.85927</td>\n",
       "      <td>144.87904</td>\n",
       "      <td>Western Metropolitan</td>\n",
       "      <td>6380.0</td>\n",
       "    </tr>\n",
       "    <tr>\n",
       "      <th>13578</th>\n",
       "      <td>Williamstown</td>\n",
       "      <td>83 Power St</td>\n",
       "      <td>3</td>\n",
       "      <td>h</td>\n",
       "      <td>1170000.0</td>\n",
       "      <td>S</td>\n",
       "      <td>Raine</td>\n",
       "      <td>26/08/2017</td>\n",
       "      <td>6.8</td>\n",
       "      <td>3016.0</td>\n",
       "      <td>...</td>\n",
       "      <td>2.0</td>\n",
       "      <td>4.0</td>\n",
       "      <td>436.0</td>\n",
       "      <td>NaN</td>\n",
       "      <td>1997.0</td>\n",
       "      <td>NaN</td>\n",
       "      <td>-37.85274</td>\n",
       "      <td>144.88738</td>\n",
       "      <td>Western Metropolitan</td>\n",
       "      <td>6380.0</td>\n",
       "    </tr>\n",
       "    <tr>\n",
       "      <th>13579</th>\n",
       "      <td>Williamstown</td>\n",
       "      <td>96 Verdon St</td>\n",
       "      <td>4</td>\n",
       "      <td>h</td>\n",
       "      <td>2500000.0</td>\n",
       "      <td>PI</td>\n",
       "      <td>Sweeney</td>\n",
       "      <td>26/08/2017</td>\n",
       "      <td>6.8</td>\n",
       "      <td>3016.0</td>\n",
       "      <td>...</td>\n",
       "      <td>1.0</td>\n",
       "      <td>5.0</td>\n",
       "      <td>866.0</td>\n",
       "      <td>157.0</td>\n",
       "      <td>1920.0</td>\n",
       "      <td>NaN</td>\n",
       "      <td>-37.85908</td>\n",
       "      <td>144.89299</td>\n",
       "      <td>Western Metropolitan</td>\n",
       "      <td>6380.0</td>\n",
       "    </tr>\n",
       "    <tr>\n",
       "      <th>13580</th>\n",
       "      <td>Yarraville</td>\n",
       "      <td>6 Agnes St</td>\n",
       "      <td>4</td>\n",
       "      <td>h</td>\n",
       "      <td>1285000.0</td>\n",
       "      <td>SP</td>\n",
       "      <td>Village</td>\n",
       "      <td>26/08/2017</td>\n",
       "      <td>6.3</td>\n",
       "      <td>3013.0</td>\n",
       "      <td>...</td>\n",
       "      <td>1.0</td>\n",
       "      <td>1.0</td>\n",
       "      <td>362.0</td>\n",
       "      <td>112.0</td>\n",
       "      <td>1920.0</td>\n",
       "      <td>NaN</td>\n",
       "      <td>-37.81188</td>\n",
       "      <td>144.88449</td>\n",
       "      <td>Western Metropolitan</td>\n",
       "      <td>6543.0</td>\n",
       "    </tr>\n",
       "  </tbody>\n",
       "</table>\n",
       "<p>13580 rows × 21 columns</p>\n",
       "</div>"
      ],
      "text/plain": [
       "              Suburb           Address  Rooms Type      Price Method  \\\n",
       "ID                                                                     \n",
       "1         Abbotsford      85 Turner St      2    h  1480000.0      S   \n",
       "2         Abbotsford   25 Bloomburg St      2    h  1035000.0      S   \n",
       "3         Abbotsford      5 Charles St      3    h  1465000.0     SP   \n",
       "4         Abbotsford  40 Federation La      3    h   850000.0     PI   \n",
       "5         Abbotsford       55a Park St      4    h  1600000.0     VB   \n",
       "...              ...               ...    ...  ...        ...    ...   \n",
       "13576  Wheelers Hill      12 Strada Cr      4    h  1245000.0      S   \n",
       "13577   Williamstown     77 Merrett Dr      3    h  1031000.0     SP   \n",
       "13578   Williamstown       83 Power St      3    h  1170000.0      S   \n",
       "13579   Williamstown      96 Verdon St      4    h  2500000.0     PI   \n",
       "13580     Yarraville        6 Agnes St      4    h  1285000.0     SP   \n",
       "\n",
       "        SellerG        Date  Distance  Postcode  ...  Bathroom  Car  Landsize  \\\n",
       "ID                                               ...                            \n",
       "1        Biggin   3/12/2016       2.5    3067.0  ...       1.0  1.0     202.0   \n",
       "2        Biggin   4/02/2016       2.5    3067.0  ...       1.0  0.0     156.0   \n",
       "3        Biggin   4/03/2017       2.5    3067.0  ...       2.0  0.0     134.0   \n",
       "4        Biggin   4/03/2017       2.5    3067.0  ...       2.0  1.0      94.0   \n",
       "5        Nelson   4/06/2016       2.5    3067.0  ...       1.0  2.0     120.0   \n",
       "...         ...         ...       ...       ...  ...       ...  ...       ...   \n",
       "13576     Barry  26/08/2017      16.7    3150.0  ...       2.0  2.0     652.0   \n",
       "13577  Williams  26/08/2017       6.8    3016.0  ...       2.0  2.0     333.0   \n",
       "13578     Raine  26/08/2017       6.8    3016.0  ...       2.0  4.0     436.0   \n",
       "13579   Sweeney  26/08/2017       6.8    3016.0  ...       1.0  5.0     866.0   \n",
       "13580   Village  26/08/2017       6.3    3013.0  ...       1.0  1.0     362.0   \n",
       "\n",
       "       BuildingArea  YearBuilt  CouncilArea Lattitude  Longtitude  \\\n",
       "ID                                                                  \n",
       "1               NaN        NaN        Yarra -37.79960   144.99840   \n",
       "2              79.0     1900.0        Yarra -37.80790   144.99340   \n",
       "3             150.0     1900.0        Yarra -37.80930   144.99440   \n",
       "4               NaN        NaN        Yarra -37.79690   144.99690   \n",
       "5             142.0     2014.0        Yarra -37.80720   144.99410   \n",
       "...             ...        ...          ...       ...         ...   \n",
       "13576           NaN     1981.0          NaN -37.90562   145.16761   \n",
       "13577         133.0     1995.0          NaN -37.85927   144.87904   \n",
       "13578           NaN     1997.0          NaN -37.85274   144.88738   \n",
       "13579         157.0     1920.0          NaN -37.85908   144.89299   \n",
       "13580         112.0     1920.0          NaN -37.81188   144.88449   \n",
       "\n",
       "                       Regionname Propertycount  \n",
       "ID                                               \n",
       "1           Northern Metropolitan        4019.0  \n",
       "2           Northern Metropolitan        4019.0  \n",
       "3           Northern Metropolitan        4019.0  \n",
       "4           Northern Metropolitan        4019.0  \n",
       "5           Northern Metropolitan        4019.0  \n",
       "...                           ...           ...  \n",
       "13576  South-Eastern Metropolitan        7392.0  \n",
       "13577        Western Metropolitan        6380.0  \n",
       "13578        Western Metropolitan        6380.0  \n",
       "13579        Western Metropolitan        6380.0  \n",
       "13580        Western Metropolitan        6543.0  \n",
       "\n",
       "[13580 rows x 21 columns]"
      ]
     },
     "execution_count": 5,
     "metadata": {},
     "output_type": "execute_result"
    }
   ],
   "source": [
    "df"
   ]
  },
  {
   "cell_type": "code",
   "execution_count": 6,
   "metadata": {},
   "outputs": [
    {
     "name": "stdout",
     "output_type": "stream",
     "text": [
      "<class 'pandas.core.frame.DataFrame'>\n",
      "Int64Index: 13580 entries, 1 to 13580\n",
      "Data columns (total 21 columns):\n",
      " #   Column         Non-Null Count  Dtype  \n",
      "---  ------         --------------  -----  \n",
      " 0   Suburb         13580 non-null  object \n",
      " 1   Address        13580 non-null  object \n",
      " 2   Rooms          13580 non-null  int64  \n",
      " 3   Type           13580 non-null  object \n",
      " 4   Price          13580 non-null  float64\n",
      " 5   Method         13580 non-null  object \n",
      " 6   SellerG        13580 non-null  object \n",
      " 7   Date           13580 non-null  object \n",
      " 8   Distance       13580 non-null  float64\n",
      " 9   Postcode       13580 non-null  float64\n",
      " 10  Bedroom2       13580 non-null  float64\n",
      " 11  Bathroom       13580 non-null  float64\n",
      " 12  Car            13518 non-null  float64\n",
      " 13  Landsize       13580 non-null  float64\n",
      " 14  BuildingArea   7130 non-null   float64\n",
      " 15  YearBuilt      8205 non-null   float64\n",
      " 16  CouncilArea    12211 non-null  object \n",
      " 17  Lattitude      13580 non-null  float64\n",
      " 18  Longtitude     13580 non-null  float64\n",
      " 19  Regionname     13580 non-null  object \n",
      " 20  Propertycount  13580 non-null  float64\n",
      "dtypes: float64(12), int64(1), object(8)\n",
      "memory usage: 2.3+ MB\n"
     ]
    }
   ],
   "source": [
    "df.info()"
   ]
  },
  {
   "cell_type": "code",
   "execution_count": 7,
   "metadata": {},
   "outputs": [
    {
     "data": {
      "text/plain": [
       "(13580, 21)"
      ]
     },
     "execution_count": 7,
     "metadata": {},
     "output_type": "execute_result"
    }
   ],
   "source": [
    "df.shape"
   ]
  },
  {
   "cell_type": "code",
   "execution_count": 8,
   "metadata": {},
   "outputs": [
    {
     "data": {
      "text/plain": [
       "Suburb              0\n",
       "Address             0\n",
       "Rooms               0\n",
       "Type                0\n",
       "Price               0\n",
       "Method              0\n",
       "SellerG             0\n",
       "Date                0\n",
       "Distance            0\n",
       "Postcode            0\n",
       "Bedroom2            0\n",
       "Bathroom            0\n",
       "Car                62\n",
       "Landsize            0\n",
       "BuildingArea     6450\n",
       "YearBuilt        5375\n",
       "CouncilArea      1369\n",
       "Lattitude           0\n",
       "Longtitude          0\n",
       "Regionname          0\n",
       "Propertycount       0\n",
       "dtype: int64"
      ]
     },
     "execution_count": 8,
     "metadata": {},
     "output_type": "execute_result"
    }
   ],
   "source": [
    "df.isnull().sum()"
   ]
  },
  {
   "cell_type": "code",
   "execution_count": 9,
   "metadata": {},
   "outputs": [
    {
     "name": "stdout",
     "output_type": "stream",
     "text": [
      "Suburb            0.000000\n",
      "Address           0.000000\n",
      "Rooms             0.000000\n",
      "Type              0.000000\n",
      "Price             0.000000\n",
      "Method            0.000000\n",
      "SellerG           0.000000\n",
      "Date              0.000000\n",
      "Distance          0.000000\n",
      "Postcode          0.000000\n",
      "Bedroom2          0.000000\n",
      "Bathroom          0.000000\n",
      "Car               0.456554\n",
      "Landsize          0.000000\n",
      "BuildingArea     47.496318\n",
      "YearBuilt        39.580265\n",
      "CouncilArea      10.081001\n",
      "Lattitude         0.000000\n",
      "Longtitude        0.000000\n",
      "Regionname        0.000000\n",
      "Propertycount     0.000000\n",
      "dtype: float64\n"
     ]
    }
   ],
   "source": [
    "nullper=(df.isnull().sum()/len(df))*100\n",
    "print(nullper)"
   ]
  },
  {
   "cell_type": "code",
   "execution_count": 10,
   "metadata": {},
   "outputs": [],
   "source": [
    "# remove CouncilArea becasue there are in categorical data\n",
    "df.drop([\"CouncilArea\"],axis=1,inplace=True)"
   ]
  },
  {
   "cell_type": "code",
   "execution_count": 11,
   "metadata": {},
   "outputs": [
    {
     "data": {
      "text/html": [
       "<div>\n",
       "<style scoped>\n",
       "    .dataframe tbody tr th:only-of-type {\n",
       "        vertical-align: middle;\n",
       "    }\n",
       "\n",
       "    .dataframe tbody tr th {\n",
       "        vertical-align: top;\n",
       "    }\n",
       "\n",
       "    .dataframe thead th {\n",
       "        text-align: right;\n",
       "    }\n",
       "</style>\n",
       "<table border=\"1\" class=\"dataframe\">\n",
       "  <thead>\n",
       "    <tr style=\"text-align: right;\">\n",
       "      <th></th>\n",
       "      <th>Suburb</th>\n",
       "      <th>Address</th>\n",
       "      <th>Rooms</th>\n",
       "      <th>Type</th>\n",
       "      <th>Price</th>\n",
       "      <th>Method</th>\n",
       "      <th>SellerG</th>\n",
       "      <th>Date</th>\n",
       "      <th>Distance</th>\n",
       "      <th>Postcode</th>\n",
       "      <th>Bedroom2</th>\n",
       "      <th>Bathroom</th>\n",
       "      <th>Car</th>\n",
       "      <th>Landsize</th>\n",
       "      <th>BuildingArea</th>\n",
       "      <th>YearBuilt</th>\n",
       "      <th>Lattitude</th>\n",
       "      <th>Longtitude</th>\n",
       "      <th>Regionname</th>\n",
       "      <th>Propertycount</th>\n",
       "    </tr>\n",
       "    <tr>\n",
       "      <th>ID</th>\n",
       "      <th></th>\n",
       "      <th></th>\n",
       "      <th></th>\n",
       "      <th></th>\n",
       "      <th></th>\n",
       "      <th></th>\n",
       "      <th></th>\n",
       "      <th></th>\n",
       "      <th></th>\n",
       "      <th></th>\n",
       "      <th></th>\n",
       "      <th></th>\n",
       "      <th></th>\n",
       "      <th></th>\n",
       "      <th></th>\n",
       "      <th></th>\n",
       "      <th></th>\n",
       "      <th></th>\n",
       "      <th></th>\n",
       "      <th></th>\n",
       "    </tr>\n",
       "  </thead>\n",
       "  <tbody>\n",
       "    <tr>\n",
       "      <th>1</th>\n",
       "      <td>Abbotsford</td>\n",
       "      <td>85 Turner St</td>\n",
       "      <td>2</td>\n",
       "      <td>h</td>\n",
       "      <td>1480000.0</td>\n",
       "      <td>S</td>\n",
       "      <td>Biggin</td>\n",
       "      <td>3/12/2016</td>\n",
       "      <td>2.5</td>\n",
       "      <td>3067.0</td>\n",
       "      <td>2.0</td>\n",
       "      <td>1.0</td>\n",
       "      <td>1.0</td>\n",
       "      <td>202.0</td>\n",
       "      <td>NaN</td>\n",
       "      <td>NaN</td>\n",
       "      <td>-37.79960</td>\n",
       "      <td>144.99840</td>\n",
       "      <td>Northern Metropolitan</td>\n",
       "      <td>4019.0</td>\n",
       "    </tr>\n",
       "    <tr>\n",
       "      <th>2</th>\n",
       "      <td>Abbotsford</td>\n",
       "      <td>25 Bloomburg St</td>\n",
       "      <td>2</td>\n",
       "      <td>h</td>\n",
       "      <td>1035000.0</td>\n",
       "      <td>S</td>\n",
       "      <td>Biggin</td>\n",
       "      <td>4/02/2016</td>\n",
       "      <td>2.5</td>\n",
       "      <td>3067.0</td>\n",
       "      <td>2.0</td>\n",
       "      <td>1.0</td>\n",
       "      <td>0.0</td>\n",
       "      <td>156.0</td>\n",
       "      <td>79.0</td>\n",
       "      <td>1900.0</td>\n",
       "      <td>-37.80790</td>\n",
       "      <td>144.99340</td>\n",
       "      <td>Northern Metropolitan</td>\n",
       "      <td>4019.0</td>\n",
       "    </tr>\n",
       "    <tr>\n",
       "      <th>3</th>\n",
       "      <td>Abbotsford</td>\n",
       "      <td>5 Charles St</td>\n",
       "      <td>3</td>\n",
       "      <td>h</td>\n",
       "      <td>1465000.0</td>\n",
       "      <td>SP</td>\n",
       "      <td>Biggin</td>\n",
       "      <td>4/03/2017</td>\n",
       "      <td>2.5</td>\n",
       "      <td>3067.0</td>\n",
       "      <td>3.0</td>\n",
       "      <td>2.0</td>\n",
       "      <td>0.0</td>\n",
       "      <td>134.0</td>\n",
       "      <td>150.0</td>\n",
       "      <td>1900.0</td>\n",
       "      <td>-37.80930</td>\n",
       "      <td>144.99440</td>\n",
       "      <td>Northern Metropolitan</td>\n",
       "      <td>4019.0</td>\n",
       "    </tr>\n",
       "    <tr>\n",
       "      <th>4</th>\n",
       "      <td>Abbotsford</td>\n",
       "      <td>40 Federation La</td>\n",
       "      <td>3</td>\n",
       "      <td>h</td>\n",
       "      <td>850000.0</td>\n",
       "      <td>PI</td>\n",
       "      <td>Biggin</td>\n",
       "      <td>4/03/2017</td>\n",
       "      <td>2.5</td>\n",
       "      <td>3067.0</td>\n",
       "      <td>3.0</td>\n",
       "      <td>2.0</td>\n",
       "      <td>1.0</td>\n",
       "      <td>94.0</td>\n",
       "      <td>NaN</td>\n",
       "      <td>NaN</td>\n",
       "      <td>-37.79690</td>\n",
       "      <td>144.99690</td>\n",
       "      <td>Northern Metropolitan</td>\n",
       "      <td>4019.0</td>\n",
       "    </tr>\n",
       "    <tr>\n",
       "      <th>5</th>\n",
       "      <td>Abbotsford</td>\n",
       "      <td>55a Park St</td>\n",
       "      <td>4</td>\n",
       "      <td>h</td>\n",
       "      <td>1600000.0</td>\n",
       "      <td>VB</td>\n",
       "      <td>Nelson</td>\n",
       "      <td>4/06/2016</td>\n",
       "      <td>2.5</td>\n",
       "      <td>3067.0</td>\n",
       "      <td>3.0</td>\n",
       "      <td>1.0</td>\n",
       "      <td>2.0</td>\n",
       "      <td>120.0</td>\n",
       "      <td>142.0</td>\n",
       "      <td>2014.0</td>\n",
       "      <td>-37.80720</td>\n",
       "      <td>144.99410</td>\n",
       "      <td>Northern Metropolitan</td>\n",
       "      <td>4019.0</td>\n",
       "    </tr>\n",
       "    <tr>\n",
       "      <th>...</th>\n",
       "      <td>...</td>\n",
       "      <td>...</td>\n",
       "      <td>...</td>\n",
       "      <td>...</td>\n",
       "      <td>...</td>\n",
       "      <td>...</td>\n",
       "      <td>...</td>\n",
       "      <td>...</td>\n",
       "      <td>...</td>\n",
       "      <td>...</td>\n",
       "      <td>...</td>\n",
       "      <td>...</td>\n",
       "      <td>...</td>\n",
       "      <td>...</td>\n",
       "      <td>...</td>\n",
       "      <td>...</td>\n",
       "      <td>...</td>\n",
       "      <td>...</td>\n",
       "      <td>...</td>\n",
       "      <td>...</td>\n",
       "    </tr>\n",
       "    <tr>\n",
       "      <th>13576</th>\n",
       "      <td>Wheelers Hill</td>\n",
       "      <td>12 Strada Cr</td>\n",
       "      <td>4</td>\n",
       "      <td>h</td>\n",
       "      <td>1245000.0</td>\n",
       "      <td>S</td>\n",
       "      <td>Barry</td>\n",
       "      <td>26/08/2017</td>\n",
       "      <td>16.7</td>\n",
       "      <td>3150.0</td>\n",
       "      <td>4.0</td>\n",
       "      <td>2.0</td>\n",
       "      <td>2.0</td>\n",
       "      <td>652.0</td>\n",
       "      <td>NaN</td>\n",
       "      <td>1981.0</td>\n",
       "      <td>-37.90562</td>\n",
       "      <td>145.16761</td>\n",
       "      <td>South-Eastern Metropolitan</td>\n",
       "      <td>7392.0</td>\n",
       "    </tr>\n",
       "    <tr>\n",
       "      <th>13577</th>\n",
       "      <td>Williamstown</td>\n",
       "      <td>77 Merrett Dr</td>\n",
       "      <td>3</td>\n",
       "      <td>h</td>\n",
       "      <td>1031000.0</td>\n",
       "      <td>SP</td>\n",
       "      <td>Williams</td>\n",
       "      <td>26/08/2017</td>\n",
       "      <td>6.8</td>\n",
       "      <td>3016.0</td>\n",
       "      <td>3.0</td>\n",
       "      <td>2.0</td>\n",
       "      <td>2.0</td>\n",
       "      <td>333.0</td>\n",
       "      <td>133.0</td>\n",
       "      <td>1995.0</td>\n",
       "      <td>-37.85927</td>\n",
       "      <td>144.87904</td>\n",
       "      <td>Western Metropolitan</td>\n",
       "      <td>6380.0</td>\n",
       "    </tr>\n",
       "    <tr>\n",
       "      <th>13578</th>\n",
       "      <td>Williamstown</td>\n",
       "      <td>83 Power St</td>\n",
       "      <td>3</td>\n",
       "      <td>h</td>\n",
       "      <td>1170000.0</td>\n",
       "      <td>S</td>\n",
       "      <td>Raine</td>\n",
       "      <td>26/08/2017</td>\n",
       "      <td>6.8</td>\n",
       "      <td>3016.0</td>\n",
       "      <td>3.0</td>\n",
       "      <td>2.0</td>\n",
       "      <td>4.0</td>\n",
       "      <td>436.0</td>\n",
       "      <td>NaN</td>\n",
       "      <td>1997.0</td>\n",
       "      <td>-37.85274</td>\n",
       "      <td>144.88738</td>\n",
       "      <td>Western Metropolitan</td>\n",
       "      <td>6380.0</td>\n",
       "    </tr>\n",
       "    <tr>\n",
       "      <th>13579</th>\n",
       "      <td>Williamstown</td>\n",
       "      <td>96 Verdon St</td>\n",
       "      <td>4</td>\n",
       "      <td>h</td>\n",
       "      <td>2500000.0</td>\n",
       "      <td>PI</td>\n",
       "      <td>Sweeney</td>\n",
       "      <td>26/08/2017</td>\n",
       "      <td>6.8</td>\n",
       "      <td>3016.0</td>\n",
       "      <td>4.0</td>\n",
       "      <td>1.0</td>\n",
       "      <td>5.0</td>\n",
       "      <td>866.0</td>\n",
       "      <td>157.0</td>\n",
       "      <td>1920.0</td>\n",
       "      <td>-37.85908</td>\n",
       "      <td>144.89299</td>\n",
       "      <td>Western Metropolitan</td>\n",
       "      <td>6380.0</td>\n",
       "    </tr>\n",
       "    <tr>\n",
       "      <th>13580</th>\n",
       "      <td>Yarraville</td>\n",
       "      <td>6 Agnes St</td>\n",
       "      <td>4</td>\n",
       "      <td>h</td>\n",
       "      <td>1285000.0</td>\n",
       "      <td>SP</td>\n",
       "      <td>Village</td>\n",
       "      <td>26/08/2017</td>\n",
       "      <td>6.3</td>\n",
       "      <td>3013.0</td>\n",
       "      <td>4.0</td>\n",
       "      <td>1.0</td>\n",
       "      <td>1.0</td>\n",
       "      <td>362.0</td>\n",
       "      <td>112.0</td>\n",
       "      <td>1920.0</td>\n",
       "      <td>-37.81188</td>\n",
       "      <td>144.88449</td>\n",
       "      <td>Western Metropolitan</td>\n",
       "      <td>6543.0</td>\n",
       "    </tr>\n",
       "  </tbody>\n",
       "</table>\n",
       "<p>13580 rows × 20 columns</p>\n",
       "</div>"
      ],
      "text/plain": [
       "              Suburb           Address  Rooms Type      Price Method  \\\n",
       "ID                                                                     \n",
       "1         Abbotsford      85 Turner St      2    h  1480000.0      S   \n",
       "2         Abbotsford   25 Bloomburg St      2    h  1035000.0      S   \n",
       "3         Abbotsford      5 Charles St      3    h  1465000.0     SP   \n",
       "4         Abbotsford  40 Federation La      3    h   850000.0     PI   \n",
       "5         Abbotsford       55a Park St      4    h  1600000.0     VB   \n",
       "...              ...               ...    ...  ...        ...    ...   \n",
       "13576  Wheelers Hill      12 Strada Cr      4    h  1245000.0      S   \n",
       "13577   Williamstown     77 Merrett Dr      3    h  1031000.0     SP   \n",
       "13578   Williamstown       83 Power St      3    h  1170000.0      S   \n",
       "13579   Williamstown      96 Verdon St      4    h  2500000.0     PI   \n",
       "13580     Yarraville        6 Agnes St      4    h  1285000.0     SP   \n",
       "\n",
       "        SellerG        Date  Distance  Postcode  Bedroom2  Bathroom  Car  \\\n",
       "ID                                                                         \n",
       "1        Biggin   3/12/2016       2.5    3067.0       2.0       1.0  1.0   \n",
       "2        Biggin   4/02/2016       2.5    3067.0       2.0       1.0  0.0   \n",
       "3        Biggin   4/03/2017       2.5    3067.0       3.0       2.0  0.0   \n",
       "4        Biggin   4/03/2017       2.5    3067.0       3.0       2.0  1.0   \n",
       "5        Nelson   4/06/2016       2.5    3067.0       3.0       1.0  2.0   \n",
       "...         ...         ...       ...       ...       ...       ...  ...   \n",
       "13576     Barry  26/08/2017      16.7    3150.0       4.0       2.0  2.0   \n",
       "13577  Williams  26/08/2017       6.8    3016.0       3.0       2.0  2.0   \n",
       "13578     Raine  26/08/2017       6.8    3016.0       3.0       2.0  4.0   \n",
       "13579   Sweeney  26/08/2017       6.8    3016.0       4.0       1.0  5.0   \n",
       "13580   Village  26/08/2017       6.3    3013.0       4.0       1.0  1.0   \n",
       "\n",
       "       Landsize  BuildingArea  YearBuilt  Lattitude  Longtitude  \\\n",
       "ID                                                                \n",
       "1         202.0           NaN        NaN  -37.79960   144.99840   \n",
       "2         156.0          79.0     1900.0  -37.80790   144.99340   \n",
       "3         134.0         150.0     1900.0  -37.80930   144.99440   \n",
       "4          94.0           NaN        NaN  -37.79690   144.99690   \n",
       "5         120.0         142.0     2014.0  -37.80720   144.99410   \n",
       "...         ...           ...        ...        ...         ...   \n",
       "13576     652.0           NaN     1981.0  -37.90562   145.16761   \n",
       "13577     333.0         133.0     1995.0  -37.85927   144.87904   \n",
       "13578     436.0           NaN     1997.0  -37.85274   144.88738   \n",
       "13579     866.0         157.0     1920.0  -37.85908   144.89299   \n",
       "13580     362.0         112.0     1920.0  -37.81188   144.88449   \n",
       "\n",
       "                       Regionname  Propertycount  \n",
       "ID                                                \n",
       "1           Northern Metropolitan         4019.0  \n",
       "2           Northern Metropolitan         4019.0  \n",
       "3           Northern Metropolitan         4019.0  \n",
       "4           Northern Metropolitan         4019.0  \n",
       "5           Northern Metropolitan         4019.0  \n",
       "...                           ...            ...  \n",
       "13576  South-Eastern Metropolitan         7392.0  \n",
       "13577        Western Metropolitan         6380.0  \n",
       "13578        Western Metropolitan         6380.0  \n",
       "13579        Western Metropolitan         6380.0  \n",
       "13580        Western Metropolitan         6543.0  \n",
       "\n",
       "[13580 rows x 20 columns]"
      ]
     },
     "execution_count": 11,
     "metadata": {},
     "output_type": "execute_result"
    }
   ],
   "source": [
    "df"
   ]
  },
  {
   "cell_type": "code",
   "execution_count": 12,
   "metadata": {},
   "outputs": [
    {
     "data": {
      "text/plain": [
       "Suburb           0\n",
       "Address          0\n",
       "Rooms            0\n",
       "Type             0\n",
       "Price            0\n",
       "Method           0\n",
       "SellerG          0\n",
       "Date             0\n",
       "Distance         0\n",
       "Postcode         0\n",
       "Bedroom2         0\n",
       "Bathroom         0\n",
       "Car              0\n",
       "Landsize         0\n",
       "BuildingArea     0\n",
       "YearBuilt        0\n",
       "Lattitude        0\n",
       "Longtitude       0\n",
       "Regionname       0\n",
       "Propertycount    0\n",
       "dtype: int64"
      ]
     },
     "execution_count": 12,
     "metadata": {},
     "output_type": "execute_result"
    }
   ],
   "source": [
    "df['Car']=df['Car'].fillna(df['Car'].mean())\n",
    "df['BuildingArea']=df['BuildingArea'].fillna(df['BuildingArea'].mean())\n",
    "df['YearBuilt']=df['YearBuilt'].fillna(df['YearBuilt'].mean())\n",
    "df.isnull().sum()"
   ]
  },
  {
   "cell_type": "code",
   "execution_count": 13,
   "metadata": {},
   "outputs": [
    {
     "name": "stdout",
     "output_type": "stream",
     "text": [
      "<class 'pandas.core.frame.DataFrame'>\n",
      "Int64Index: 13580 entries, 1 to 13580\n",
      "Data columns (total 20 columns):\n",
      " #   Column         Non-Null Count  Dtype  \n",
      "---  ------         --------------  -----  \n",
      " 0   Suburb         13580 non-null  object \n",
      " 1   Address        13580 non-null  object \n",
      " 2   Rooms          13580 non-null  int64  \n",
      " 3   Type           13580 non-null  object \n",
      " 4   Price          13580 non-null  float64\n",
      " 5   Method         13580 non-null  object \n",
      " 6   SellerG        13580 non-null  object \n",
      " 7   Date           13580 non-null  object \n",
      " 8   Distance       13580 non-null  float64\n",
      " 9   Postcode       13580 non-null  float64\n",
      " 10  Bedroom2       13580 non-null  float64\n",
      " 11  Bathroom       13580 non-null  float64\n",
      " 12  Car            13580 non-null  float64\n",
      " 13  Landsize       13580 non-null  float64\n",
      " 14  BuildingArea   13580 non-null  float64\n",
      " 15  YearBuilt      13580 non-null  float64\n",
      " 16  Lattitude      13580 non-null  float64\n",
      " 17  Longtitude     13580 non-null  float64\n",
      " 18  Regionname     13580 non-null  object \n",
      " 19  Propertycount  13580 non-null  float64\n",
      "dtypes: float64(12), int64(1), object(7)\n",
      "memory usage: 2.2+ MB\n"
     ]
    }
   ],
   "source": [
    "df.info()"
   ]
  },
  {
   "cell_type": "code",
   "execution_count": 14,
   "metadata": {},
   "outputs": [
    {
     "data": {
      "text/plain": [
       "27/05/2017    473\n",
       "3/06/2017     395\n",
       "12/08/2017    387\n",
       "17/06/2017    374\n",
       "27/11/2016    362\n",
       "29/07/2017    341\n",
       "4/03/2017     337\n",
       "25/02/2017    333\n",
       "24/06/2017    329\n",
       "10/12/2016    319\n",
       "22/07/2017    317\n",
       "8/07/2017     310\n",
       "18/03/2017    303\n",
       "15/10/2016    300\n",
       "15/07/2017    292\n",
       "12/11/2016    292\n",
       "3/12/2016     288\n",
       "8/04/2017     280\n",
       "1/07/2017     276\n",
       "19/11/2016    266\n",
       "20/05/2017    262\n",
       "18/06/2016    261\n",
       "28/05/2016    258\n",
       "13/05/2017    255\n",
       "16/09/2017    254\n",
       "8/10/2016     251\n",
       "23/09/2017    247\n",
       "26/08/2017    246\n",
       "7/05/2016     245\n",
       "17/09/2016    242\n",
       "24/09/2016    240\n",
       "28/08/2016    238\n",
       "10/09/2016    235\n",
       "29/04/2017    217\n",
       "16/04/2016    217\n",
       "4/06/2016     214\n",
       "3/09/2017     214\n",
       "27/06/2016    211\n",
       "3/09/2016     208\n",
       "9/09/2017     205\n",
       "22/05/2016    203\n",
       "19/08/2017    201\n",
       "7/11/2016     194\n",
       "14/05/2016    193\n",
       "22/08/2016    192\n",
       "30/07/2016    172\n",
       "6/08/2016     154\n",
       "16/07/2016    141\n",
       "6/05/2017     140\n",
       "22/04/2017    134\n",
       "26/07/2016    133\n",
       "13/08/2016    132\n",
       "23/04/2016    101\n",
       "11/02/2017     84\n",
       "12/06/2016     46\n",
       "11/03/2017     38\n",
       "4/02/2016      26\n",
       "28/01/2016      2\n",
       "Name: Date, dtype: int64"
      ]
     },
     "execution_count": 14,
     "metadata": {},
     "output_type": "execute_result"
    }
   ],
   "source": [
    "df[\"Date\"].value_counts()"
   ]
  },
  {
   "cell_type": "code",
   "execution_count": 15,
   "metadata": {},
   "outputs": [
    {
     "data": {
      "text/plain": [
       "array(['3/12/2016', '4/02/2016', '4/03/2017', '4/06/2016', '7/05/2016',\n",
       "       '8/10/2016', '12/11/2016', '13/08/2016', '14/05/2016',\n",
       "       '15/10/2016', '16/07/2016', '17/09/2016', '18/03/2017',\n",
       "       '18/06/2016', '19/11/2016', '22/08/2016', '24/09/2016',\n",
       "       '25/02/2017', '26/07/2016', '27/11/2016', '28/05/2016',\n",
       "       '30/07/2016', '3/09/2016', '6/08/2016', '7/11/2016', '10/09/2016',\n",
       "       '10/12/2016', '11/02/2017', '16/04/2016', '22/05/2016',\n",
       "       '23/04/2016', '12/06/2016', '27/06/2016', '28/08/2016',\n",
       "       '11/03/2017', '28/01/2016', '6/05/2017', '8/04/2017', '29/04/2017',\n",
       "       '13/05/2017', '20/05/2017', '22/04/2017', '1/07/2017', '3/06/2017',\n",
       "       '17/06/2017', '24/06/2017', '27/05/2017', '8/07/2017',\n",
       "       '12/08/2017', '15/07/2017', '22/07/2017', '29/07/2017',\n",
       "       '3/09/2017', '9/09/2017', '16/09/2017', '19/08/2017', '23/09/2017',\n",
       "       '26/08/2017'], dtype=object)"
      ]
     },
     "execution_count": 15,
     "metadata": {},
     "output_type": "execute_result"
    }
   ],
   "source": [
    "df[\"Date\"].unique()"
   ]
  },
  {
   "cell_type": "code",
   "execution_count": 16,
   "metadata": {},
   "outputs": [],
   "source": [
    "#because of \"/\" date is show to object we can replace \"/\" to ' ' \n",
    "df['Date']=pd.to_numeric(df['Date'].str.replace('/','').str.replace(',', ''), errors='coerce')"
   ]
  },
  {
   "cell_type": "code",
   "execution_count": 17,
   "metadata": {},
   "outputs": [
    {
     "data": {
      "text/html": [
       "<div>\n",
       "<style scoped>\n",
       "    .dataframe tbody tr th:only-of-type {\n",
       "        vertical-align: middle;\n",
       "    }\n",
       "\n",
       "    .dataframe tbody tr th {\n",
       "        vertical-align: top;\n",
       "    }\n",
       "\n",
       "    .dataframe thead th {\n",
       "        text-align: right;\n",
       "    }\n",
       "</style>\n",
       "<table border=\"1\" class=\"dataframe\">\n",
       "  <thead>\n",
       "    <tr style=\"text-align: right;\">\n",
       "      <th></th>\n",
       "      <th>Suburb</th>\n",
       "      <th>Address</th>\n",
       "      <th>Rooms</th>\n",
       "      <th>Type</th>\n",
       "      <th>Price</th>\n",
       "      <th>Method</th>\n",
       "      <th>SellerG</th>\n",
       "      <th>Date</th>\n",
       "      <th>Distance</th>\n",
       "      <th>Postcode</th>\n",
       "      <th>Bedroom2</th>\n",
       "      <th>Bathroom</th>\n",
       "      <th>Car</th>\n",
       "      <th>Landsize</th>\n",
       "      <th>BuildingArea</th>\n",
       "      <th>YearBuilt</th>\n",
       "      <th>Lattitude</th>\n",
       "      <th>Longtitude</th>\n",
       "      <th>Regionname</th>\n",
       "      <th>Propertycount</th>\n",
       "    </tr>\n",
       "    <tr>\n",
       "      <th>ID</th>\n",
       "      <th></th>\n",
       "      <th></th>\n",
       "      <th></th>\n",
       "      <th></th>\n",
       "      <th></th>\n",
       "      <th></th>\n",
       "      <th></th>\n",
       "      <th></th>\n",
       "      <th></th>\n",
       "      <th></th>\n",
       "      <th></th>\n",
       "      <th></th>\n",
       "      <th></th>\n",
       "      <th></th>\n",
       "      <th></th>\n",
       "      <th></th>\n",
       "      <th></th>\n",
       "      <th></th>\n",
       "      <th></th>\n",
       "      <th></th>\n",
       "    </tr>\n",
       "  </thead>\n",
       "  <tbody>\n",
       "    <tr>\n",
       "      <th>1</th>\n",
       "      <td>Abbotsford</td>\n",
       "      <td>85 Turner St</td>\n",
       "      <td>2</td>\n",
       "      <td>h</td>\n",
       "      <td>1480000.0</td>\n",
       "      <td>S</td>\n",
       "      <td>Biggin</td>\n",
       "      <td>3122016</td>\n",
       "      <td>2.5</td>\n",
       "      <td>3067.0</td>\n",
       "      <td>2.0</td>\n",
       "      <td>1.0</td>\n",
       "      <td>1.0</td>\n",
       "      <td>202.0</td>\n",
       "      <td>151.96765</td>\n",
       "      <td>1964.684217</td>\n",
       "      <td>-37.79960</td>\n",
       "      <td>144.99840</td>\n",
       "      <td>Northern Metropolitan</td>\n",
       "      <td>4019.0</td>\n",
       "    </tr>\n",
       "    <tr>\n",
       "      <th>2</th>\n",
       "      <td>Abbotsford</td>\n",
       "      <td>25 Bloomburg St</td>\n",
       "      <td>2</td>\n",
       "      <td>h</td>\n",
       "      <td>1035000.0</td>\n",
       "      <td>S</td>\n",
       "      <td>Biggin</td>\n",
       "      <td>4022016</td>\n",
       "      <td>2.5</td>\n",
       "      <td>3067.0</td>\n",
       "      <td>2.0</td>\n",
       "      <td>1.0</td>\n",
       "      <td>0.0</td>\n",
       "      <td>156.0</td>\n",
       "      <td>79.00000</td>\n",
       "      <td>1900.000000</td>\n",
       "      <td>-37.80790</td>\n",
       "      <td>144.99340</td>\n",
       "      <td>Northern Metropolitan</td>\n",
       "      <td>4019.0</td>\n",
       "    </tr>\n",
       "    <tr>\n",
       "      <th>3</th>\n",
       "      <td>Abbotsford</td>\n",
       "      <td>5 Charles St</td>\n",
       "      <td>3</td>\n",
       "      <td>h</td>\n",
       "      <td>1465000.0</td>\n",
       "      <td>SP</td>\n",
       "      <td>Biggin</td>\n",
       "      <td>4032017</td>\n",
       "      <td>2.5</td>\n",
       "      <td>3067.0</td>\n",
       "      <td>3.0</td>\n",
       "      <td>2.0</td>\n",
       "      <td>0.0</td>\n",
       "      <td>134.0</td>\n",
       "      <td>150.00000</td>\n",
       "      <td>1900.000000</td>\n",
       "      <td>-37.80930</td>\n",
       "      <td>144.99440</td>\n",
       "      <td>Northern Metropolitan</td>\n",
       "      <td>4019.0</td>\n",
       "    </tr>\n",
       "    <tr>\n",
       "      <th>4</th>\n",
       "      <td>Abbotsford</td>\n",
       "      <td>40 Federation La</td>\n",
       "      <td>3</td>\n",
       "      <td>h</td>\n",
       "      <td>850000.0</td>\n",
       "      <td>PI</td>\n",
       "      <td>Biggin</td>\n",
       "      <td>4032017</td>\n",
       "      <td>2.5</td>\n",
       "      <td>3067.0</td>\n",
       "      <td>3.0</td>\n",
       "      <td>2.0</td>\n",
       "      <td>1.0</td>\n",
       "      <td>94.0</td>\n",
       "      <td>151.96765</td>\n",
       "      <td>1964.684217</td>\n",
       "      <td>-37.79690</td>\n",
       "      <td>144.99690</td>\n",
       "      <td>Northern Metropolitan</td>\n",
       "      <td>4019.0</td>\n",
       "    </tr>\n",
       "    <tr>\n",
       "      <th>5</th>\n",
       "      <td>Abbotsford</td>\n",
       "      <td>55a Park St</td>\n",
       "      <td>4</td>\n",
       "      <td>h</td>\n",
       "      <td>1600000.0</td>\n",
       "      <td>VB</td>\n",
       "      <td>Nelson</td>\n",
       "      <td>4062016</td>\n",
       "      <td>2.5</td>\n",
       "      <td>3067.0</td>\n",
       "      <td>3.0</td>\n",
       "      <td>1.0</td>\n",
       "      <td>2.0</td>\n",
       "      <td>120.0</td>\n",
       "      <td>142.00000</td>\n",
       "      <td>2014.000000</td>\n",
       "      <td>-37.80720</td>\n",
       "      <td>144.99410</td>\n",
       "      <td>Northern Metropolitan</td>\n",
       "      <td>4019.0</td>\n",
       "    </tr>\n",
       "    <tr>\n",
       "      <th>...</th>\n",
       "      <td>...</td>\n",
       "      <td>...</td>\n",
       "      <td>...</td>\n",
       "      <td>...</td>\n",
       "      <td>...</td>\n",
       "      <td>...</td>\n",
       "      <td>...</td>\n",
       "      <td>...</td>\n",
       "      <td>...</td>\n",
       "      <td>...</td>\n",
       "      <td>...</td>\n",
       "      <td>...</td>\n",
       "      <td>...</td>\n",
       "      <td>...</td>\n",
       "      <td>...</td>\n",
       "      <td>...</td>\n",
       "      <td>...</td>\n",
       "      <td>...</td>\n",
       "      <td>...</td>\n",
       "      <td>...</td>\n",
       "    </tr>\n",
       "    <tr>\n",
       "      <th>13576</th>\n",
       "      <td>Wheelers Hill</td>\n",
       "      <td>12 Strada Cr</td>\n",
       "      <td>4</td>\n",
       "      <td>h</td>\n",
       "      <td>1245000.0</td>\n",
       "      <td>S</td>\n",
       "      <td>Barry</td>\n",
       "      <td>26082017</td>\n",
       "      <td>16.7</td>\n",
       "      <td>3150.0</td>\n",
       "      <td>4.0</td>\n",
       "      <td>2.0</td>\n",
       "      <td>2.0</td>\n",
       "      <td>652.0</td>\n",
       "      <td>151.96765</td>\n",
       "      <td>1981.000000</td>\n",
       "      <td>-37.90562</td>\n",
       "      <td>145.16761</td>\n",
       "      <td>South-Eastern Metropolitan</td>\n",
       "      <td>7392.0</td>\n",
       "    </tr>\n",
       "    <tr>\n",
       "      <th>13577</th>\n",
       "      <td>Williamstown</td>\n",
       "      <td>77 Merrett Dr</td>\n",
       "      <td>3</td>\n",
       "      <td>h</td>\n",
       "      <td>1031000.0</td>\n",
       "      <td>SP</td>\n",
       "      <td>Williams</td>\n",
       "      <td>26082017</td>\n",
       "      <td>6.8</td>\n",
       "      <td>3016.0</td>\n",
       "      <td>3.0</td>\n",
       "      <td>2.0</td>\n",
       "      <td>2.0</td>\n",
       "      <td>333.0</td>\n",
       "      <td>133.00000</td>\n",
       "      <td>1995.000000</td>\n",
       "      <td>-37.85927</td>\n",
       "      <td>144.87904</td>\n",
       "      <td>Western Metropolitan</td>\n",
       "      <td>6380.0</td>\n",
       "    </tr>\n",
       "    <tr>\n",
       "      <th>13578</th>\n",
       "      <td>Williamstown</td>\n",
       "      <td>83 Power St</td>\n",
       "      <td>3</td>\n",
       "      <td>h</td>\n",
       "      <td>1170000.0</td>\n",
       "      <td>S</td>\n",
       "      <td>Raine</td>\n",
       "      <td>26082017</td>\n",
       "      <td>6.8</td>\n",
       "      <td>3016.0</td>\n",
       "      <td>3.0</td>\n",
       "      <td>2.0</td>\n",
       "      <td>4.0</td>\n",
       "      <td>436.0</td>\n",
       "      <td>151.96765</td>\n",
       "      <td>1997.000000</td>\n",
       "      <td>-37.85274</td>\n",
       "      <td>144.88738</td>\n",
       "      <td>Western Metropolitan</td>\n",
       "      <td>6380.0</td>\n",
       "    </tr>\n",
       "    <tr>\n",
       "      <th>13579</th>\n",
       "      <td>Williamstown</td>\n",
       "      <td>96 Verdon St</td>\n",
       "      <td>4</td>\n",
       "      <td>h</td>\n",
       "      <td>2500000.0</td>\n",
       "      <td>PI</td>\n",
       "      <td>Sweeney</td>\n",
       "      <td>26082017</td>\n",
       "      <td>6.8</td>\n",
       "      <td>3016.0</td>\n",
       "      <td>4.0</td>\n",
       "      <td>1.0</td>\n",
       "      <td>5.0</td>\n",
       "      <td>866.0</td>\n",
       "      <td>157.00000</td>\n",
       "      <td>1920.000000</td>\n",
       "      <td>-37.85908</td>\n",
       "      <td>144.89299</td>\n",
       "      <td>Western Metropolitan</td>\n",
       "      <td>6380.0</td>\n",
       "    </tr>\n",
       "    <tr>\n",
       "      <th>13580</th>\n",
       "      <td>Yarraville</td>\n",
       "      <td>6 Agnes St</td>\n",
       "      <td>4</td>\n",
       "      <td>h</td>\n",
       "      <td>1285000.0</td>\n",
       "      <td>SP</td>\n",
       "      <td>Village</td>\n",
       "      <td>26082017</td>\n",
       "      <td>6.3</td>\n",
       "      <td>3013.0</td>\n",
       "      <td>4.0</td>\n",
       "      <td>1.0</td>\n",
       "      <td>1.0</td>\n",
       "      <td>362.0</td>\n",
       "      <td>112.00000</td>\n",
       "      <td>1920.000000</td>\n",
       "      <td>-37.81188</td>\n",
       "      <td>144.88449</td>\n",
       "      <td>Western Metropolitan</td>\n",
       "      <td>6543.0</td>\n",
       "    </tr>\n",
       "  </tbody>\n",
       "</table>\n",
       "<p>13580 rows × 20 columns</p>\n",
       "</div>"
      ],
      "text/plain": [
       "              Suburb           Address  Rooms Type      Price Method  \\\n",
       "ID                                                                     \n",
       "1         Abbotsford      85 Turner St      2    h  1480000.0      S   \n",
       "2         Abbotsford   25 Bloomburg St      2    h  1035000.0      S   \n",
       "3         Abbotsford      5 Charles St      3    h  1465000.0     SP   \n",
       "4         Abbotsford  40 Federation La      3    h   850000.0     PI   \n",
       "5         Abbotsford       55a Park St      4    h  1600000.0     VB   \n",
       "...              ...               ...    ...  ...        ...    ...   \n",
       "13576  Wheelers Hill      12 Strada Cr      4    h  1245000.0      S   \n",
       "13577   Williamstown     77 Merrett Dr      3    h  1031000.0     SP   \n",
       "13578   Williamstown       83 Power St      3    h  1170000.0      S   \n",
       "13579   Williamstown      96 Verdon St      4    h  2500000.0     PI   \n",
       "13580     Yarraville        6 Agnes St      4    h  1285000.0     SP   \n",
       "\n",
       "        SellerG      Date  Distance  Postcode  Bedroom2  Bathroom  Car  \\\n",
       "ID                                                                       \n",
       "1        Biggin   3122016       2.5    3067.0       2.0       1.0  1.0   \n",
       "2        Biggin   4022016       2.5    3067.0       2.0       1.0  0.0   \n",
       "3        Biggin   4032017       2.5    3067.0       3.0       2.0  0.0   \n",
       "4        Biggin   4032017       2.5    3067.0       3.0       2.0  1.0   \n",
       "5        Nelson   4062016       2.5    3067.0       3.0       1.0  2.0   \n",
       "...         ...       ...       ...       ...       ...       ...  ...   \n",
       "13576     Barry  26082017      16.7    3150.0       4.0       2.0  2.0   \n",
       "13577  Williams  26082017       6.8    3016.0       3.0       2.0  2.0   \n",
       "13578     Raine  26082017       6.8    3016.0       3.0       2.0  4.0   \n",
       "13579   Sweeney  26082017       6.8    3016.0       4.0       1.0  5.0   \n",
       "13580   Village  26082017       6.3    3013.0       4.0       1.0  1.0   \n",
       "\n",
       "       Landsize  BuildingArea    YearBuilt  Lattitude  Longtitude  \\\n",
       "ID                                                                  \n",
       "1         202.0     151.96765  1964.684217  -37.79960   144.99840   \n",
       "2         156.0      79.00000  1900.000000  -37.80790   144.99340   \n",
       "3         134.0     150.00000  1900.000000  -37.80930   144.99440   \n",
       "4          94.0     151.96765  1964.684217  -37.79690   144.99690   \n",
       "5         120.0     142.00000  2014.000000  -37.80720   144.99410   \n",
       "...         ...           ...          ...        ...         ...   \n",
       "13576     652.0     151.96765  1981.000000  -37.90562   145.16761   \n",
       "13577     333.0     133.00000  1995.000000  -37.85927   144.87904   \n",
       "13578     436.0     151.96765  1997.000000  -37.85274   144.88738   \n",
       "13579     866.0     157.00000  1920.000000  -37.85908   144.89299   \n",
       "13580     362.0     112.00000  1920.000000  -37.81188   144.88449   \n",
       "\n",
       "                       Regionname  Propertycount  \n",
       "ID                                                \n",
       "1           Northern Metropolitan         4019.0  \n",
       "2           Northern Metropolitan         4019.0  \n",
       "3           Northern Metropolitan         4019.0  \n",
       "4           Northern Metropolitan         4019.0  \n",
       "5           Northern Metropolitan         4019.0  \n",
       "...                           ...            ...  \n",
       "13576  South-Eastern Metropolitan         7392.0  \n",
       "13577        Western Metropolitan         6380.0  \n",
       "13578        Western Metropolitan         6380.0  \n",
       "13579        Western Metropolitan         6380.0  \n",
       "13580        Western Metropolitan         6543.0  \n",
       "\n",
       "[13580 rows x 20 columns]"
      ]
     },
     "execution_count": 17,
     "metadata": {},
     "output_type": "execute_result"
    }
   ],
   "source": [
    "df"
   ]
  },
  {
   "cell_type": "code",
   "execution_count": 18,
   "metadata": {},
   "outputs": [
    {
     "name": "stdout",
     "output_type": "stream",
     "text": [
      "<class 'pandas.core.frame.DataFrame'>\n",
      "Int64Index: 13580 entries, 1 to 13580\n",
      "Data columns (total 20 columns):\n",
      " #   Column         Non-Null Count  Dtype  \n",
      "---  ------         --------------  -----  \n",
      " 0   Suburb         13580 non-null  object \n",
      " 1   Address        13580 non-null  object \n",
      " 2   Rooms          13580 non-null  int64  \n",
      " 3   Type           13580 non-null  object \n",
      " 4   Price          13580 non-null  float64\n",
      " 5   Method         13580 non-null  object \n",
      " 6   SellerG        13580 non-null  object \n",
      " 7   Date           13580 non-null  int64  \n",
      " 8   Distance       13580 non-null  float64\n",
      " 9   Postcode       13580 non-null  float64\n",
      " 10  Bedroom2       13580 non-null  float64\n",
      " 11  Bathroom       13580 non-null  float64\n",
      " 12  Car            13580 non-null  float64\n",
      " 13  Landsize       13580 non-null  float64\n",
      " 14  BuildingArea   13580 non-null  float64\n",
      " 15  YearBuilt      13580 non-null  float64\n",
      " 16  Lattitude      13580 non-null  float64\n",
      " 17  Longtitude     13580 non-null  float64\n",
      " 18  Regionname     13580 non-null  object \n",
      " 19  Propertycount  13580 non-null  float64\n",
      "dtypes: float64(12), int64(2), object(6)\n",
      "memory usage: 2.2+ MB\n"
     ]
    }
   ],
   "source": [
    "df.info()"
   ]
  },
  {
   "cell_type": "code",
   "execution_count": 19,
   "metadata": {},
   "outputs": [],
   "source": [
    "df_num=df.select_dtypes(['int64','float64'])"
   ]
  },
  {
   "cell_type": "code",
   "execution_count": 20,
   "metadata": {},
   "outputs": [
    {
     "data": {
      "text/plain": [
       "Index(['Rooms', 'Price', 'Date', 'Distance', 'Postcode', 'Bedroom2',\n",
       "       'Bathroom', 'Car', 'Landsize', 'BuildingArea', 'YearBuilt', 'Lattitude',\n",
       "       'Longtitude', 'Propertycount'],\n",
       "      dtype='object')"
      ]
     },
     "execution_count": 20,
     "metadata": {},
     "output_type": "execute_result"
    }
   ],
   "source": [
    "df_num.columns"
   ]
  },
  {
   "cell_type": "code",
   "execution_count": 21,
   "metadata": {},
   "outputs": [],
   "source": [
    "df_cat=df.select_dtypes(['object'])"
   ]
  },
  {
   "cell_type": "code",
   "execution_count": 22,
   "metadata": {},
   "outputs": [
    {
     "data": {
      "text/plain": [
       "Index(['Suburb', 'Address', 'Type', 'Method', 'SellerG', 'Regionname'], dtype='object')"
      ]
     },
     "execution_count": 22,
     "metadata": {},
     "output_type": "execute_result"
    }
   ],
   "source": [
    "df_cat.columns"
   ]
  },
  {
   "cell_type": "code",
   "execution_count": 23,
   "metadata": {},
   "outputs": [
    {
     "data": {
      "image/png": "[encoded data removed]",
      "text/plain": [
       "<Figure size 648x648 with 1 Axes>"
      ]
     },
     "metadata": {
      "needs_background": "light"
     },
     "output_type": "display_data"
    },
    {
     "data": {
      "image/png": "[encoded data removed]",
      "text/plain": [
       "<Figure size 648x648 with 1 Axes>"
      ]
     },
     "metadata": {
      "needs_background": "light"
     },
     "output_type": "display_data"
    },
    {
     "data": {
      "image/png": "[encoded data removed]",
      "text/plain": [
       "<Figure size 648x648 with 1 Axes>"
      ]
     },
     "metadata": {
      "needs_background": "light"
     },
     "output_type": "display_data"
    },
    {
     "data": {
      "image/png": "[encoded data removed]",
      "text/plain": [
       "<Figure size 648x648 with 1 Axes>"
      ]
     },
     "metadata": {
      "needs_background": "light"
     },
     "output_type": "display_data"
    },
    {
     "data": {
      "image/png": "[encoded data removed]",
      "text/plain": [
       "<Figure size 648x648 with 1 Axes>"
      ]
     },
     "metadata": {
      "needs_background": "light"
     },
     "output_type": "display_data"
    },
    {
     "data": {
      "image/png": "[encoded data removed]",
      "text/plain": [
       "<Figure size 648x648 with 1 Axes>"
      ]
     },
     "metadata": {
      "needs_background": "light"
     },
     "output_type": "display_data"
    },
    {
     "data": {
      "image/png": "[encoded data removed]",
      "text/plain": [
       "<Figure size 648x648 with 1 Axes>"
      ]
     },
     "metadata": {
      "needs_background": "light"
     },
     "output_type": "display_data"
    },
    {
     "data": {
      "image/png": "[encoded data removed]",
      "text/plain": [
       "<Figure size 648x648 with 1 Axes>"
      ]
     },
     "metadata": {
      "needs_background": "light"
     },
     "output_type": "display_data"
    },
    {
     "data": {
      "image/png": "[encoded data removed]",
      "text/plain": [
       "<Figure size 648x648 with 1 Axes>"
      ]
     },
     "metadata": {
      "needs_background": "light"
     },
     "output_type": "display_data"
    },
    {
     "data": {
      "image/png": "[encoded data removed]",
      "text/plain": [
       "<Figure size 648x648 with 1 Axes>"
      ]
     },
     "metadata": {
      "needs_background": "light"
     },
     "output_type": "display_data"
    },
    {
     "data": {
      "image/png": "[encoded data removed]",
      "text/plain": [
       "<Figure size 648x648 with 1 Axes>"
      ]
     },
     "metadata": {
      "needs_background": "light"
     },
     "output_type": "display_data"
    },
    {
     "data": {
      "image/png": "[encoded data removed]",
      "text/plain": [
       "<Figure size 648x648 with 1 Axes>"
      ]
     },
     "metadata": {
      "needs_background": "light"
     },
     "output_type": "display_data"
    },
    {
     "data": {
      "image/png": "[encoded data removed]",
      "text/plain": [
       "<Figure size 648x648 with 1 Axes>"
      ]
     },
     "metadata": {
      "needs_background": "light"
     },
     "output_type": "display_data"
    },
    {
     "data": {
      "image/png": "[encoded data removed]",
      "text/plain": [
       "<Figure size 648x648 with 1 Axes>"
      ]
     },
     "metadata": {
      "needs_background": "light"
     },
     "output_type": "display_data"
    }
   ],
   "source": [
    "# univariate normal distribution data analysis \n",
    "for i in df_num:\n",
    "    plt.figure(figsize=(9,9))\n",
    "    plt.hist(df[i],bins=10)\n",
    "    plt.title(\"{} df_num distribution\".format(i))\n",
    "    plt.axvline(df[i].mean(),color=\"red\")\n",
    "    plt.axvline(df[i].median(),color=\"yellow\")\n",
    "    plt.ylabel(\"Frequency\")\n",
    "    plt.xlabel(i)\n",
    "    plt.show()"
   ]
  },
  {
   "cell_type": "code",
   "execution_count": 24,
   "metadata": {},
   "outputs": [
    {
     "data": {
      "image/png": "[encoded data removed]",
      "text/plain": [
       "<Figure size 504x504 with 1 Axes>"
      ]
     },
     "metadata": {
      "needs_background": "light"
     },
     "output_type": "display_data"
    },
    {
     "data": {
      "image/png": "[encoded data removed]",
      "text/plain": [
       "<Figure size 504x504 with 1 Axes>"
      ]
     },
     "metadata": {
      "needs_background": "light"
     },
     "output_type": "display_data"
    },
    {
     "data": {
      "image/png": "[encoded data removed]",
      "text/plain": [
       "<Figure size 504x504 with 1 Axes>"
      ]
     },
     "metadata": {
      "needs_background": "light"
     },
     "output_type": "display_data"
    },
    {
     "data": {
      "image/png": "[encoded data removed]",
      "text/plain": [
       "<Figure size 504x504 with 1 Axes>"
      ]
     },
     "metadata": {
      "needs_background": "light"
     },
     "output_type": "display_data"
    },
    {
     "data": {
      "image/png": "[encoded data removed]",
      "text/plain": [
       "<Figure size 504x504 with 1 Axes>"
      ]
     },
     "metadata": {
      "needs_background": "light"
     },
     "output_type": "display_data"
    },
    {
     "data": {
      "image/png": "[encoded data removed]",
      "text/plain": [
       "<Figure size 504x504 with 1 Axes>"
      ]
     },
     "metadata": {
      "needs_background": "light"
     },
     "output_type": "display_data"
    },
    {
     "data": {
      "image/png": "[encoded data removed]",
      "text/plain": [
       "<Figure size 504x504 with 1 Axes>"
      ]
     },
     "metadata": {
      "needs_background": "light"
     },
     "output_type": "display_data"
    },
    {
     "data": {
      "image/png": "[encoded data removed]",
      "text/plain": [
       "<Figure size 504x504 with 1 Axes>"
      ]
     },
     "metadata": {
      "needs_background": "light"
     },
     "output_type": "display_data"
    },
    {
     "data": {
      "image/png": "[encoded data removed]",
      "text/plain": [
       "<Figure size 504x504 with 1 Axes>"
      ]
     },
     "metadata": {
      "needs_background": "light"
     },
     "output_type": "display_data"
    },
    {
     "data": {
      "image/png": "[encoded data removed]",
      "text/plain": [
       "<Figure size 504x504 with 1 Axes>"
      ]
     },
     "metadata": {
      "needs_background": "light"
     },
     "output_type": "display_data"
    },
    {
     "data": {
      "image/png": "[encoded data removed]",
      "text/plain": [
       "<Figure size 504x504 with 1 Axes>"
      ]
     },
     "metadata": {
      "needs_background": "light"
     },
     "output_type": "display_data"
    },
    {
     "data": {
      "image/png": "[encoded data removed]",
      "text/plain": [
       "<Figure size 504x504 with 1 Axes>"
      ]
     },
     "metadata": {
      "needs_background": "light"
     },
     "output_type": "display_data"
    },
    {
     "data": {
      "image/png": "[encoded data removed]",
      "text/plain": [
       "<Figure size 504x504 with 1 Axes>"
      ]
     },
     "metadata": {
      "needs_background": "light"
     },
     "output_type": "display_data"
    },
    {
     "data": {
      "image/png": "[encoded data removed]",
      "text/plain": [
       "<Figure size 504x504 with 1 Axes>"
      ]
     },
     "metadata": {
      "needs_background": "light"
     },
     "output_type": "display_data"
    }
   ],
   "source": [
    "for i in df_num:\n",
    "    plt.figure(figsize=(7,7))\n",
    "    sns.boxplot(data=df_num,x=i,whis=3)\n",
    "    # upper whisker = q3+1.5*IQR\n",
    "    # lower whisker = q1 - 1.5*IQR \n",
    "    # boxplot will calculate upper whisker and lower whisker by it's own and the nit will plot the box\n",
    "    plt.show()"
   ]
  },
  {
   "cell_type": "code",
   "execution_count": 25,
   "metadata": {},
   "outputs": [
    {
     "data": {
      "text/plain": [
       "(13580, 14)"
      ]
     },
     "execution_count": 25,
     "metadata": {},
     "output_type": "execute_result"
    }
   ],
   "source": [
    "df_num.shape"
   ]
  },
  {
   "cell_type": "code",
   "execution_count": 26,
   "metadata": {},
   "outputs": [
    {
     "name": "stdout",
     "output_type": "stream",
     "text": [
      "Quantile1 for Rooms is =>  2.0\n",
      "Quantile3 for Rooms is =>  3.0\n",
      "IQR for Rooms column is =>  1.0\n",
      "upper whisker with 3 penalty is =>  6.0\n"
     ]
    }
   ],
   "source": [
    "# Rooms Column Outlier Treatment \n",
    "q1=np.quantile(df_num[\"Rooms\"],0.25)\n",
    "q3=np.quantile(df_num[\"Rooms\"],0.75)\n",
    "iqr=q3-q1\n",
    "print(\"Quantile1 for Rooms is => \",q1)\n",
    "print(\"Quantile3 for Rooms is => \",q3)\n",
    "print(\"IQR for Rooms column is => \",iqr)\n",
    "#as we know we have higher extream values so no need to calculate lower whisker will only go for upper whisker \n",
    "up_whs=q3+3*iqr\n",
    "print(\"upper whisker with 3 penalty is => \",up_whs)"
   ]
  },
  {
   "cell_type": "code",
   "execution_count": 27,
   "metadata": {},
   "outputs": [
    {
     "data": {
      "text/plain": [
       "(13580, 14)"
      ]
     },
     "execution_count": 27,
     "metadata": {},
     "output_type": "execute_result"
    }
   ],
   "source": [
    "df_num.shape"
   ]
  },
  {
   "cell_type": "code",
   "execution_count": 28,
   "metadata": {},
   "outputs": [],
   "source": [
    "# accept all those records which come below given whisker values\n",
    "df_num=df_num[df_num[\"Rooms\"]<up_whs]"
   ]
  },
  {
   "cell_type": "code",
   "execution_count": 29,
   "metadata": {},
   "outputs": [
    {
     "data": {
      "text/plain": [
       "(13494, 14)"
      ]
     },
     "execution_count": 29,
     "metadata": {},
     "output_type": "execute_result"
    }
   ],
   "source": [
    "df_num.shape"
   ]
  },
  {
   "cell_type": "code",
   "execution_count": 30,
   "metadata": {},
   "outputs": [
    {
     "name": "stdout",
     "output_type": "stream",
     "text": [
      "Quantile1 for Price is =>  650000.0\n",
      "Quantile3 for Price is =>  1325000.0\n",
      "IQR for Price column is =>  675000.0\n",
      "upper whisker with 3 penalty is =>  3350000.0\n"
     ]
    }
   ],
   "source": [
    "# Price Column Outlier Treatment \n",
    "q1=np.quantile(df_num[\"Price\"],0.25)\n",
    "q3=np.quantile(df_num[\"Price\"],0.75)\n",
    "iqr=q3-q1\n",
    "print(\"Quantile1 for Price is => \",q1)\n",
    "print(\"Quantile3 for Price is => \",q3)\n",
    "print(\"IQR for Price column is => \",iqr)\n",
    "#as we know we have higher extream values so no need to calculate lower whisker will only go for upper whisker \n",
    "up_whs=q3+3*iqr\n",
    "print(\"upper whisker with 3 penalty is => \",up_whs)"
   ]
  },
  {
   "cell_type": "code",
   "execution_count": 31,
   "metadata": {},
   "outputs": [
    {
     "data": {
      "text/plain": [
       "(13494, 14)"
      ]
     },
     "execution_count": 31,
     "metadata": {},
     "output_type": "execute_result"
    }
   ],
   "source": [
    "df_num.shape"
   ]
  },
  {
   "cell_type": "code",
   "execution_count": 32,
   "metadata": {},
   "outputs": [],
   "source": [
    "# accept all those records which come below given whisker values\n",
    "df_num=df_num[df_num[\"Price\"]<up_whs]"
   ]
  },
  {
   "cell_type": "code",
   "execution_count": 33,
   "metadata": {},
   "outputs": [
    {
     "data": {
      "text/plain": [
       "(13363, 14)"
      ]
     },
     "execution_count": 33,
     "metadata": {},
     "output_type": "execute_result"
    }
   ],
   "source": [
    "df_num.shape"
   ]
  },
  {
   "cell_type": "code",
   "execution_count": 34,
   "metadata": {},
   "outputs": [
    {
     "name": "stdout",
     "output_type": "stream",
     "text": [
      "Quantile1 for Distance is =>  6.2\n",
      "Quantile3 for Distance is =>  13.0\n",
      "IQR for Distance column is =>  6.8\n",
      "upper whisker with 3 penalty is =>  33.4\n"
     ]
    }
   ],
   "source": [
    "# Distance Column Outlier Treatment \n",
    "q1=np.quantile(df_num[\"Distance\"],0.25)\n",
    "q3=np.quantile(df_num[\"Distance\"],0.75)\n",
    "iqr=q3-q1\n",
    "print(\"Quantile1 for Distance is => \",q1)\n",
    "print(\"Quantile3 for Distance is => \",q3)\n",
    "print(\"IQR for Distance column is => \",iqr)\n",
    "#as we know we have higher extream values so no need to calculate lower whisker will only go for upper whisker \n",
    "up_whs=q3+3*iqr\n",
    "print(\"upper whisker with 3 penalty is => \",up_whs)\n",
    "\n",
    "# accept all those records which come below given whisker values\n",
    "df_num=df_num[df_num[\"Distance\"]<up_whs]"
   ]
  },
  {
   "cell_type": "code",
   "execution_count": 35,
   "metadata": {},
   "outputs": [
    {
     "data": {
      "text/plain": [
       "(13235, 14)"
      ]
     },
     "execution_count": 35,
     "metadata": {},
     "output_type": "execute_result"
    }
   ],
   "source": [
    "df_num.shape"
   ]
  },
  {
   "cell_type": "code",
   "execution_count": 36,
   "metadata": {},
   "outputs": [
    {
     "name": "stdout",
     "output_type": "stream",
     "text": [
      "Quantile1 for Postcode is =>  3044.0\n",
      "Quantile3 for Postcode is =>  3147.0\n",
      "IQR for Postcode column is =>  103.0\n",
      "upper whisker with 3 penalty is =>  3456.0\n"
     ]
    }
   ],
   "source": [
    "# Postcode Column Outlier Treatment \n",
    "q1=np.quantile(df_num[\"Postcode\"],0.25)\n",
    "q3=np.quantile(df_num[\"Postcode\"],0.75)\n",
    "iqr=q3-q1\n",
    "print(\"Quantile1 for Postcode is => \",q1)\n",
    "print(\"Quantile3 for Postcode is => \",q3)\n",
    "print(\"IQR for Postcode column is => \",iqr)\n",
    "#as we know we have higher extream values so no need to calculate lower whisker will only go for upper whisker \n",
    "up_whs=q3+3*iqr\n",
    "print(\"upper whisker with 3 penalty is => \",up_whs)\n",
    "\n",
    "# accept all those records which come below given whisker values\n",
    "df_num=df_num[df_num[\"Postcode\"]<up_whs]"
   ]
  },
  {
   "cell_type": "code",
   "execution_count": 37,
   "metadata": {},
   "outputs": [
    {
     "data": {
      "text/plain": [
       "(13172, 14)"
      ]
     },
     "execution_count": 37,
     "metadata": {},
     "output_type": "execute_result"
    }
   ],
   "source": [
    "df_num.shape"
   ]
  },
  {
   "cell_type": "code",
   "execution_count": 38,
   "metadata": {},
   "outputs": [
    {
     "name": "stdout",
     "output_type": "stream",
     "text": [
      "Quantile1 for Bedroom2 is =>  2.0\n",
      "Quantile3 for Bedroom2 is =>  3.0\n",
      "IQR for Bedroom2 column is =>  1.0\n",
      "upper whisker with 3 penalty is =>  6.0\n"
     ]
    }
   ],
   "source": [
    "# Bedroom2 Column Outlier Treatment \n",
    "q1=np.quantile(df_num[\"Bedroom2\"],0.25)\n",
    "q3=np.quantile(df_num[\"Bedroom2\"],0.75)\n",
    "iqr=q3-q1\n",
    "print(\"Quantile1 for Bedroom2 is => \",q1)\n",
    "print(\"Quantile3 for Bedroom2 is => \",q3)\n",
    "print(\"IQR for Bedroom2 column is => \",iqr)\n",
    "#as we know we have higher extream values so no need to calculate lower whisker will only go for upper whisker \n",
    "up_whs=q3+3*iqr\n",
    "print(\"upper whisker with 3 penalty is => \",up_whs)\n",
    "\n",
    "# accept all those records which come below given whisker values\n",
    "df_num=df_num[df_num[\"Bedroom2\"]<up_whs]"
   ]
  },
  {
   "cell_type": "code",
   "execution_count": 39,
   "metadata": {},
   "outputs": [
    {
     "data": {
      "text/plain": [
       "(13165, 14)"
      ]
     },
     "execution_count": 39,
     "metadata": {},
     "output_type": "execute_result"
    }
   ],
   "source": [
    "df_num.shape"
   ]
  },
  {
   "cell_type": "code",
   "execution_count": 40,
   "metadata": {},
   "outputs": [
    {
     "name": "stdout",
     "output_type": "stream",
     "text": [
      "Quantile1 for Bathroom  is =>  1.0\n",
      "Quantile3 for Bathroom  is =>  2.0\n",
      "IQR for Bathroom  column is =>  1.0\n",
      "upper whisker with 3 penalty is =>  5.0\n"
     ]
    }
   ],
   "source": [
    "# Bathroom  Column Outlier Treatment \n",
    "q1=np.quantile(df_num[\"Bathroom\"],0.25)\n",
    "q3=np.quantile(df_num[\"Bathroom\"],0.75)\n",
    "iqr=q3-q1\n",
    "print(\"Quantile1 for Bathroom  is => \",q1)\n",
    "print(\"Quantile3 for Bathroom  is => \",q3)\n",
    "print(\"IQR for Bathroom  column is => \",iqr)\n",
    "#as we know we have higher extream values so no need to calculate lower whisker will only go for upper whisker \n",
    "up_whs=q3+3*iqr\n",
    "print(\"upper whisker with 3 penalty is => \",up_whs)\n",
    "\n",
    "# accept all those records which come below given whisker values\n",
    "df_num=df_num[df_num[\"Bathroom\"]<up_whs]"
   ]
  },
  {
   "cell_type": "code",
   "execution_count": 41,
   "metadata": {},
   "outputs": [
    {
     "data": {
      "text/plain": [
       "(13142, 14)"
      ]
     },
     "execution_count": 41,
     "metadata": {},
     "output_type": "execute_result"
    }
   ],
   "source": [
    "df_num.shape"
   ]
  },
  {
   "cell_type": "code",
   "execution_count": 42,
   "metadata": {},
   "outputs": [
    {
     "name": "stdout",
     "output_type": "stream",
     "text": [
      "Quantile1 for Car  is =>  1.0\n",
      "Quantile3 for Car  is =>  2.0\n",
      "IQR for Car  column is =>  1.0\n",
      "upper whisker with 3 penalty is =>  5.0\n"
     ]
    }
   ],
   "source": [
    "# Car  Column Outlier Treatment \n",
    "q1=np.quantile(df_num[\"Car\"],0.25)\n",
    "q3=np.quantile(df_num[\"Car\"],0.75)\n",
    "iqr=q3-q1\n",
    "print(\"Quantile1 for Car  is => \",q1)\n",
    "print(\"Quantile3 for Car  is => \",q3)\n",
    "print(\"IQR for Car  column is => \",iqr)\n",
    "#as we know we have higher extream values so no need to calculate lower whisker will only go for upper whisker \n",
    "up_whs=q3+3*iqr\n",
    "print(\"upper whisker with 3 penalty is => \",up_whs)\n",
    "\n",
    "# accept all those records which come below given whisker values\n",
    "df_num=df_num[df_num[\"Car\"]<up_whs]"
   ]
  },
  {
   "cell_type": "code",
   "execution_count": 43,
   "metadata": {},
   "outputs": [
    {
     "data": {
      "text/plain": [
       "(13020, 14)"
      ]
     },
     "execution_count": 43,
     "metadata": {},
     "output_type": "execute_result"
    }
   ],
   "source": [
    "df_num.shape"
   ]
  },
  {
   "cell_type": "code",
   "execution_count": 44,
   "metadata": {},
   "outputs": [
    {
     "name": "stdout",
     "output_type": "stream",
     "text": [
      "Quantile1 for Landsize  is =>  168.0\n",
      "Quantile3 for Landsize  is =>  646.0\n",
      "IQR for Car  column is =>  478.0\n",
      "upper whisker with 3 penalty is =>  2080.0\n"
     ]
    }
   ],
   "source": [
    "# Landsize Column Outlier Treatment \n",
    "q1=np.quantile(df_num[\"Landsize\"],0.25)\n",
    "q3=np.quantile(df_num[\"Landsize\"],0.75)\n",
    "iqr=q3-q1\n",
    "print(\"Quantile1 for Landsize  is => \",q1)\n",
    "print(\"Quantile3 for Landsize  is => \",q3)\n",
    "print(\"IQR for Car  column is => \",iqr)\n",
    "#as we know we have higher extream values so no need to calculate lower whisker will only go for upper whisker \n",
    "up_whs=q3+3*iqr\n",
    "print(\"upper whisker with 3 penalty is => \",up_whs)\n",
    "\n",
    "# accept all those records which come below given whisker values\n",
    "df_num=df_num[df_num[\"Landsize\"]<up_whs]"
   ]
  },
  {
   "cell_type": "code",
   "execution_count": 45,
   "metadata": {},
   "outputs": [
    {
     "data": {
      "text/plain": [
       "(12818, 14)"
      ]
     },
     "execution_count": 45,
     "metadata": {},
     "output_type": "execute_result"
    }
   ],
   "source": [
    "df_num.shape"
   ]
  },
  {
   "cell_type": "code",
   "execution_count": 46,
   "metadata": {},
   "outputs": [
    {
     "name": "stdout",
     "output_type": "stream",
     "text": [
      "Quantile1 for BuildingArea  is =>  120.0\n",
      "Quantile3 for BuildingArea  is =>  151.96764988779805\n",
      "IQR for BuildingArea  column is =>  31.967649887798046\n",
      "upper whisker with 3 penalty is =>  247.87059955119219\n"
     ]
    }
   ],
   "source": [
    "# BuildingArea Column Outlier Treatment \n",
    "q1=np.quantile(df_num[\"BuildingArea\"],0.25)\n",
    "q3=np.quantile(df_num[\"BuildingArea\"],0.75)\n",
    "iqr=q3-q1\n",
    "print(\"Quantile1 for BuildingArea  is => \",q1)\n",
    "print(\"Quantile3 for BuildingArea  is => \",q3)\n",
    "print(\"IQR for BuildingArea  column is => \",iqr)\n",
    "#as we know we have higher extream values so no need to calculate lower whisker will only go for upper whisker \n",
    "up_whs=q3+3*iqr\n",
    "print(\"upper whisker with 3 penalty is => \",up_whs)\n",
    "\n",
    "# accept all those records which come below given whisker values\n",
    "df_num=df_num[df_num[\"BuildingArea\"]<up_whs]"
   ]
  },
  {
   "cell_type": "code",
   "execution_count": 47,
   "metadata": {},
   "outputs": [
    {
     "data": {
      "text/plain": [
       "(12299, 14)"
      ]
     },
     "execution_count": 47,
     "metadata": {},
     "output_type": "execute_result"
    }
   ],
   "source": [
    "df_num.shape"
   ]
  },
  {
   "cell_type": "code",
   "execution_count": 48,
   "metadata": {},
   "outputs": [
    {
     "name": "stdout",
     "output_type": "stream",
     "text": [
      "Quantile1 for YearBuilt  is =>  1960.0\n",
      "Quantile3 for YearBuilt  is =>  1970.0\n",
      "IQR for YearBuilt  column is =>  10.0\n",
      "upper whisker with 3 penalty is =>  2000.0\n"
     ]
    },
    {
     "data": {
      "text/plain": [
       "(10625, 14)"
      ]
     },
     "execution_count": 48,
     "metadata": {},
     "output_type": "execute_result"
    }
   ],
   "source": [
    "# YearBuilt Column Outlier Treatment \n",
    "q1=np.quantile(df_num[\"YearBuilt\"],0.25)\n",
    "q3=np.quantile(df_num[\"YearBuilt\"],0.75)\n",
    "iqr=q3-q1\n",
    "print(\"Quantile1 for YearBuilt  is => \",q1)\n",
    "print(\"Quantile3 for YearBuilt  is => \",q3)\n",
    "print(\"IQR for YearBuilt  column is => \",iqr)\n",
    "#as we know we have higher extream values so no need to calculate lower whisker will only go for upper whisker \n",
    "up_whs=q3+3*iqr\n",
    "print(\"upper whisker with 3 penalty is => \",up_whs)\n",
    "\n",
    "# accept all those records which come below given whisker values\n",
    "df_num=df_num[df_num[\"YearBuilt\"]<up_whs]\n",
    "\n",
    "df_num.shape"
   ]
  },
  {
   "cell_type": "code",
   "execution_count": 49,
   "metadata": {},
   "outputs": [
    {
     "name": "stdout",
     "output_type": "stream",
     "text": [
      "Quantile1 for Lattitude  is =>  -37.856359999999995\n",
      "Quantile3 for Lattitude  is =>  -37.7559\n",
      "IQR for Lattitude  column is =>  0.10045999999999822\n",
      "upper whisker with 3 penalty is =>  -37.45452\n"
     ]
    },
    {
     "data": {
      "text/plain": [
       "(10625, 14)"
      ]
     },
     "execution_count": 49,
     "metadata": {},
     "output_type": "execute_result"
    }
   ],
   "source": [
    "# Lattitude Column Outlier Treatment \n",
    "q1=np.quantile(df_num[\"Lattitude\"],0.25)\n",
    "q3=np.quantile(df_num[\"Lattitude\"],0.75)\n",
    "iqr=q3-q1\n",
    "print(\"Quantile1 for Lattitude  is => \",q1)\n",
    "print(\"Quantile3 for Lattitude  is => \",q3)\n",
    "print(\"IQR for Lattitude  column is => \",iqr)\n",
    "#as we know we have higher extream values so no need to calculate lower whisker will only go for upper whisker \n",
    "up_whs=q3+3*iqr\n",
    "print(\"upper whisker with 3 penalty is => \",up_whs)\n",
    "\n",
    "# accept all those records which come below given whisker values\n",
    "df_num=df_num[df_num[\"Lattitude\"]<up_whs]\n",
    "\n",
    "df_num.shape"
   ]
  },
  {
   "cell_type": "code",
   "execution_count": 50,
   "metadata": {},
   "outputs": [
    {
     "name": "stdout",
     "output_type": "stream",
     "text": [
      "Quantile1 for Longtitude  is =>  144.9316\n",
      "Quantile3 for Longtitude  is =>  145.0565\n",
      "IQR for Longtitude  column is =>  0.12489999999999668\n",
      "upper whisker with 3 penalty is =>  145.4312\n"
     ]
    },
    {
     "data": {
      "text/plain": [
       "(10625, 14)"
      ]
     },
     "execution_count": 50,
     "metadata": {},
     "output_type": "execute_result"
    }
   ],
   "source": [
    "# Longtitude Column Outlier Treatment \n",
    "q1=np.quantile(df_num[\"Longtitude\"],0.25)\n",
    "q3=np.quantile(df_num[\"Longtitude\"],0.75)\n",
    "iqr=q3-q1\n",
    "print(\"Quantile1 for Longtitude  is => \",q1)\n",
    "print(\"Quantile3 for Longtitude  is => \",q3)\n",
    "print(\"IQR for Longtitude  column is => \",iqr)\n",
    "#as we know we have higher extream values so no need to calculate lower whisker will only go for upper whisker \n",
    "up_whs=q3+3*iqr\n",
    "print(\"upper whisker with 3 penalty is => \",up_whs)\n",
    "\n",
    "# accept all those records which come below given whisker values\n",
    "df_num=df_num[df_num[\"Longtitude\"]<up_whs]\n",
    "\n",
    "df_num.shape"
   ]
  },
  {
   "cell_type": "code",
   "execution_count": 51,
   "metadata": {},
   "outputs": [
    {
     "data": {
      "image/png": "[encoded data removed]",
      "text/plain": [
       "<Figure size 504x504 with 1 Axes>"
      ]
     },
     "metadata": {
      "needs_background": "light"
     },
     "output_type": "display_data"
    },
    {
     "data": {
      "image/png": "[encoded data removed]",
      "text/plain": [
       "<Figure size 504x504 with 1 Axes>"
      ]
     },
     "metadata": {
      "needs_background": "light"
     },
     "output_type": "display_data"
    },
    {
     "data": {
      "image/png": "[encoded data removed]",
      "text/plain": [
       "<Figure size 504x504 with 1 Axes>"
      ]
     },
     "metadata": {
      "needs_background": "light"
     },
     "output_type": "display_data"
    },
    {
     "data": {
      "image/png": "[encoded data removed]",
      "text/plain": [
       "<Figure size 504x504 with 1 Axes>"
      ]
     },
     "metadata": {
      "needs_background": "light"
     },
     "output_type": "display_data"
    },
    {
     "data": {
      "image/png": "[encoded data removed]",
      "text/plain": [
       "<Figure size 504x504 with 1 Axes>"
      ]
     },
     "metadata": {
      "needs_background": "light"
     },
     "output_type": "display_data"
    },
    {
     "data": {
      "image/png": "[encoded data removed]",
      "text/plain": [
       "<Figure size 504x504 with 1 Axes>"
      ]
     },
     "metadata": {
      "needs_background": "light"
     },
     "output_type": "display_data"
    },
    {
     "data": {
      "image/png": "[encoded data removed]",
      "text/plain": [
       "<Figure size 504x504 with 1 Axes>"
      ]
     },
     "metadata": {
      "needs_background": "light"
     },
     "output_type": "display_data"
    },
    {
     "data": {
      "image/png": "[encoded data removed]",
      "text/plain": [
       "<Figure size 504x504 with 1 Axes>"
      ]
     },
     "metadata": {
      "needs_background": "light"
     },
     "output_type": "display_data"
    },
    {
     "data": {
      "image/png": "[encoded data removed]",
      "text/plain": [
       "<Figure size 504x504 with 1 Axes>"
      ]
     },
     "metadata": {
      "needs_background": "light"
     },
     "output_type": "display_data"
    },
    {
     "data": {
      "image/png": "[encoded data removed]",
      "text/plain": [
       "<Figure size 504x504 with 1 Axes>"
      ]
     },
     "metadata": {
      "needs_background": "light"
     },
     "output_type": "display_data"
    },
    {
     "data": {
      "image/png": "[encoded data removed]",
      "text/plain": [
       "<Figure size 504x504 with 1 Axes>"
      ]
     },
     "metadata": {
      "needs_background": "light"
     },
     "output_type": "display_data"
    },
    {
     "data": {
      "image/png": "[encoded data removed]",
      "text/plain": [
       "<Figure size 504x504 with 1 Axes>"
      ]
     },
     "metadata": {
      "needs_background": "light"
     },
     "output_type": "display_data"
    },
    {
     "data": {
      "image/png": "[encoded data removed]",
      "text/plain": [
       "<Figure size 504x504 with 1 Axes>"
      ]
     },
     "metadata": {
      "needs_background": "light"
     },
     "output_type": "display_data"
    },
    {
     "data": {
      "image/png": "[encoded data removed]",
      "text/plain": [
       "<Figure size 504x504 with 1 Axes>"
      ]
     },
     "metadata": {
      "needs_background": "light"
     },
     "output_type": "display_data"
    }
   ],
   "source": [
    "for i in df_num:\n",
    "    plt.figure(figsize=(7,7))\n",
    "    sns.boxplot(data=df_num,x=i,whis=3)\n",
    "    # upper whisker = q3+1.5*IQR\n",
    "    # lower whisker = q1 - 1.5*IQR \n",
    "    # boxplot will calculate upper whisker and lower whisker by it's own and the nit will plot the box\n",
    "    plt.show()"
   ]
  },
  {
   "cell_type": "code",
   "execution_count": 52,
   "metadata": {},
   "outputs": [],
   "source": [
    "from scipy.stats import skew"
   ]
  },
  {
   "cell_type": "code",
   "execution_count": 53,
   "metadata": {},
   "outputs": [
    {
     "name": "stdout",
     "output_type": "stream",
     "text": [
      "Rooms 0.09257188052133325\n",
      "Price 1.1877273882237815\n",
      "Date -0.08200773551344899\n",
      "Distance 1.037289679798192\n",
      "Postcode 0.7487817167630078\n",
      "Bedroom2 0.07629541355793812\n",
      "Bathroom 1.0854712234221415\n",
      "Car 0.5773445444737243\n",
      "Landsize 0.705283901150437\n",
      "BuildingArea -0.8551271815732407\n",
      "YearBuilt -4.207763504606519\n",
      "Lattitude -0.21779887595131195\n",
      "Longtitude -0.30166927046556385\n",
      "Propertycount 1.0781062109626174\n"
     ]
    }
   ],
   "source": [
    "# Skew = 3 * (Mean – Median) / Standard Deviation.\n",
    "for i in df_num:\n",
    "    print(i,skew(df_num[i]))\n",
    "\n",
    "#data skewness > -1 and < 1 that means data is normally distributed "
   ]
  },
  {
   "cell_type": "code",
   "execution_count": 54,
   "metadata": {},
   "outputs": [
    {
     "name": "stdout",
     "output_type": "stream",
     "text": [
      "Rooms 0.09257188052133325\n"
     ]
    },
    {
     "data": {
      "image/png": "[encoded data removed]",
      "text/plain": [
       "<Figure size 432x288 with 1 Axes>"
      ]
     },
     "metadata": {
      "needs_background": "light"
     },
     "output_type": "display_data"
    },
    {
     "name": "stdout",
     "output_type": "stream",
     "text": [
      "Price 1.1877273882237815\n"
     ]
    },
    {
     "data": {
      "image/png": "[encoded data removed]",
      "text/plain": [
       "<Figure size 432x288 with 1 Axes>"
      ]
     },
     "metadata": {
      "needs_background": "light"
     },
     "output_type": "display_data"
    },
    {
     "name": "stdout",
     "output_type": "stream",
     "text": [
      "Date -0.08200773551344899\n"
     ]
    },
    {
     "data": {
      "image/png": "[encoded data removed]",
      "text/plain": [
       "<Figure size 432x288 with 1 Axes>"
      ]
     },
     "metadata": {
      "needs_background": "light"
     },
     "output_type": "display_data"
    },
    {
     "name": "stdout",
     "output_type": "stream",
     "text": [
      "Distance 1.037289679798192\n"
     ]
    },
    {
     "data": {
      "image/png": "[encoded data removed]",
      "text/plain": [
       "<Figure size 432x288 with 1 Axes>"
      ]
     },
     "metadata": {
      "needs_background": "light"
     },
     "output_type": "display_data"
    },
    {
     "name": "stdout",
     "output_type": "stream",
     "text": [
      "Postcode 0.7487817167630078\n"
     ]
    },
    {
     "data": {
      "image/png": "[encoded data removed]",
      "text/plain": [
       "<Figure size 432x288 with 1 Axes>"
      ]
     },
     "metadata": {
      "needs_background": "light"
     },
     "output_type": "display_data"
    },
    {
     "name": "stdout",
     "output_type": "stream",
     "text": [
      "Bedroom2 0.07629541355793812\n"
     ]
    },
    {
     "data": {
      "image/png": "[encoded data removed]",
      "text/plain": [
       "<Figure size 432x288 with 1 Axes>"
      ]
     },
     "metadata": {
      "needs_background": "light"
     },
     "output_type": "display_data"
    },
    {
     "name": "stdout",
     "output_type": "stream",
     "text": [
      "Bathroom 1.0854712234221415\n"
     ]
    },
    {
     "data": {
      "image/png": "[encoded data removed]",
      "text/plain": [
       "<Figure size 432x288 with 1 Axes>"
      ]
     },
     "metadata": {
      "needs_background": "light"
     },
     "output_type": "display_data"
    },
    {
     "name": "stdout",
     "output_type": "stream",
     "text": [
      "Car 0.5773445444737243\n"
     ]
    },
    {
     "data": {
      "image/png": "[encoded data removed]",
      "text/plain": [
       "<Figure size 432x288 with 1 Axes>"
      ]
     },
     "metadata": {
      "needs_background": "light"
     },
     "output_type": "display_data"
    },
    {
     "name": "stdout",
     "output_type": "stream",
     "text": [
      "Landsize 0.705283901150437\n"
     ]
    },
    {
     "data": {
      "image/png": "[encoded data removed]",
      "text/plain": [
       "<Figure size 432x288 with 1 Axes>"
      ]
     },
     "metadata": {
      "needs_background": "light"
     },
     "output_type": "display_data"
    },
    {
     "name": "stdout",
     "output_type": "stream",
     "text": [
      "BuildingArea -0.8551271815732407\n"
     ]
    },
    {
     "data": {
      "image/png": "[encoded data removed]",
      "text/plain": [
       "<Figure size 432x288 with 1 Axes>"
      ]
     },
     "metadata": {
      "needs_background": "light"
     },
     "output_type": "display_data"
    },
    {
     "name": "stdout",
     "output_type": "stream",
     "text": [
      "YearBuilt -4.207763504606519\n"
     ]
    },
    {
     "data": {
      "image/png": "[encoded data removed]",
      "text/plain": [
       "<Figure size 432x288 with 1 Axes>"
      ]
     },
     "metadata": {
      "needs_background": "light"
     },
     "output_type": "display_data"
    },
    {
     "name": "stdout",
     "output_type": "stream",
     "text": [
      "Lattitude -0.21779887595131195\n"
     ]
    },
    {
     "data": {
      "image/png": "[encoded data removed]",
      "text/plain": [
       "<Figure size 432x288 with 1 Axes>"
      ]
     },
     "metadata": {
      "needs_background": "light"
     },
     "output_type": "display_data"
    },
    {
     "name": "stdout",
     "output_type": "stream",
     "text": [
      "Longtitude -0.30166927046556385\n"
     ]
    },
    {
     "data": {
      "image/png": "[encoded data removed]",
      "text/plain": [
       "<Figure size 432x288 with 1 Axes>"
      ]
     },
     "metadata": {
      "needs_background": "light"
     },
     "output_type": "display_data"
    },
    {
     "name": "stdout",
     "output_type": "stream",
     "text": [
      "Propertycount 1.0781062109626174\n"
     ]
    },
    {
     "data": {
      "image/png": "[encoded data removed]",
      "text/plain": [
       "<Figure size 432x288 with 1 Axes>"
      ]
     },
     "metadata": {
      "needs_background": "light"
     },
     "output_type": "display_data"
    }
   ],
   "source": [
    "for col in df_num:\n",
    "    print(col,skew(df_num[col]))\n",
    "    plt.figure()\n",
    "    sns.distplot(df_num[col])\n",
    "    plt.axvline(df_num[col].mean(),color=\"red\")\n",
    "    plt.axvline(df_num[col].median(),color=\"yellow\")\n",
    "    plt.show()"
   ]
  },
  {
   "cell_type": "code",
   "execution_count": 55,
   "metadata": {},
   "outputs": [],
   "source": [
    "# the columns which skewness values is >=1 and <= -1 those columns skewness we will reduce \n",
    "df_num_sqrt=df_num.copy()\n",
    "for col in df_num_sqrt:\n",
    "    if skew(df_num_sqrt[col]) >=1 or skew(df_num_sqrt[col])<=-1:\n",
    "        df_num_sqrt[col]=np.sqrt(df_num_sqrt[col])"
   ]
  },
  {
   "cell_type": "code",
   "execution_count": 56,
   "metadata": {},
   "outputs": [
    {
     "data": {
      "text/html": [
       "<div>\n",
       "<style scoped>\n",
       "    .dataframe tbody tr th:only-of-type {\n",
       "        vertical-align: middle;\n",
       "    }\n",
       "\n",
       "    .dataframe tbody tr th {\n",
       "        vertical-align: top;\n",
       "    }\n",
       "\n",
       "    .dataframe thead th {\n",
       "        text-align: right;\n",
       "    }\n",
       "</style>\n",
       "<table border=\"1\" class=\"dataframe\">\n",
       "  <thead>\n",
       "    <tr style=\"text-align: right;\">\n",
       "      <th></th>\n",
       "      <th>Rooms</th>\n",
       "      <th>Price</th>\n",
       "      <th>Date</th>\n",
       "      <th>Distance</th>\n",
       "      <th>Postcode</th>\n",
       "      <th>Bedroom2</th>\n",
       "      <th>Bathroom</th>\n",
       "      <th>Car</th>\n",
       "      <th>Landsize</th>\n",
       "      <th>BuildingArea</th>\n",
       "      <th>YearBuilt</th>\n",
       "      <th>Lattitude</th>\n",
       "      <th>Longtitude</th>\n",
       "      <th>Propertycount</th>\n",
       "    </tr>\n",
       "    <tr>\n",
       "      <th>ID</th>\n",
       "      <th></th>\n",
       "      <th></th>\n",
       "      <th></th>\n",
       "      <th></th>\n",
       "      <th></th>\n",
       "      <th></th>\n",
       "      <th></th>\n",
       "      <th></th>\n",
       "      <th></th>\n",
       "      <th></th>\n",
       "      <th></th>\n",
       "      <th></th>\n",
       "      <th></th>\n",
       "      <th></th>\n",
       "    </tr>\n",
       "  </thead>\n",
       "  <tbody>\n",
       "    <tr>\n",
       "      <th>1</th>\n",
       "      <td>2</td>\n",
       "      <td>1216.552506</td>\n",
       "      <td>3122016</td>\n",
       "      <td>1.581139</td>\n",
       "      <td>3067.0</td>\n",
       "      <td>2.0</td>\n",
       "      <td>1.000000</td>\n",
       "      <td>1.0</td>\n",
       "      <td>202.0</td>\n",
       "      <td>151.96765</td>\n",
       "      <td>44.324759</td>\n",
       "      <td>-37.79960</td>\n",
       "      <td>144.99840</td>\n",
       "      <td>63.395583</td>\n",
       "    </tr>\n",
       "    <tr>\n",
       "      <th>2</th>\n",
       "      <td>2</td>\n",
       "      <td>1017.349497</td>\n",
       "      <td>4022016</td>\n",
       "      <td>1.581139</td>\n",
       "      <td>3067.0</td>\n",
       "      <td>2.0</td>\n",
       "      <td>1.000000</td>\n",
       "      <td>0.0</td>\n",
       "      <td>156.0</td>\n",
       "      <td>79.00000</td>\n",
       "      <td>43.588989</td>\n",
       "      <td>-37.80790</td>\n",
       "      <td>144.99340</td>\n",
       "      <td>63.395583</td>\n",
       "    </tr>\n",
       "    <tr>\n",
       "      <th>3</th>\n",
       "      <td>3</td>\n",
       "      <td>1210.371844</td>\n",
       "      <td>4032017</td>\n",
       "      <td>1.581139</td>\n",
       "      <td>3067.0</td>\n",
       "      <td>3.0</td>\n",
       "      <td>1.414214</td>\n",
       "      <td>0.0</td>\n",
       "      <td>134.0</td>\n",
       "      <td>150.00000</td>\n",
       "      <td>43.588989</td>\n",
       "      <td>-37.80930</td>\n",
       "      <td>144.99440</td>\n",
       "      <td>63.395583</td>\n",
       "    </tr>\n",
       "    <tr>\n",
       "      <th>4</th>\n",
       "      <td>3</td>\n",
       "      <td>921.954446</td>\n",
       "      <td>4032017</td>\n",
       "      <td>1.581139</td>\n",
       "      <td>3067.0</td>\n",
       "      <td>3.0</td>\n",
       "      <td>1.414214</td>\n",
       "      <td>1.0</td>\n",
       "      <td>94.0</td>\n",
       "      <td>151.96765</td>\n",
       "      <td>44.324759</td>\n",
       "      <td>-37.79690</td>\n",
       "      <td>144.99690</td>\n",
       "      <td>63.395583</td>\n",
       "    </tr>\n",
       "    <tr>\n",
       "      <th>6</th>\n",
       "      <td>2</td>\n",
       "      <td>970.051545</td>\n",
       "      <td>7052016</td>\n",
       "      <td>1.581139</td>\n",
       "      <td>3067.0</td>\n",
       "      <td>2.0</td>\n",
       "      <td>1.000000</td>\n",
       "      <td>0.0</td>\n",
       "      <td>181.0</td>\n",
       "      <td>151.96765</td>\n",
       "      <td>44.324759</td>\n",
       "      <td>-37.80410</td>\n",
       "      <td>144.99530</td>\n",
       "      <td>63.395583</td>\n",
       "    </tr>\n",
       "    <tr>\n",
       "      <th>...</th>\n",
       "      <td>...</td>\n",
       "      <td>...</td>\n",
       "      <td>...</td>\n",
       "      <td>...</td>\n",
       "      <td>...</td>\n",
       "      <td>...</td>\n",
       "      <td>...</td>\n",
       "      <td>...</td>\n",
       "      <td>...</td>\n",
       "      <td>...</td>\n",
       "      <td>...</td>\n",
       "      <td>...</td>\n",
       "      <td>...</td>\n",
       "      <td>...</td>\n",
       "    </tr>\n",
       "    <tr>\n",
       "      <th>13575</th>\n",
       "      <td>3</td>\n",
       "      <td>762.889245</td>\n",
       "      <td>26082017</td>\n",
       "      <td>4.062019</td>\n",
       "      <td>3049.0</td>\n",
       "      <td>3.0</td>\n",
       "      <td>1.414214</td>\n",
       "      <td>2.0</td>\n",
       "      <td>256.0</td>\n",
       "      <td>151.96765</td>\n",
       "      <td>44.324759</td>\n",
       "      <td>-37.67917</td>\n",
       "      <td>144.89390</td>\n",
       "      <td>49.739320</td>\n",
       "    </tr>\n",
       "    <tr>\n",
       "      <th>13576</th>\n",
       "      <td>4</td>\n",
       "      <td>1115.795680</td>\n",
       "      <td>26082017</td>\n",
       "      <td>4.086563</td>\n",
       "      <td>3150.0</td>\n",
       "      <td>4.0</td>\n",
       "      <td>1.414214</td>\n",
       "      <td>2.0</td>\n",
       "      <td>652.0</td>\n",
       "      <td>151.96765</td>\n",
       "      <td>44.508426</td>\n",
       "      <td>-37.90562</td>\n",
       "      <td>145.16761</td>\n",
       "      <td>85.976741</td>\n",
       "    </tr>\n",
       "    <tr>\n",
       "      <th>13577</th>\n",
       "      <td>3</td>\n",
       "      <td>1015.381702</td>\n",
       "      <td>26082017</td>\n",
       "      <td>2.607681</td>\n",
       "      <td>3016.0</td>\n",
       "      <td>3.0</td>\n",
       "      <td>1.414214</td>\n",
       "      <td>2.0</td>\n",
       "      <td>333.0</td>\n",
       "      <td>133.00000</td>\n",
       "      <td>44.665423</td>\n",
       "      <td>-37.85927</td>\n",
       "      <td>144.87904</td>\n",
       "      <td>79.874902</td>\n",
       "    </tr>\n",
       "    <tr>\n",
       "      <th>13578</th>\n",
       "      <td>3</td>\n",
       "      <td>1081.665383</td>\n",
       "      <td>26082017</td>\n",
       "      <td>2.607681</td>\n",
       "      <td>3016.0</td>\n",
       "      <td>3.0</td>\n",
       "      <td>1.414214</td>\n",
       "      <td>4.0</td>\n",
       "      <td>436.0</td>\n",
       "      <td>151.96765</td>\n",
       "      <td>44.687806</td>\n",
       "      <td>-37.85274</td>\n",
       "      <td>144.88738</td>\n",
       "      <td>79.874902</td>\n",
       "    </tr>\n",
       "    <tr>\n",
       "      <th>13580</th>\n",
       "      <td>4</td>\n",
       "      <td>1133.578405</td>\n",
       "      <td>26082017</td>\n",
       "      <td>2.509980</td>\n",
       "      <td>3013.0</td>\n",
       "      <td>4.0</td>\n",
       "      <td>1.000000</td>\n",
       "      <td>1.0</td>\n",
       "      <td>362.0</td>\n",
       "      <td>112.00000</td>\n",
       "      <td>43.817805</td>\n",
       "      <td>-37.81188</td>\n",
       "      <td>144.88449</td>\n",
       "      <td>80.888813</td>\n",
       "    </tr>\n",
       "  </tbody>\n",
       "</table>\n",
       "<p>10625 rows × 14 columns</p>\n",
       "</div>"
      ],
      "text/plain": [
       "       Rooms        Price      Date  Distance  Postcode  Bedroom2  Bathroom  \\\n",
       "ID                                                                            \n",
       "1          2  1216.552506   3122016  1.581139    3067.0       2.0  1.000000   \n",
       "2          2  1017.349497   4022016  1.581139    3067.0       2.0  1.000000   \n",
       "3          3  1210.371844   4032017  1.581139    3067.0       3.0  1.414214   \n",
       "4          3   921.954446   4032017  1.581139    3067.0       3.0  1.414214   \n",
       "6          2   970.051545   7052016  1.581139    3067.0       2.0  1.000000   \n",
       "...      ...          ...       ...       ...       ...       ...       ...   \n",
       "13575      3   762.889245  26082017  4.062019    3049.0       3.0  1.414214   \n",
       "13576      4  1115.795680  26082017  4.086563    3150.0       4.0  1.414214   \n",
       "13577      3  1015.381702  26082017  2.607681    3016.0       3.0  1.414214   \n",
       "13578      3  1081.665383  26082017  2.607681    3016.0       3.0  1.414214   \n",
       "13580      4  1133.578405  26082017  2.509980    3013.0       4.0  1.000000   \n",
       "\n",
       "       Car  Landsize  BuildingArea  YearBuilt  Lattitude  Longtitude  \\\n",
       "ID                                                                     \n",
       "1      1.0     202.0     151.96765  44.324759  -37.79960   144.99840   \n",
       "2      0.0     156.0      79.00000  43.588989  -37.80790   144.99340   \n",
       "3      0.0     134.0     150.00000  43.588989  -37.80930   144.99440   \n",
       "4      1.0      94.0     151.96765  44.324759  -37.79690   144.99690   \n",
       "6      0.0     181.0     151.96765  44.324759  -37.80410   144.99530   \n",
       "...    ...       ...           ...        ...        ...         ...   \n",
       "13575  2.0     256.0     151.96765  44.324759  -37.67917   144.89390   \n",
       "13576  2.0     652.0     151.96765  44.508426  -37.90562   145.16761   \n",
       "13577  2.0     333.0     133.00000  44.665423  -37.85927   144.87904   \n",
       "13578  4.0     436.0     151.96765  44.687806  -37.85274   144.88738   \n",
       "13580  1.0     362.0     112.00000  43.817805  -37.81188   144.88449   \n",
       "\n",
       "       Propertycount  \n",
       "ID                    \n",
       "1          63.395583  \n",
       "2          63.395583  \n",
       "3          63.395583  \n",
       "4          63.395583  \n",
       "6          63.395583  \n",
       "...              ...  \n",
       "13575      49.739320  \n",
       "13576      85.976741  \n",
       "13577      79.874902  \n",
       "13578      79.874902  \n",
       "13580      80.888813  \n",
       "\n",
       "[10625 rows x 14 columns]"
      ]
     },
     "execution_count": 56,
     "metadata": {},
     "output_type": "execute_result"
    }
   ],
   "source": [
    "df_num_sqrt"
   ]
  },
  {
   "cell_type": "code",
   "execution_count": 57,
   "metadata": {},
   "outputs": [
    {
     "name": "stdout",
     "output_type": "stream",
     "text": [
      "Rooms 0.09257188052133325\n",
      "Price 1.1877273882237815\n",
      "Date -0.08200773551344899\n",
      "Distance 1.037289679798192\n",
      "Postcode 0.7487817167630078\n",
      "Bedroom2 0.07629541355793812\n",
      "Bathroom 1.0854712234221415\n",
      "Car 0.5773445444737243\n",
      "Landsize 0.705283901150437\n",
      "BuildingArea -0.8551271815732407\n",
      "YearBuilt -4.207763504606519\n",
      "Lattitude -0.21779887595131195\n",
      "Longtitude -0.30166927046556385\n",
      "Propertycount 1.0781062109626174\n"
     ]
    }
   ],
   "source": [
    "# Skew = 3 * (Mean – Median) / Standard Deviation.\n",
    "for i in df_num:\n",
    "    print(i,skew(df_num[i]))\n",
    "\n",
    "#data skewness > -1 and < 1 that means data is normally distributed "
   ]
  },
  {
   "cell_type": "code",
   "execution_count": 58,
   "metadata": {},
   "outputs": [],
   "source": [
    "df_num_minmaxscale=df_num.copy()"
   ]
  },
  {
   "cell_type": "code",
   "execution_count": 59,
   "metadata": {},
   "outputs": [
    {
     "data": {
      "text/html": [
       "<div>\n",
       "<style scoped>\n",
       "    .dataframe tbody tr th:only-of-type {\n",
       "        vertical-align: middle;\n",
       "    }\n",
       "\n",
       "    .dataframe tbody tr th {\n",
       "        vertical-align: top;\n",
       "    }\n",
       "\n",
       "    .dataframe thead th {\n",
       "        text-align: right;\n",
       "    }\n",
       "</style>\n",
       "<table border=\"1\" class=\"dataframe\">\n",
       "  <thead>\n",
       "    <tr style=\"text-align: right;\">\n",
       "      <th></th>\n",
       "      <th>Rooms</th>\n",
       "      <th>Price</th>\n",
       "      <th>Date</th>\n",
       "      <th>Distance</th>\n",
       "      <th>Postcode</th>\n",
       "      <th>Bedroom2</th>\n",
       "      <th>Bathroom</th>\n",
       "      <th>Car</th>\n",
       "      <th>Landsize</th>\n",
       "      <th>BuildingArea</th>\n",
       "      <th>YearBuilt</th>\n",
       "      <th>Lattitude</th>\n",
       "      <th>Longtitude</th>\n",
       "      <th>Propertycount</th>\n",
       "    </tr>\n",
       "    <tr>\n",
       "      <th>ID</th>\n",
       "      <th></th>\n",
       "      <th></th>\n",
       "      <th></th>\n",
       "      <th></th>\n",
       "      <th></th>\n",
       "      <th></th>\n",
       "      <th></th>\n",
       "      <th></th>\n",
       "      <th></th>\n",
       "      <th></th>\n",
       "      <th></th>\n",
       "      <th></th>\n",
       "      <th></th>\n",
       "      <th></th>\n",
       "    </tr>\n",
       "  </thead>\n",
       "  <tbody>\n",
       "    <tr>\n",
       "      <th>1</th>\n",
       "      <td>2</td>\n",
       "      <td>1480000.0</td>\n",
       "      <td>3122016</td>\n",
       "      <td>2.5</td>\n",
       "      <td>3067.0</td>\n",
       "      <td>2.0</td>\n",
       "      <td>1.0</td>\n",
       "      <td>1.0</td>\n",
       "      <td>202.0</td>\n",
       "      <td>151.96765</td>\n",
       "      <td>1964.684217</td>\n",
       "      <td>-37.79960</td>\n",
       "      <td>144.99840</td>\n",
       "      <td>4019.0</td>\n",
       "    </tr>\n",
       "    <tr>\n",
       "      <th>2</th>\n",
       "      <td>2</td>\n",
       "      <td>1035000.0</td>\n",
       "      <td>4022016</td>\n",
       "      <td>2.5</td>\n",
       "      <td>3067.0</td>\n",
       "      <td>2.0</td>\n",
       "      <td>1.0</td>\n",
       "      <td>0.0</td>\n",
       "      <td>156.0</td>\n",
       "      <td>79.00000</td>\n",
       "      <td>1900.000000</td>\n",
       "      <td>-37.80790</td>\n",
       "      <td>144.99340</td>\n",
       "      <td>4019.0</td>\n",
       "    </tr>\n",
       "    <tr>\n",
       "      <th>3</th>\n",
       "      <td>3</td>\n",
       "      <td>1465000.0</td>\n",
       "      <td>4032017</td>\n",
       "      <td>2.5</td>\n",
       "      <td>3067.0</td>\n",
       "      <td>3.0</td>\n",
       "      <td>2.0</td>\n",
       "      <td>0.0</td>\n",
       "      <td>134.0</td>\n",
       "      <td>150.00000</td>\n",
       "      <td>1900.000000</td>\n",
       "      <td>-37.80930</td>\n",
       "      <td>144.99440</td>\n",
       "      <td>4019.0</td>\n",
       "    </tr>\n",
       "    <tr>\n",
       "      <th>4</th>\n",
       "      <td>3</td>\n",
       "      <td>850000.0</td>\n",
       "      <td>4032017</td>\n",
       "      <td>2.5</td>\n",
       "      <td>3067.0</td>\n",
       "      <td>3.0</td>\n",
       "      <td>2.0</td>\n",
       "      <td>1.0</td>\n",
       "      <td>94.0</td>\n",
       "      <td>151.96765</td>\n",
       "      <td>1964.684217</td>\n",
       "      <td>-37.79690</td>\n",
       "      <td>144.99690</td>\n",
       "      <td>4019.0</td>\n",
       "    </tr>\n",
       "    <tr>\n",
       "      <th>6</th>\n",
       "      <td>2</td>\n",
       "      <td>941000.0</td>\n",
       "      <td>7052016</td>\n",
       "      <td>2.5</td>\n",
       "      <td>3067.0</td>\n",
       "      <td>2.0</td>\n",
       "      <td>1.0</td>\n",
       "      <td>0.0</td>\n",
       "      <td>181.0</td>\n",
       "      <td>151.96765</td>\n",
       "      <td>1964.684217</td>\n",
       "      <td>-37.80410</td>\n",
       "      <td>144.99530</td>\n",
       "      <td>4019.0</td>\n",
       "    </tr>\n",
       "    <tr>\n",
       "      <th>...</th>\n",
       "      <td>...</td>\n",
       "      <td>...</td>\n",
       "      <td>...</td>\n",
       "      <td>...</td>\n",
       "      <td>...</td>\n",
       "      <td>...</td>\n",
       "      <td>...</td>\n",
       "      <td>...</td>\n",
       "      <td>...</td>\n",
       "      <td>...</td>\n",
       "      <td>...</td>\n",
       "      <td>...</td>\n",
       "      <td>...</td>\n",
       "      <td>...</td>\n",
       "    </tr>\n",
       "    <tr>\n",
       "      <th>13575</th>\n",
       "      <td>3</td>\n",
       "      <td>582000.0</td>\n",
       "      <td>26082017</td>\n",
       "      <td>16.5</td>\n",
       "      <td>3049.0</td>\n",
       "      <td>3.0</td>\n",
       "      <td>2.0</td>\n",
       "      <td>2.0</td>\n",
       "      <td>256.0</td>\n",
       "      <td>151.96765</td>\n",
       "      <td>1964.684217</td>\n",
       "      <td>-37.67917</td>\n",
       "      <td>144.89390</td>\n",
       "      <td>2474.0</td>\n",
       "    </tr>\n",
       "    <tr>\n",
       "      <th>13576</th>\n",
       "      <td>4</td>\n",
       "      <td>1245000.0</td>\n",
       "      <td>26082017</td>\n",
       "      <td>16.7</td>\n",
       "      <td>3150.0</td>\n",
       "      <td>4.0</td>\n",
       "      <td>2.0</td>\n",
       "      <td>2.0</td>\n",
       "      <td>652.0</td>\n",
       "      <td>151.96765</td>\n",
       "      <td>1981.000000</td>\n",
       "      <td>-37.90562</td>\n",
       "      <td>145.16761</td>\n",
       "      <td>7392.0</td>\n",
       "    </tr>\n",
       "    <tr>\n",
       "      <th>13577</th>\n",
       "      <td>3</td>\n",
       "      <td>1031000.0</td>\n",
       "      <td>26082017</td>\n",
       "      <td>6.8</td>\n",
       "      <td>3016.0</td>\n",
       "      <td>3.0</td>\n",
       "      <td>2.0</td>\n",
       "      <td>2.0</td>\n",
       "      <td>333.0</td>\n",
       "      <td>133.00000</td>\n",
       "      <td>1995.000000</td>\n",
       "      <td>-37.85927</td>\n",
       "      <td>144.87904</td>\n",
       "      <td>6380.0</td>\n",
       "    </tr>\n",
       "    <tr>\n",
       "      <th>13578</th>\n",
       "      <td>3</td>\n",
       "      <td>1170000.0</td>\n",
       "      <td>26082017</td>\n",
       "      <td>6.8</td>\n",
       "      <td>3016.0</td>\n",
       "      <td>3.0</td>\n",
       "      <td>2.0</td>\n",
       "      <td>4.0</td>\n",
       "      <td>436.0</td>\n",
       "      <td>151.96765</td>\n",
       "      <td>1997.000000</td>\n",
       "      <td>-37.85274</td>\n",
       "      <td>144.88738</td>\n",
       "      <td>6380.0</td>\n",
       "    </tr>\n",
       "    <tr>\n",
       "      <th>13580</th>\n",
       "      <td>4</td>\n",
       "      <td>1285000.0</td>\n",
       "      <td>26082017</td>\n",
       "      <td>6.3</td>\n",
       "      <td>3013.0</td>\n",
       "      <td>4.0</td>\n",
       "      <td>1.0</td>\n",
       "      <td>1.0</td>\n",
       "      <td>362.0</td>\n",
       "      <td>112.00000</td>\n",
       "      <td>1920.000000</td>\n",
       "      <td>-37.81188</td>\n",
       "      <td>144.88449</td>\n",
       "      <td>6543.0</td>\n",
       "    </tr>\n",
       "  </tbody>\n",
       "</table>\n",
       "<p>10625 rows × 14 columns</p>\n",
       "</div>"
      ],
      "text/plain": [
       "       Rooms      Price      Date  Distance  Postcode  Bedroom2  Bathroom  \\\n",
       "ID                                                                          \n",
       "1          2  1480000.0   3122016       2.5    3067.0       2.0       1.0   \n",
       "2          2  1035000.0   4022016       2.5    3067.0       2.0       1.0   \n",
       "3          3  1465000.0   4032017       2.5    3067.0       3.0       2.0   \n",
       "4          3   850000.0   4032017       2.5    3067.0       3.0       2.0   \n",
       "6          2   941000.0   7052016       2.5    3067.0       2.0       1.0   \n",
       "...      ...        ...       ...       ...       ...       ...       ...   \n",
       "13575      3   582000.0  26082017      16.5    3049.0       3.0       2.0   \n",
       "13576      4  1245000.0  26082017      16.7    3150.0       4.0       2.0   \n",
       "13577      3  1031000.0  26082017       6.8    3016.0       3.0       2.0   \n",
       "13578      3  1170000.0  26082017       6.8    3016.0       3.0       2.0   \n",
       "13580      4  1285000.0  26082017       6.3    3013.0       4.0       1.0   \n",
       "\n",
       "       Car  Landsize  BuildingArea    YearBuilt  Lattitude  Longtitude  \\\n",
       "ID                                                                       \n",
       "1      1.0     202.0     151.96765  1964.684217  -37.79960   144.99840   \n",
       "2      0.0     156.0      79.00000  1900.000000  -37.80790   144.99340   \n",
       "3      0.0     134.0     150.00000  1900.000000  -37.80930   144.99440   \n",
       "4      1.0      94.0     151.96765  1964.684217  -37.79690   144.99690   \n",
       "6      0.0     181.0     151.96765  1964.684217  -37.80410   144.99530   \n",
       "...    ...       ...           ...          ...        ...         ...   \n",
       "13575  2.0     256.0     151.96765  1964.684217  -37.67917   144.89390   \n",
       "13576  2.0     652.0     151.96765  1981.000000  -37.90562   145.16761   \n",
       "13577  2.0     333.0     133.00000  1995.000000  -37.85927   144.87904   \n",
       "13578  4.0     436.0     151.96765  1997.000000  -37.85274   144.88738   \n",
       "13580  1.0     362.0     112.00000  1920.000000  -37.81188   144.88449   \n",
       "\n",
       "       Propertycount  \n",
       "ID                    \n",
       "1             4019.0  \n",
       "2             4019.0  \n",
       "3             4019.0  \n",
       "4             4019.0  \n",
       "6             4019.0  \n",
       "...              ...  \n",
       "13575         2474.0  \n",
       "13576         7392.0  \n",
       "13577         6380.0  \n",
       "13578         6380.0  \n",
       "13580         6543.0  \n",
       "\n",
       "[10625 rows x 14 columns]"
      ]
     },
     "execution_count": 59,
     "metadata": {},
     "output_type": "execute_result"
    }
   ],
   "source": [
    "df_num_minmaxscale"
   ]
  },
  {
   "cell_type": "code",
   "execution_count": 60,
   "metadata": {},
   "outputs": [],
   "source": [
    "from sklearn.preprocessing  import MinMaxScaler\n",
    "scaler=MinMaxScaler()\n",
    "\n",
    "# it always return series but i need dataframe \n",
    "# house_num_minmaxscale =scaler.fit_transform(house_num_minmaxscale)\n",
    "# dataframe \n",
    "df_num_minmaxscale = pd.DataFrame(scaler.fit_transform(df_num_minmaxscale.values),\n",
    "                                     columns=df_num_minmaxscale.columns,\n",
    "                                     index=df_num_minmaxscale.index)"
   ]
  },
  {
   "cell_type": "code",
   "execution_count": 61,
   "metadata": {},
   "outputs": [
    {
     "name": "stdout",
     "output_type": "stream",
     "text": [
      "Rooms 0.09257188052133225\n",
      "Price 1.1877273882237798\n",
      "Date -0.08200773551344874\n",
      "Distance 1.037289679798192\n",
      "Postcode 0.7487817167630113\n",
      "Bedroom2 0.0762954135579381\n",
      "Bathroom 1.0854712234221415\n",
      "Car 0.5773445444737243\n",
      "Landsize 0.7052839011504373\n",
      "BuildingArea -0.855127181573238\n",
      "YearBuilt -4.207763504606548\n",
      "Lattitude -0.2177988759515651\n",
      "Longtitude -0.30166927046549424\n",
      "Propertycount 1.078106210962616\n"
     ]
    }
   ],
   "source": [
    "for i in df_num_minmaxscale:\n",
    "    print(i,skew(df_num_minmaxscale[i]))"
   ]
  },
  {
   "cell_type": "code",
   "execution_count": 62,
   "metadata": {},
   "outputs": [],
   "source": [
    "# 1) if we want to apply standered scaler than first remove outliers \n",
    "# if there is high outliers or low outliers we will not get standered or standered normal distribution data\n",
    "# Standered scaler \n",
    "# newx=(x-mean)/sd\n",
    "df_num_standered_scale=df_num.copy()\n",
    "from sklearn.preprocessing import StandardScaler\n",
    "scaler=StandardScaler()\n",
    "df_num_standered_scale = pd.DataFrame(scaler.fit_transform(df_num_standered_scale.values),\n",
    "                                     columns=df_num_standered_scale.columns,\n",
    "                                     index=df_num_standered_scale.index)\n",
    "\n"
   ]
  },
  {
   "cell_type": "code",
   "execution_count": 63,
   "metadata": {},
   "outputs": [
    {
     "name": "stdout",
     "output_type": "stream",
     "text": [
      "Rooms 0.09257188052133287\n",
      "Price 1.1877273882237815\n",
      "Date -0.082007735513449\n",
      "Distance 1.0372896797981925\n",
      "Postcode 0.7487817167630111\n",
      "Bedroom2 0.0762954135579384\n",
      "Bathroom 1.0854712234221415\n",
      "Car 0.5773445444737242\n",
      "Landsize 0.7052839011504372\n",
      "BuildingArea -0.8551271815732402\n",
      "YearBuilt -4.207763504606541\n",
      "Lattitude -0.21779887595156502\n",
      "Longtitude -0.30166927046549896\n",
      "Propertycount 1.0781062109626172\n"
     ]
    }
   ],
   "source": [
    "for i in df_num_standered_scale:\n",
    "    print(i,skew(df_num_standered_scale[i]))"
   ]
  },
  {
   "cell_type": "code",
   "execution_count": 64,
   "metadata": {},
   "outputs": [
    {
     "data": {
      "text/html": [
       "<div>\n",
       "<style scoped>\n",
       "    .dataframe tbody tr th:only-of-type {\n",
       "        vertical-align: middle;\n",
       "    }\n",
       "\n",
       "    .dataframe tbody tr th {\n",
       "        vertical-align: top;\n",
       "    }\n",
       "\n",
       "    .dataframe thead th {\n",
       "        text-align: right;\n",
       "    }\n",
       "</style>\n",
       "<table border=\"1\" class=\"dataframe\">\n",
       "  <thead>\n",
       "    <tr style=\"text-align: right;\">\n",
       "      <th></th>\n",
       "      <th>Suburb</th>\n",
       "      <th>Address</th>\n",
       "      <th>Type</th>\n",
       "      <th>Method</th>\n",
       "      <th>SellerG</th>\n",
       "      <th>Regionname</th>\n",
       "    </tr>\n",
       "    <tr>\n",
       "      <th>ID</th>\n",
       "      <th></th>\n",
       "      <th></th>\n",
       "      <th></th>\n",
       "      <th></th>\n",
       "      <th></th>\n",
       "      <th></th>\n",
       "    </tr>\n",
       "  </thead>\n",
       "  <tbody>\n",
       "    <tr>\n",
       "      <th>1</th>\n",
       "      <td>Abbotsford</td>\n",
       "      <td>85 Turner St</td>\n",
       "      <td>h</td>\n",
       "      <td>S</td>\n",
       "      <td>Biggin</td>\n",
       "      <td>Northern Metropolitan</td>\n",
       "    </tr>\n",
       "    <tr>\n",
       "      <th>2</th>\n",
       "      <td>Abbotsford</td>\n",
       "      <td>25 Bloomburg St</td>\n",
       "      <td>h</td>\n",
       "      <td>S</td>\n",
       "      <td>Biggin</td>\n",
       "      <td>Northern Metropolitan</td>\n",
       "    </tr>\n",
       "    <tr>\n",
       "      <th>3</th>\n",
       "      <td>Abbotsford</td>\n",
       "      <td>5 Charles St</td>\n",
       "      <td>h</td>\n",
       "      <td>SP</td>\n",
       "      <td>Biggin</td>\n",
       "      <td>Northern Metropolitan</td>\n",
       "    </tr>\n",
       "    <tr>\n",
       "      <th>4</th>\n",
       "      <td>Abbotsford</td>\n",
       "      <td>40 Federation La</td>\n",
       "      <td>h</td>\n",
       "      <td>PI</td>\n",
       "      <td>Biggin</td>\n",
       "      <td>Northern Metropolitan</td>\n",
       "    </tr>\n",
       "    <tr>\n",
       "      <th>5</th>\n",
       "      <td>Abbotsford</td>\n",
       "      <td>55a Park St</td>\n",
       "      <td>h</td>\n",
       "      <td>VB</td>\n",
       "      <td>Nelson</td>\n",
       "      <td>Northern Metropolitan</td>\n",
       "    </tr>\n",
       "    <tr>\n",
       "      <th>...</th>\n",
       "      <td>...</td>\n",
       "      <td>...</td>\n",
       "      <td>...</td>\n",
       "      <td>...</td>\n",
       "      <td>...</td>\n",
       "      <td>...</td>\n",
       "    </tr>\n",
       "    <tr>\n",
       "      <th>13576</th>\n",
       "      <td>Wheelers Hill</td>\n",
       "      <td>12 Strada Cr</td>\n",
       "      <td>h</td>\n",
       "      <td>S</td>\n",
       "      <td>Barry</td>\n",
       "      <td>South-Eastern Metropolitan</td>\n",
       "    </tr>\n",
       "    <tr>\n",
       "      <th>13577</th>\n",
       "      <td>Williamstown</td>\n",
       "      <td>77 Merrett Dr</td>\n",
       "      <td>h</td>\n",
       "      <td>SP</td>\n",
       "      <td>Williams</td>\n",
       "      <td>Western Metropolitan</td>\n",
       "    </tr>\n",
       "    <tr>\n",
       "      <th>13578</th>\n",
       "      <td>Williamstown</td>\n",
       "      <td>83 Power St</td>\n",
       "      <td>h</td>\n",
       "      <td>S</td>\n",
       "      <td>Raine</td>\n",
       "      <td>Western Metropolitan</td>\n",
       "    </tr>\n",
       "    <tr>\n",
       "      <th>13579</th>\n",
       "      <td>Williamstown</td>\n",
       "      <td>96 Verdon St</td>\n",
       "      <td>h</td>\n",
       "      <td>PI</td>\n",
       "      <td>Sweeney</td>\n",
       "      <td>Western Metropolitan</td>\n",
       "    </tr>\n",
       "    <tr>\n",
       "      <th>13580</th>\n",
       "      <td>Yarraville</td>\n",
       "      <td>6 Agnes St</td>\n",
       "      <td>h</td>\n",
       "      <td>SP</td>\n",
       "      <td>Village</td>\n",
       "      <td>Western Metropolitan</td>\n",
       "    </tr>\n",
       "  </tbody>\n",
       "</table>\n",
       "<p>13580 rows × 6 columns</p>\n",
       "</div>"
      ],
      "text/plain": [
       "              Suburb           Address Type Method   SellerG  \\\n",
       "ID                                                             \n",
       "1         Abbotsford      85 Turner St    h      S    Biggin   \n",
       "2         Abbotsford   25 Bloomburg St    h      S    Biggin   \n",
       "3         Abbotsford      5 Charles St    h     SP    Biggin   \n",
       "4         Abbotsford  40 Federation La    h     PI    Biggin   \n",
       "5         Abbotsford       55a Park St    h     VB    Nelson   \n",
       "...              ...               ...  ...    ...       ...   \n",
       "13576  Wheelers Hill      12 Strada Cr    h      S     Barry   \n",
       "13577   Williamstown     77 Merrett Dr    h     SP  Williams   \n",
       "13578   Williamstown       83 Power St    h      S     Raine   \n",
       "13579   Williamstown      96 Verdon St    h     PI   Sweeney   \n",
       "13580     Yarraville        6 Agnes St    h     SP   Village   \n",
       "\n",
       "                       Regionname  \n",
       "ID                                 \n",
       "1           Northern Metropolitan  \n",
       "2           Northern Metropolitan  \n",
       "3           Northern Metropolitan  \n",
       "4           Northern Metropolitan  \n",
       "5           Northern Metropolitan  \n",
       "...                           ...  \n",
       "13576  South-Eastern Metropolitan  \n",
       "13577        Western Metropolitan  \n",
       "13578        Western Metropolitan  \n",
       "13579        Western Metropolitan  \n",
       "13580        Western Metropolitan  \n",
       "\n",
       "[13580 rows x 6 columns]"
      ]
     },
     "execution_count": 64,
     "metadata": {},
     "output_type": "execute_result"
    }
   ],
   "source": [
    "df_cat"
   ]
  },
  {
   "cell_type": "code",
   "execution_count": 65,
   "metadata": {},
   "outputs": [
    {
     "data": {
      "image/png": "[encoded data removed]",
      "text/plain": [
       "<Figure size 432x432 with 1 Axes>"
      ]
     },
     "metadata": {
      "needs_background": "light"
     },
     "output_type": "display_data"
    }
   ],
   "source": [
    "#countplot univariate graphical analysis \n",
    "plt.figure(figsize=(6,6))\n",
    "sns.countplot(data=df_cat,y=\"Type\")\n",
    "plt.show()"
   ]
  },
  {
   "cell_type": "code",
   "execution_count": 66,
   "metadata": {},
   "outputs": [
    {
     "data": {
      "image/png": "[encoded data removed]",
      "text/plain": [
       "<Figure size 720x720 with 1 Axes>"
      ]
     },
     "metadata": {},
     "output_type": "display_data"
    }
   ],
   "source": [
    "# graphical analysis on categorical column Method data share percentage \n",
    "# using pie plot \n",
    "plt.figure(figsize=(10,10))\n",
    "df_cat['Method'].value_counts().plot.pie(autopct=\"%1.1f%%\")\n",
    "plt.title(\"df percentage by Method \")\n",
    "plt.show()"
   ]
  },
  {
   "cell_type": "code",
   "execution_count": 67,
   "metadata": {},
   "outputs": [],
   "source": [
    "from sklearn.preprocessing import LabelEncoder "
   ]
  },
  {
   "cell_type": "code",
   "execution_count": 68,
   "metadata": {},
   "outputs": [
    {
     "data": {
      "text/plain": [
       "Index(['Suburb', 'Address', 'Type', 'Method', 'SellerG', 'Regionname'], dtype='object')"
      ]
     },
     "execution_count": 68,
     "metadata": {},
     "output_type": "execute_result"
    }
   ],
   "source": [
    "df_cat.columns"
   ]
  },
  {
   "cell_type": "code",
   "execution_count": 69,
   "metadata": {},
   "outputs": [],
   "source": [
    "le=LabelEncoder()\n",
    "for col in df_cat:\n",
    "    df_cat[col]=le.fit_transform(df_cat[col])"
   ]
  },
  {
   "cell_type": "code",
   "execution_count": 70,
   "metadata": {},
   "outputs": [
    {
     "name": "stdout",
     "output_type": "stream",
     "text": [
      "<class 'pandas.core.frame.DataFrame'>\n",
      "Int64Index: 13580 entries, 1 to 13580\n",
      "Data columns (total 6 columns):\n",
      " #   Column      Non-Null Count  Dtype\n",
      "---  ------      --------------  -----\n",
      " 0   Suburb      13580 non-null  int32\n",
      " 1   Address     13580 non-null  int32\n",
      " 2   Type        13580 non-null  int32\n",
      " 3   Method      13580 non-null  int32\n",
      " 4   SellerG     13580 non-null  int32\n",
      " 5   Regionname  13580 non-null  int32\n",
      "dtypes: int32(6)\n",
      "memory usage: 1.0 MB\n"
     ]
    }
   ],
   "source": [
    "df_cat.info()"
   ]
  },
  {
   "cell_type": "code",
   "execution_count": 71,
   "metadata": {},
   "outputs": [
    {
     "data": {
      "text/html": [
       "<div>\n",
       "<style scoped>\n",
       "    .dataframe tbody tr th:only-of-type {\n",
       "        vertical-align: middle;\n",
       "    }\n",
       "\n",
       "    .dataframe tbody tr th {\n",
       "        vertical-align: top;\n",
       "    }\n",
       "\n",
       "    .dataframe thead th {\n",
       "        text-align: right;\n",
       "    }\n",
       "</style>\n",
       "<table border=\"1\" class=\"dataframe\">\n",
       "  <thead>\n",
       "    <tr style=\"text-align: right;\">\n",
       "      <th></th>\n",
       "      <th>Suburb</th>\n",
       "      <th>Address</th>\n",
       "      <th>Type</th>\n",
       "      <th>Method</th>\n",
       "      <th>SellerG</th>\n",
       "      <th>Regionname</th>\n",
       "    </tr>\n",
       "    <tr>\n",
       "      <th>ID</th>\n",
       "      <th></th>\n",
       "      <th></th>\n",
       "      <th></th>\n",
       "      <th></th>\n",
       "      <th></th>\n",
       "      <th></th>\n",
       "    </tr>\n",
       "  </thead>\n",
       "  <tbody>\n",
       "    <tr>\n",
       "      <th>1</th>\n",
       "      <td>0</td>\n",
       "      <td>12794</td>\n",
       "      <td>0</td>\n",
       "      <td>1</td>\n",
       "      <td>23</td>\n",
       "      <td>2</td>\n",
       "    </tr>\n",
       "    <tr>\n",
       "      <th>2</th>\n",
       "      <td>0</td>\n",
       "      <td>5943</td>\n",
       "      <td>0</td>\n",
       "      <td>1</td>\n",
       "      <td>23</td>\n",
       "      <td>2</td>\n",
       "    </tr>\n",
       "    <tr>\n",
       "      <th>3</th>\n",
       "      <td>0</td>\n",
       "      <td>9814</td>\n",
       "      <td>0</td>\n",
       "      <td>3</td>\n",
       "      <td>23</td>\n",
       "      <td>2</td>\n",
       "    </tr>\n",
       "    <tr>\n",
       "      <th>4</th>\n",
       "      <td>0</td>\n",
       "      <td>9004</td>\n",
       "      <td>0</td>\n",
       "      <td>0</td>\n",
       "      <td>23</td>\n",
       "      <td>2</td>\n",
       "    </tr>\n",
       "    <tr>\n",
       "      <th>5</th>\n",
       "      <td>0</td>\n",
       "      <td>10589</td>\n",
       "      <td>0</td>\n",
       "      <td>4</td>\n",
       "      <td>155</td>\n",
       "      <td>2</td>\n",
       "    </tr>\n",
       "    <tr>\n",
       "      <th>...</th>\n",
       "      <td>...</td>\n",
       "      <td>...</td>\n",
       "      <td>...</td>\n",
       "      <td>...</td>\n",
       "      <td>...</td>\n",
       "      <td>...</td>\n",
       "    </tr>\n",
       "    <tr>\n",
       "      <th>13576</th>\n",
       "      <td>302</td>\n",
       "      <td>1991</td>\n",
       "      <td>0</td>\n",
       "      <td>1</td>\n",
       "      <td>16</td>\n",
       "      <td>4</td>\n",
       "    </tr>\n",
       "    <tr>\n",
       "      <th>13577</th>\n",
       "      <td>305</td>\n",
       "      <td>12234</td>\n",
       "      <td>0</td>\n",
       "      <td>3</td>\n",
       "      <td>251</td>\n",
       "      <td>6</td>\n",
       "    </tr>\n",
       "    <tr>\n",
       "      <th>13578</th>\n",
       "      <td>305</td>\n",
       "      <td>12745</td>\n",
       "      <td>0</td>\n",
       "      <td>1</td>\n",
       "      <td>194</td>\n",
       "      <td>6</td>\n",
       "    </tr>\n",
       "    <tr>\n",
       "      <th>13579</th>\n",
       "      <td>305</td>\n",
       "      <td>13311</td>\n",
       "      <td>0</td>\n",
       "      <td>0</td>\n",
       "      <td>222</td>\n",
       "      <td>6</td>\n",
       "    </tr>\n",
       "    <tr>\n",
       "      <th>13580</th>\n",
       "      <td>313</td>\n",
       "      <td>10776</td>\n",
       "      <td>0</td>\n",
       "      <td>3</td>\n",
       "      <td>239</td>\n",
       "      <td>6</td>\n",
       "    </tr>\n",
       "  </tbody>\n",
       "</table>\n",
       "<p>13580 rows × 6 columns</p>\n",
       "</div>"
      ],
      "text/plain": [
       "       Suburb  Address  Type  Method  SellerG  Regionname\n",
       "ID                                                       \n",
       "1           0    12794     0       1       23           2\n",
       "2           0     5943     0       1       23           2\n",
       "3           0     9814     0       3       23           2\n",
       "4           0     9004     0       0       23           2\n",
       "5           0    10589     0       4      155           2\n",
       "...       ...      ...   ...     ...      ...         ...\n",
       "13576     302     1991     0       1       16           4\n",
       "13577     305    12234     0       3      251           6\n",
       "13578     305    12745     0       1      194           6\n",
       "13579     305    13311     0       0      222           6\n",
       "13580     313    10776     0       3      239           6\n",
       "\n",
       "[13580 rows x 6 columns]"
      ]
     },
     "execution_count": 71,
     "metadata": {},
     "output_type": "execute_result"
    }
   ],
   "source": [
    "df_cat"
   ]
  },
  {
   "cell_type": "code",
   "execution_count": 78,
   "metadata": {},
   "outputs": [],
   "source": [
    "df_new=pd.merge(df_num,df_cat,on=\"ID\")"
   ]
  },
  {
   "cell_type": "code",
   "execution_count": 79,
   "metadata": {},
   "outputs": [
    {
     "data": {
      "text/html": [
       "<div>\n",
       "<style scoped>\n",
       "    .dataframe tbody tr th:only-of-type {\n",
       "        vertical-align: middle;\n",
       "    }\n",
       "\n",
       "    .dataframe tbody tr th {\n",
       "        vertical-align: top;\n",
       "    }\n",
       "\n",
       "    .dataframe thead th {\n",
       "        text-align: right;\n",
       "    }\n",
       "</style>\n",
       "<table border=\"1\" class=\"dataframe\">\n",
       "  <thead>\n",
       "    <tr style=\"text-align: right;\">\n",
       "      <th></th>\n",
       "      <th>Rooms</th>\n",
       "      <th>Price</th>\n",
       "      <th>Date</th>\n",
       "      <th>Distance</th>\n",
       "      <th>Postcode</th>\n",
       "      <th>Bedroom2</th>\n",
       "      <th>Bathroom</th>\n",
       "      <th>Car</th>\n",
       "      <th>Landsize</th>\n",
       "      <th>BuildingArea</th>\n",
       "      <th>YearBuilt</th>\n",
       "      <th>Lattitude</th>\n",
       "      <th>Longtitude</th>\n",
       "      <th>Propertycount</th>\n",
       "      <th>Suburb</th>\n",
       "      <th>Address</th>\n",
       "      <th>Type</th>\n",
       "      <th>Method</th>\n",
       "      <th>SellerG</th>\n",
       "      <th>Regionname</th>\n",
       "    </tr>\n",
       "    <tr>\n",
       "      <th>ID</th>\n",
       "      <th></th>\n",
       "      <th></th>\n",
       "      <th></th>\n",
       "      <th></th>\n",
       "      <th></th>\n",
       "      <th></th>\n",
       "      <th></th>\n",
       "      <th></th>\n",
       "      <th></th>\n",
       "      <th></th>\n",
       "      <th></th>\n",
       "      <th></th>\n",
       "      <th></th>\n",
       "      <th></th>\n",
       "      <th></th>\n",
       "      <th></th>\n",
       "      <th></th>\n",
       "      <th></th>\n",
       "      <th></th>\n",
       "      <th></th>\n",
       "    </tr>\n",
       "  </thead>\n",
       "  <tbody>\n",
       "    <tr>\n",
       "      <th>1</th>\n",
       "      <td>2</td>\n",
       "      <td>1480000.0</td>\n",
       "      <td>3122016</td>\n",
       "      <td>2.5</td>\n",
       "      <td>3067.0</td>\n",
       "      <td>2.0</td>\n",
       "      <td>1.0</td>\n",
       "      <td>1.0</td>\n",
       "      <td>202.0</td>\n",
       "      <td>151.96765</td>\n",
       "      <td>1964.684217</td>\n",
       "      <td>-37.79960</td>\n",
       "      <td>144.99840</td>\n",
       "      <td>4019.0</td>\n",
       "      <td>0</td>\n",
       "      <td>12794</td>\n",
       "      <td>0</td>\n",
       "      <td>1</td>\n",
       "      <td>23</td>\n",
       "      <td>2</td>\n",
       "    </tr>\n",
       "    <tr>\n",
       "      <th>2</th>\n",
       "      <td>2</td>\n",
       "      <td>1035000.0</td>\n",
       "      <td>4022016</td>\n",
       "      <td>2.5</td>\n",
       "      <td>3067.0</td>\n",
       "      <td>2.0</td>\n",
       "      <td>1.0</td>\n",
       "      <td>0.0</td>\n",
       "      <td>156.0</td>\n",
       "      <td>79.00000</td>\n",
       "      <td>1900.000000</td>\n",
       "      <td>-37.80790</td>\n",
       "      <td>144.99340</td>\n",
       "      <td>4019.0</td>\n",
       "      <td>0</td>\n",
       "      <td>5943</td>\n",
       "      <td>0</td>\n",
       "      <td>1</td>\n",
       "      <td>23</td>\n",
       "      <td>2</td>\n",
       "    </tr>\n",
       "    <tr>\n",
       "      <th>3</th>\n",
       "      <td>3</td>\n",
       "      <td>1465000.0</td>\n",
       "      <td>4032017</td>\n",
       "      <td>2.5</td>\n",
       "      <td>3067.0</td>\n",
       "      <td>3.0</td>\n",
       "      <td>2.0</td>\n",
       "      <td>0.0</td>\n",
       "      <td>134.0</td>\n",
       "      <td>150.00000</td>\n",
       "      <td>1900.000000</td>\n",
       "      <td>-37.80930</td>\n",
       "      <td>144.99440</td>\n",
       "      <td>4019.0</td>\n",
       "      <td>0</td>\n",
       "      <td>9814</td>\n",
       "      <td>0</td>\n",
       "      <td>3</td>\n",
       "      <td>23</td>\n",
       "      <td>2</td>\n",
       "    </tr>\n",
       "    <tr>\n",
       "      <th>4</th>\n",
       "      <td>3</td>\n",
       "      <td>850000.0</td>\n",
       "      <td>4032017</td>\n",
       "      <td>2.5</td>\n",
       "      <td>3067.0</td>\n",
       "      <td>3.0</td>\n",
       "      <td>2.0</td>\n",
       "      <td>1.0</td>\n",
       "      <td>94.0</td>\n",
       "      <td>151.96765</td>\n",
       "      <td>1964.684217</td>\n",
       "      <td>-37.79690</td>\n",
       "      <td>144.99690</td>\n",
       "      <td>4019.0</td>\n",
       "      <td>0</td>\n",
       "      <td>9004</td>\n",
       "      <td>0</td>\n",
       "      <td>0</td>\n",
       "      <td>23</td>\n",
       "      <td>2</td>\n",
       "    </tr>\n",
       "    <tr>\n",
       "      <th>6</th>\n",
       "      <td>2</td>\n",
       "      <td>941000.0</td>\n",
       "      <td>7052016</td>\n",
       "      <td>2.5</td>\n",
       "      <td>3067.0</td>\n",
       "      <td>2.0</td>\n",
       "      <td>1.0</td>\n",
       "      <td>0.0</td>\n",
       "      <td>181.0</td>\n",
       "      <td>151.96765</td>\n",
       "      <td>1964.684217</td>\n",
       "      <td>-37.80410</td>\n",
       "      <td>144.99530</td>\n",
       "      <td>4019.0</td>\n",
       "      <td>0</td>\n",
       "      <td>2195</td>\n",
       "      <td>0</td>\n",
       "      <td>1</td>\n",
       "      <td>106</td>\n",
       "      <td>2</td>\n",
       "    </tr>\n",
       "    <tr>\n",
       "      <th>...</th>\n",
       "      <td>...</td>\n",
       "      <td>...</td>\n",
       "      <td>...</td>\n",
       "      <td>...</td>\n",
       "      <td>...</td>\n",
       "      <td>...</td>\n",
       "      <td>...</td>\n",
       "      <td>...</td>\n",
       "      <td>...</td>\n",
       "      <td>...</td>\n",
       "      <td>...</td>\n",
       "      <td>...</td>\n",
       "      <td>...</td>\n",
       "      <td>...</td>\n",
       "      <td>...</td>\n",
       "      <td>...</td>\n",
       "      <td>...</td>\n",
       "      <td>...</td>\n",
       "      <td>...</td>\n",
       "      <td>...</td>\n",
       "    </tr>\n",
       "    <tr>\n",
       "      <th>13575</th>\n",
       "      <td>3</td>\n",
       "      <td>582000.0</td>\n",
       "      <td>26082017</td>\n",
       "      <td>16.5</td>\n",
       "      <td>3049.0</td>\n",
       "      <td>3.0</td>\n",
       "      <td>2.0</td>\n",
       "      <td>2.0</td>\n",
       "      <td>256.0</td>\n",
       "      <td>151.96765</td>\n",
       "      <td>1964.684217</td>\n",
       "      <td>-37.67917</td>\n",
       "      <td>144.89390</td>\n",
       "      <td>2474.0</td>\n",
       "      <td>301</td>\n",
       "      <td>12919</td>\n",
       "      <td>0</td>\n",
       "      <td>1</td>\n",
       "      <td>200</td>\n",
       "      <td>2</td>\n",
       "    </tr>\n",
       "    <tr>\n",
       "      <th>13576</th>\n",
       "      <td>4</td>\n",
       "      <td>1245000.0</td>\n",
       "      <td>26082017</td>\n",
       "      <td>16.7</td>\n",
       "      <td>3150.0</td>\n",
       "      <td>4.0</td>\n",
       "      <td>2.0</td>\n",
       "      <td>2.0</td>\n",
       "      <td>652.0</td>\n",
       "      <td>151.96765</td>\n",
       "      <td>1981.000000</td>\n",
       "      <td>-37.90562</td>\n",
       "      <td>145.16761</td>\n",
       "      <td>7392.0</td>\n",
       "      <td>302</td>\n",
       "      <td>1991</td>\n",
       "      <td>0</td>\n",
       "      <td>1</td>\n",
       "      <td>16</td>\n",
       "      <td>4</td>\n",
       "    </tr>\n",
       "    <tr>\n",
       "      <th>13577</th>\n",
       "      <td>3</td>\n",
       "      <td>1031000.0</td>\n",
       "      <td>26082017</td>\n",
       "      <td>6.8</td>\n",
       "      <td>3016.0</td>\n",
       "      <td>3.0</td>\n",
       "      <td>2.0</td>\n",
       "      <td>2.0</td>\n",
       "      <td>333.0</td>\n",
       "      <td>133.00000</td>\n",
       "      <td>1995.000000</td>\n",
       "      <td>-37.85927</td>\n",
       "      <td>144.87904</td>\n",
       "      <td>6380.0</td>\n",
       "      <td>305</td>\n",
       "      <td>12234</td>\n",
       "      <td>0</td>\n",
       "      <td>3</td>\n",
       "      <td>251</td>\n",
       "      <td>6</td>\n",
       "    </tr>\n",
       "    <tr>\n",
       "      <th>13578</th>\n",
       "      <td>3</td>\n",
       "      <td>1170000.0</td>\n",
       "      <td>26082017</td>\n",
       "      <td>6.8</td>\n",
       "      <td>3016.0</td>\n",
       "      <td>3.0</td>\n",
       "      <td>2.0</td>\n",
       "      <td>4.0</td>\n",
       "      <td>436.0</td>\n",
       "      <td>151.96765</td>\n",
       "      <td>1997.000000</td>\n",
       "      <td>-37.85274</td>\n",
       "      <td>144.88738</td>\n",
       "      <td>6380.0</td>\n",
       "      <td>305</td>\n",
       "      <td>12745</td>\n",
       "      <td>0</td>\n",
       "      <td>1</td>\n",
       "      <td>194</td>\n",
       "      <td>6</td>\n",
       "    </tr>\n",
       "    <tr>\n",
       "      <th>13580</th>\n",
       "      <td>4</td>\n",
       "      <td>1285000.0</td>\n",
       "      <td>26082017</td>\n",
       "      <td>6.3</td>\n",
       "      <td>3013.0</td>\n",
       "      <td>4.0</td>\n",
       "      <td>1.0</td>\n",
       "      <td>1.0</td>\n",
       "      <td>362.0</td>\n",
       "      <td>112.00000</td>\n",
       "      <td>1920.000000</td>\n",
       "      <td>-37.81188</td>\n",
       "      <td>144.88449</td>\n",
       "      <td>6543.0</td>\n",
       "      <td>313</td>\n",
       "      <td>10776</td>\n",
       "      <td>0</td>\n",
       "      <td>3</td>\n",
       "      <td>239</td>\n",
       "      <td>6</td>\n",
       "    </tr>\n",
       "  </tbody>\n",
       "</table>\n",
       "<p>10625 rows × 20 columns</p>\n",
       "</div>"
      ],
      "text/plain": [
       "       Rooms      Price      Date  Distance  Postcode  Bedroom2  Bathroom  \\\n",
       "ID                                                                          \n",
       "1          2  1480000.0   3122016       2.5    3067.0       2.0       1.0   \n",
       "2          2  1035000.0   4022016       2.5    3067.0       2.0       1.0   \n",
       "3          3  1465000.0   4032017       2.5    3067.0       3.0       2.0   \n",
       "4          3   850000.0   4032017       2.5    3067.0       3.0       2.0   \n",
       "6          2   941000.0   7052016       2.5    3067.0       2.0       1.0   \n",
       "...      ...        ...       ...       ...       ...       ...       ...   \n",
       "13575      3   582000.0  26082017      16.5    3049.0       3.0       2.0   \n",
       "13576      4  1245000.0  26082017      16.7    3150.0       4.0       2.0   \n",
       "13577      3  1031000.0  26082017       6.8    3016.0       3.0       2.0   \n",
       "13578      3  1170000.0  26082017       6.8    3016.0       3.0       2.0   \n",
       "13580      4  1285000.0  26082017       6.3    3013.0       4.0       1.0   \n",
       "\n",
       "       Car  Landsize  BuildingArea    YearBuilt  Lattitude  Longtitude  \\\n",
       "ID                                                                       \n",
       "1      1.0     202.0     151.96765  1964.684217  -37.79960   144.99840   \n",
       "2      0.0     156.0      79.00000  1900.000000  -37.80790   144.99340   \n",
       "3      0.0     134.0     150.00000  1900.000000  -37.80930   144.99440   \n",
       "4      1.0      94.0     151.96765  1964.684217  -37.79690   144.99690   \n",
       "6      0.0     181.0     151.96765  1964.684217  -37.80410   144.99530   \n",
       "...    ...       ...           ...          ...        ...         ...   \n",
       "13575  2.0     256.0     151.96765  1964.684217  -37.67917   144.89390   \n",
       "13576  2.0     652.0     151.96765  1981.000000  -37.90562   145.16761   \n",
       "13577  2.0     333.0     133.00000  1995.000000  -37.85927   144.87904   \n",
       "13578  4.0     436.0     151.96765  1997.000000  -37.85274   144.88738   \n",
       "13580  1.0     362.0     112.00000  1920.000000  -37.81188   144.88449   \n",
       "\n",
       "       Propertycount  Suburb  Address  Type  Method  SellerG  Regionname  \n",
       "ID                                                                        \n",
       "1             4019.0       0    12794     0       1       23           2  \n",
       "2             4019.0       0     5943     0       1       23           2  \n",
       "3             4019.0       0     9814     0       3       23           2  \n",
       "4             4019.0       0     9004     0       0       23           2  \n",
       "6             4019.0       0     2195     0       1      106           2  \n",
       "...              ...     ...      ...   ...     ...      ...         ...  \n",
       "13575         2474.0     301    12919     0       1      200           2  \n",
       "13576         7392.0     302     1991     0       1       16           4  \n",
       "13577         6380.0     305    12234     0       3      251           6  \n",
       "13578         6380.0     305    12745     0       1      194           6  \n",
       "13580         6543.0     313    10776     0       3      239           6  \n",
       "\n",
       "[10625 rows x 20 columns]"
      ]
     },
     "execution_count": 79,
     "metadata": {},
     "output_type": "execute_result"
    }
   ],
   "source": [
    "df_new"
   ]
  },
  {
   "cell_type": "code",
   "execution_count": 80,
   "metadata": {},
   "outputs": [],
   "source": [
    "# import required modules \n",
    "from sklearn.linear_model import LinearRegression \n",
    "from sklearn.model_selection import train_test_split"
   ]
  },
  {
   "cell_type": "code",
   "execution_count": 81,
   "metadata": {},
   "outputs": [],
   "source": [
    "x=df_new.drop(\"Price\",axis=1)\n",
    "y=df_new[\"Price\"]"
   ]
  },
  {
   "cell_type": "code",
   "execution_count": 82,
   "metadata": {},
   "outputs": [],
   "source": [
    "#test Train model\n",
    "x_train,x_test,y_train,y_test = train_test_split(x,y,test_size=0.3,random_state=1)"
   ]
  },
  {
   "cell_type": "code",
   "execution_count": 83,
   "metadata": {},
   "outputs": [
    {
     "data": {
      "text/plain": [
       "LinearRegression()"
      ]
     },
     "execution_count": 83,
     "metadata": {},
     "output_type": "execute_result"
    }
   ],
   "source": [
    "# Model Training \n",
    "lr=LinearRegression() # object will be created\n",
    "# llearning model on given data \n",
    "# use theta0+theta1x to calculate bestfit prediction line \n",
    "lr.fit(x_train,y_train)"
   ]
  },
  {
   "cell_type": "code",
   "execution_count": 84,
   "metadata": {},
   "outputs": [],
   "source": [
    "# now model is trained and ready to predict \n",
    "# but before we use it for prediction let's check it's accuracy \n",
    "y_pred=lr.predict(x_test)"
   ]
  },
  {
   "cell_type": "code",
   "execution_count": 85,
   "metadata": {},
   "outputs": [
    {
     "data": {
      "text/plain": [
       "array([ 999226.66768926, 1032505.00162095,  709435.92563695, ...,\n",
       "       1094392.33334225,  704731.68287647, 1265402.99711725])"
      ]
     },
     "execution_count": 85,
     "metadata": {},
     "output_type": "execute_result"
    }
   ],
   "source": [
    "y_test # x_test original   y\n",
    "y_pred # prediction x_test yhat \n",
    "\n",
    "# MSE = sum((y-yhat)**2)/n "
   ]
  },
  {
   "cell_type": "code",
   "execution_count": 86,
   "metadata": {},
   "outputs": [
    {
     "data": {
      "text/plain": [
       "ID\n",
       "2282      660000.0\n",
       "12147     558500.0\n",
       "5081      611000.0\n",
       "11017     900000.0\n",
       "867      1352000.0\n",
       "           ...    \n",
       "7318      636500.0\n",
       "707      1100000.0\n",
       "2559     1116000.0\n",
       "3267      526000.0\n",
       "4397     1335000.0\n",
       "Name: Price, Length: 3188, dtype: float64"
      ]
     },
     "execution_count": 86,
     "metadata": {},
     "output_type": "execute_result"
    }
   ],
   "source": [
    "y_test"
   ]
  },
  {
   "cell_type": "code",
   "execution_count": 87,
   "metadata": {},
   "outputs": [],
   "source": [
    "from sklearn.metrics import mean_squared_error \n",
    "from sklearn.metrics import r2_score"
   ]
  },
  {
   "cell_type": "code",
   "execution_count": 88,
   "metadata": {},
   "outputs": [
    {
     "name": "stdout",
     "output_type": "stream",
     "text": [
      " accuracy MSE is 95747110267.39392 \n",
      " accuracy R2 score is 0.6520276400545707 \n"
     ]
    }
   ],
   "source": [
    "mse=mean_squared_error(y_test,y_pred)\n",
    "r2score=r2_score(y_test,y_pred)\n",
    "print(\" accuracy MSE is {} \".format(mse))\n",
    "print(\" accuracy R2 score is {} \".format(r2score))"
   ]
  },
  {
   "cell_type": "markdown",
   "metadata": {},
   "source": [
    "# Base Line Model"
   ]
  },
  {
   "cell_type": "code",
   "execution_count": 89,
   "metadata": {},
   "outputs": [],
   "source": [
    "# import required modules \n",
    "from sklearn.model_selection import train_test_split\n",
    "from sklearn.linear_model import LinearRegression "
   ]
  },
  {
   "cell_type": "code",
   "execution_count": 90,
   "metadata": {},
   "outputs": [
    {
     "name": "stdout",
     "output_type": "stream",
     "text": [
      "Training r2 score =>  0.651942950389292\n",
      "Testing r2 score =?  0.6520276400545707\n"
     ]
    }
   ],
   "source": [
    "lr=LinearRegression() # this is multiple linear regression soo features of df we using for training \n",
    "lr.fit(x_train,y_train)\n",
    "print(\"Training r2 score => \",lr.score(x_train,y_train))\n",
    "print(\"Testing r2 score =? \",lr.score(x_test,y_test))"
   ]
  },
  {
   "cell_type": "code",
   "execution_count": 91,
   "metadata": {},
   "outputs": [
    {
     "data": {
      "text/plain": [
       "Index(['Rooms', 'Date', 'Distance', 'Postcode', 'Bedroom2', 'Bathroom', 'Car',\n",
       "       'Landsize', 'BuildingArea', 'YearBuilt', 'Lattitude', 'Longtitude',\n",
       "       'Propertycount', 'Suburb', 'Address', 'Type', 'Method', 'SellerG',\n",
       "       'Regionname'],\n",
       "      dtype='object')"
      ]
     },
     "execution_count": 91,
     "metadata": {},
     "output_type": "execute_result"
    }
   ],
   "source": [
    "x_train.columns"
   ]
  },
  {
   "cell_type": "code",
   "execution_count": 92,
   "metadata": {},
   "outputs": [
    {
     "data": {
      "text/plain": [
       "array([ 9.91980328e+04,  1.33301127e-04, -5.28198996e+04,  1.89847004e+03,\n",
       "        5.43342009e+04,  1.35860445e+05,  3.37704516e+04,  2.47891076e+02,\n",
       "        1.41282979e+03, -1.94373575e+03, -6.81644589e+05,  9.77908199e+05,\n",
       "       -1.32147266e+00, -3.22871912e+02, -1.17139057e+00, -1.98143907e+05,\n",
       "       -9.12729187e+03, -1.25779538e+02,  2.76720986e+04])"
      ]
     },
     "execution_count": 92,
     "metadata": {},
     "output_type": "execute_result"
    }
   ],
   "source": [
    "lr.coef_ # slop all features"
   ]
  },
  {
   "cell_type": "code",
   "execution_count": 93,
   "metadata": {},
   "outputs": [],
   "source": [
    "coef=dict(zip(x_train.columns,lr.coef_))"
   ]
  },
  {
   "cell_type": "code",
   "execution_count": 94,
   "metadata": {},
   "outputs": [
    {
     "data": {
      "text/plain": [
       "{'Rooms': 99198.03281283398,\n",
       " 'Date': 0.00013330112668202344,\n",
       " 'Distance': -52819.899570861446,\n",
       " 'Postcode': 1898.470043264754,\n",
       " 'Bedroom2': 54334.200937225156,\n",
       " 'Bathroom': 135860.445485741,\n",
       " 'Car': 33770.45160899575,\n",
       " 'Landsize': 247.8910758657678,\n",
       " 'BuildingArea': 1412.829793100827,\n",
       " 'YearBuilt': -1943.735751730575,\n",
       " 'Lattitude': -681644.5887296766,\n",
       " 'Longtitude': 977908.1992668532,\n",
       " 'Propertycount': -1.3214726604118496,\n",
       " 'Suburb': -322.87191172182185,\n",
       " 'Address': -1.171390566227035,\n",
       " 'Type': -198143.90699961965,\n",
       " 'Method': -9127.291869489685,\n",
       " 'SellerG': -125.77953788058385,\n",
       " 'Regionname': 27672.098592345814}"
      ]
     },
     "execution_count": 94,
     "metadata": {},
     "output_type": "execute_result"
    }
   ],
   "source": [
    "coef"
   ]
  },
  {
   "cell_type": "markdown",
   "metadata": {},
   "source": [
    "# regularization"
   ]
  },
  {
   "cell_type": "code",
   "execution_count": 95,
   "metadata": {},
   "outputs": [],
   "source": [
    "from sklearn.linear_model import Lasso\n",
    "from sklearn.linear_model import Ridge "
   ]
  },
  {
   "cell_type": "markdown",
   "metadata": {},
   "source": [
    "# Ridge "
   ]
  },
  {
   "cell_type": "code",
   "execution_count": 96,
   "metadata": {},
   "outputs": [
    {
     "name": "stdout",
     "output_type": "stream",
     "text": [
      "Rdige Score r2 score with 10 panelty\n",
      "panelty 1 rscore training 0.6519279856834922 rscore testing 0.6520570493240375\n",
      "panelty 2 rscore training 0.6518857490511655 rscore testing 0.6520585966672559\n",
      "panelty 3 rscore training 0.6518198133699957 rscore testing 0.6520357418925613\n",
      "panelty 4 rscore training 0.6517332744065816 rscore testing 0.6519915029873844\n",
      "panelty 5 rscore training 0.6516288265817589 rscore testing 0.6519285225136386\n",
      "panelty 6 rscore training 0.6515088234910312 rscore testing 0.6518491214160094\n",
      "panelty 7 rscore training 0.6513753271330767 rscore testing 0.6517553433689669\n",
      "panelty 8 rscore training 0.6512301485264866 rscore testing 0.6516489917964203\n",
      "panelty 9 rscore training 0.6510748816005625 rscore testing 0.6515316610815733\n"
     ]
    }
   ],
   "source": [
    "# Ridge = l2 \n",
    "# theta0+theta1x1+(e**2)\n",
    "print(\"Rdige Score r2 score with 10 panelty\")\n",
    "for i in range(1,10):\n",
    "    r=Ridge(i)\n",
    "    r.fit(x_train,y_train)\n",
    "    print(\"panelty {} rscore training {} rscore testing {}\".format(i,r.score(x_train,y_train),r.score(x_test,y_test)))"
   ]
  },
  {
   "cell_type": "code",
   "execution_count": 97,
   "metadata": {},
   "outputs": [
    {
     "name": "stdout",
     "output_type": "stream",
     "text": [
      "panelty 5 rscore training 0.6516288265817589 rscore testing 0.6519285225136386\n"
     ]
    }
   ],
   "source": [
    "# as panelty 5 is regularised so we will train our final model with 6 error in ridge r=Ridge(6)\n",
    "r=Ridge(5)\n",
    "r.fit(x_train,y_train)\n",
    "print(\"panelty {} rscore training {} rscore testing {}\".format(5,r.score(x_train,y_train),r.score(x_test,y_test)))"
   ]
  },
  {
   "cell_type": "code",
   "execution_count": 98,
   "metadata": {},
   "outputs": [
    {
     "data": {
      "text/plain": [
       "array([ 9.98358705e+04,  1.30080649e-04, -5.28950695e+04,  2.01540556e+03,\n",
       "        5.44408783e+04,  1.36341701e+05,  3.40851024e+04,  2.49888459e+02,\n",
       "        1.42683798e+03, -1.96001418e+03, -5.97434782e+05,  8.87529481e+05,\n",
       "       -1.50099771e+00, -3.36985864e+02, -1.15097468e+00, -1.95998277e+05,\n",
       "       -9.21557305e+03, -1.25044342e+02,  2.62194851e+04])"
      ]
     },
     "execution_count": 98,
     "metadata": {},
     "output_type": "execute_result"
    }
   ],
   "source": [
    "r.coef_ # coef /slop is minimized "
   ]
  },
  {
   "cell_type": "code",
   "execution_count": 99,
   "metadata": {},
   "outputs": [],
   "source": [
    "coef=pd.Series(r.coef_,x_train.columns.sort_values())"
   ]
  },
  {
   "cell_type": "code",
   "execution_count": 100,
   "metadata": {},
   "outputs": [
    {
     "data": {
      "text/plain": [
       "Address           99835.870458\n",
       "Bathroom              0.000130\n",
       "Bedroom2         -52895.069529\n",
       "BuildingArea       2015.405559\n",
       "Car               54440.878288\n",
       "Date             136341.701213\n",
       "Distance          34085.102442\n",
       "Landsize            249.888459\n",
       "Lattitude          1426.837984\n",
       "Longtitude        -1960.014179\n",
       "Method          -597434.781514\n",
       "Postcode         887529.480510\n",
       "Propertycount        -1.500998\n",
       "Regionname         -336.985864\n",
       "Rooms                -1.150975\n",
       "SellerG         -195998.277485\n",
       "Suburb            -9215.573046\n",
       "Type               -125.044342\n",
       "YearBuilt         26219.485093\n",
       "dtype: float64"
      ]
     },
     "execution_count": 100,
     "metadata": {},
     "output_type": "execute_result"
    }
   ],
   "source": [
    "coef"
   ]
  },
  {
   "cell_type": "code",
   "execution_count": 101,
   "metadata": {},
   "outputs": [
    {
     "data": {
      "image/png": "[encoded data removed]",
      "text/plain": [
       "<Figure size 432x288 with 1 Axes>"
      ]
     },
     "metadata": {
      "needs_background": "light"
     },
     "output_type": "display_data"
    }
   ],
   "source": [
    "coef.plot(kind=\"bar\",title=\"model coefficent\")\n",
    "plt.show()"
   ]
  },
  {
   "cell_type": "markdown",
   "metadata": {},
   "source": [
    "# Lasso"
   ]
  },
  {
   "cell_type": "code",
   "execution_count": 102,
   "metadata": {},
   "outputs": [
    {
     "name": "stdout",
     "output_type": "stream",
     "text": [
      "Lasso Score r2 score with 10 panelty\n",
      "panelty 1 rscore training 0.6519429490001911 rscore testing 0.6520280932569114\n",
      "panelty 11 rscore training 0.6519427823076633 rscore testing 0.6520324761453398\n",
      "panelty 21 rscore training 0.6519423377942547 rscore testing 0.6520365878788714\n",
      "panelty 31 rscore training 0.6519416154599671 rscore testing 0.6520404284574585\n",
      "panelty 41 rscore training 0.6519406153048011 rscore testing 0.652043997881108\n",
      "panelty 51 rscore training 0.6519393373287534 rscore testing 0.6520472961498901\n",
      "panelty 61 rscore training 0.6519377815318272 rscore testing 0.6520503232636887\n",
      "panelty 71 rscore training 0.651935947914021 rscore testing 0.6520530792227308\n",
      "panelty 81 rscore training 0.6519338364753362 rscore testing 0.6520555640268312\n",
      "panelty 91 rscore training 0.6519314472157705 rscore testing 0.6520577776759918\n",
      "panelty 101 rscore training 0.6519287801353262 rscore testing 0.6520597201702082\n",
      "panelty 111 rscore training 0.6519258352340034 rscore testing 0.6520613915094784\n",
      "panelty 121 rscore training 0.6519226125117978 rscore testing 0.6520627916937947\n",
      "panelty 131 rscore training 0.6519191119687109 rscore testing 0.652063920723556\n",
      "panelty 141 rscore training 0.6519153336047461 rscore testing 0.6520647785980043\n",
      "panelty 151 rscore training 0.6519112774199042 rscore testing 0.6520653653174935\n",
      "panelty 161 rscore training 0.6519069434141787 rscore testing 0.6520656808825096\n",
      "panelty 171 rscore training 0.6519023315875778 rscore testing 0.6520657252921211\n",
      "panelty 181 rscore training 0.6518974419400936 rscore testing 0.652065498547308\n",
      "panelty 191 rscore training 0.6518922744717202 rscore testing 0.652065000647567\n",
      "panelty 201 rscore training 0.6518868291824838 rscore testing 0.6520642315923817\n",
      "panelty 211 rscore training 0.6518811060723575 rscore testing 0.6520631913828177\n",
      "panelty 221 rscore training 0.651875105141358 rscore testing 0.6520618800177406\n",
      "panelty 231 rscore training 0.6518688263894713 rscore testing 0.652060297498344\n",
      "panelty 241 rscore training 0.6518622698167038 rscore testing 0.6520584438240289\n",
      "panelty 251 rscore training 0.6518554354230693 rscore testing 0.6520563189941464\n",
      "panelty 261 rscore training 0.6518483232085402 rscore testing 0.6520539230099982\n",
      "panelty 271 rscore training 0.6518409331731336 rscore testing 0.6520512558709365\n",
      "panelty 281 rscore training 0.6518332653168459 rscore testing 0.6520483175769587\n",
      "panelty 291 rscore training 0.6518253196397031 rscore testing 0.6520451081273495\n",
      "panelty 301 rscore training 0.6518170961416514 rscore testing 0.6520416275235354\n",
      "panelty 311 rscore training 0.6518085948227206 rscore testing 0.6520378757648078\n",
      "panelty 321 rscore training 0.6517998156829091 rscore testing 0.6520338528511619\n",
      "panelty 331 rscore training 0.6517907587222498 rscore testing 0.6520295587818172\n",
      "panelty 341 rscore training 0.6517814239406814 rscore testing 0.6520249935583418\n",
      "panelty 351 rscore training 0.6517718113382307 rscore testing 0.6520201571799471\n",
      "panelty 361 rscore training 0.6517619209148975 rscore testing 0.6520150496466341\n",
      "panelty 371 rscore training 0.6517517526706893 rscore testing 0.652009670958412\n",
      "panelty 381 rscore training 0.6517413066056299 rscore testing 0.6520040211144007\n",
      "panelty 391 rscore training 0.6517305827196609 rscore testing 0.6519981001163451\n",
      "panelty 401 rscore training 0.651719581012814 rscore testing 0.6519919079633751\n",
      "panelty 411 rscore training 0.6517083014850831 rscore testing 0.6519854446554871\n",
      "panelty 421 rscore training 0.6516967441364716 rscore testing 0.6519787101926782\n",
      "panelty 431 rscore training 0.6516849089669818 rscore testing 0.6519717045749585\n",
      "panelty 441 rscore training 0.6516727959766574 rscore testing 0.6519644278013712\n",
      "panelty 451 rscore training 0.6516604051654 rscore testing 0.6519568798738116\n",
      "panelty 461 rscore training 0.6516477365332702 rscore testing 0.6519490607913421\n",
      "panelty 471 rscore training 0.6516347900802599 rscore testing 0.6519409705539558\n",
      "panelty 481 rscore training 0.6516215658063707 rscore testing 0.6519326091616569\n",
      "panelty 491 rscore training 0.6516080637115967 rscore testing 0.651923976614434\n",
      "panelty 501 rscore training 0.6515942837959452 rscore testing 0.6519150729122983\n",
      "panelty 511 rscore training 0.6515802260594131 rscore testing 0.6519058980552467\n",
      "panelty 521 rscore training 0.6515658905020645 rscore testing 0.6518964520422441\n",
      "panelty 531 rscore training 0.6515512771237688 rscore testing 0.6518867348753574\n",
      "panelty 541 rscore training 0.6515363859245994 rscore testing 0.6518767465535606\n",
      "panelty 551 rscore training 0.6515212169045449 rscore testing 0.6518664870768414\n",
      "panelty 561 rscore training 0.6515057700636084 rscore testing 0.6518559564452056\n",
      "panelty 571 rscore training 0.6514900454018011 rscore testing 0.6518451546586617\n",
      "panelty 581 rscore training 0.6514740429191065 rscore testing 0.6518340817171935\n",
      "panelty 591 rscore training 0.6514577626155335 rscore testing 0.6518227376208138\n",
      "panelty 601 rscore training 0.6514412044910811 rscore testing 0.6518111223695155\n",
      "panelty 611 rscore training 0.6514243685457453 rscore testing 0.6517992359633\n",
      "panelty 621 rscore training 0.6514072547796084 rscore testing 0.6517870784010389\n",
      "panelty 631 rscore training 0.6513898631925168 rscore testing 0.6517746496849927\n",
      "panelty 641 rscore training 0.6513721937845409 rscore testing 0.6517619498140304\n",
      "panelty 651 rscore training 0.6513542465556867 rscore testing 0.6517489787881519\n",
      "panelty 661 rscore training 0.6513360215059525 rscore testing 0.6517357366073557\n",
      "panelty 671 rscore training 0.6513175186353406 rscore testing 0.6517222232716473\n",
      "panelty 681 rscore training 0.6512987379438422 rscore testing 0.6517084387810161\n",
      "panelty 691 rscore training 0.6512796794314691 rscore testing 0.6516943831354722\n",
      "panelty 701 rscore training 0.651260343098214 rscore testing 0.6516800563350117\n",
      "panelty 711 rscore training 0.6512407289440778 rscore testing 0.6516654583796351\n",
      "panelty 721 rscore training 0.651220836969062 rscore testing 0.6516505892693385\n",
      "panelty 731 rscore training 0.651200667173169 rscore testing 0.6516354490041332\n",
      "panelty 741 rscore training 0.6511802195563907 rscore testing 0.6516200375840062\n",
      "panelty 751 rscore training 0.6511594941188379 rscore testing 0.6516043550077391\n",
      "panelty 761 rscore training 0.6511384908603015 rscore testing 0.6515884012777808\n",
      "panelty 771 rscore training 0.6511172097808859 rscore testing 0.6515721763929083\n",
      "panelty 781 rscore training 0.6510956508805947 rscore testing 0.6515556803531248\n",
      "panelty 791 rscore training 0.6510738141594128 rscore testing 0.6515389131584104\n",
      "panelty 801 rscore training 0.6510516996173561 rscore testing 0.6515218748087903\n",
      "panelty 811 rscore training 0.6510293072544189 rscore testing 0.6515045653042499\n",
      "panelty 821 rscore training 0.6510066370706054 rscore testing 0.651486984644797\n",
      "panelty 831 rscore training 0.6509836890659059 rscore testing 0.651469132830425\n",
      "panelty 841 rscore training 0.6509604632403263 rscore testing 0.6514510098611341\n",
      "panelty 851 rscore training 0.6509369595938688 rscore testing 0.6514326157369293\n",
      "panelty 861 rscore training 0.6509131781265302 rscore testing 0.6514139504578073\n",
      "panelty 871 rscore training 0.6508891188383116 rscore testing 0.6513950140237696\n",
      "panelty 881 rscore training 0.6508647817292101 rscore testing 0.6513758064348125\n",
      "panelty 891 rscore training 0.6508401667992336 rscore testing 0.6513563276909446\n",
      "panelty 901 rscore training 0.6508152740483701 rscore testing 0.6513365777921554\n",
      "panelty 911 rscore training 0.6507901034766308 rscore testing 0.6513165567384531\n",
      "panelty 921 rscore training 0.6507646550841562 rscore testing 0.6512962645285216\n",
      "panelty 931 rscore training 0.6507389288706565 rscore testing 0.6512757011649855\n",
      "panelty 941 rscore training 0.6507129248362779 rscore testing 0.6512548666465365\n",
      "panelty 951 rscore training 0.6506866429810172 rscore testing 0.6512337609731672\n",
      "panelty 961 rscore training 0.6506600833048803 rscore testing 0.6512123841448871\n",
      "panelty 971 rscore training 0.6506332458078586 rscore testing 0.6511907361616874\n",
      "panelty 981 rscore training 0.6506061304899562 rscore testing 0.6511688170235679\n",
      "panelty 991 rscore training 0.6505787373511771 rscore testing 0.6511466267305376\n"
     ]
    }
   ],
   "source": [
    "print(\"Lasso Score r2 score with 10 panelty\")\n",
    "for i in range(1,1000,10):\n",
    "    l=Lasso(i)\n",
    "    l.fit(x_train,y_train)\n",
    "    print(\"panelty {} rscore training {} rscore testing {}\".format(i,l.score(x_train,y_train),l.score(x_test,y_test)))"
   ]
  },
  {
   "cell_type": "code",
   "execution_count": 103,
   "metadata": {},
   "outputs": [
    {
     "name": "stdout",
     "output_type": "stream",
     "text": [
      "panelty 11 rscore training 0.6519427823076633 rscore testing 0.6520324761453398\n"
     ]
    }
   ],
   "source": [
    "l=Lasso(11)\n",
    "l.fit(x_train,y_train)\n",
    "print(\"panelty {} rscore training {} rscore testing {}\".format(11,l.score(x_train,y_train),l.score(x_test,y_test)))"
   ]
  },
  {
   "cell_type": "code",
   "execution_count": 104,
   "metadata": {},
   "outputs": [
    {
     "data": {
      "text/plain": [
       "array([ 9.92189457e+04,  1.33240261e-04, -5.28208219e+04,  1.90117539e+03,\n",
       "        5.43233496e+04,  1.35846852e+05,  3.37644280e+04,  2.47929529e+02,\n",
       "        1.41336867e+03, -1.94435761e+03, -6.78682547e+05,  9.76664942e+05,\n",
       "       -1.32669659e+00, -3.23193386e+02, -1.17071328e+00, -1.98087253e+05,\n",
       "       -9.11902304e+03, -1.25711573e+02,  2.76681011e+04])"
      ]
     },
     "execution_count": 104,
     "metadata": {},
     "output_type": "execute_result"
    }
   ],
   "source": [
    "l.coef_"
   ]
  },
  {
   "cell_type": "code",
   "execution_count": 105,
   "metadata": {},
   "outputs": [
    {
     "data": {
      "image/png": "[encoded data removed]",
      "text/plain": [
       "<Figure size 432x288 with 1 Axes>"
      ]
     },
     "metadata": {
      "needs_background": "light"
     },
     "output_type": "display_data"
    }
   ],
   "source": [
    "coef=pd.Series(l.coef_,x_train.columns.sort_values())\n",
    "coef.plot(kind=\"bar\",title=\"model coefficent\")\n",
    "plt.show()"
   ]
  },
  {
   "cell_type": "code",
   "execution_count": 106,
   "metadata": {},
   "outputs": [
    {
     "data": {
      "text/plain": [
       "Address           99218.945688\n",
       "Bathroom              0.000133\n",
       "Bedroom2         -52820.821902\n",
       "BuildingArea       1901.175395\n",
       "Car               54323.349627\n",
       "Date             135846.851808\n",
       "Distance          33764.427974\n",
       "Landsize            247.929529\n",
       "Lattitude          1413.368667\n",
       "Longtitude        -1944.357609\n",
       "Method          -678682.547263\n",
       "Postcode         976664.942152\n",
       "Propertycount        -1.326697\n",
       "Regionname         -323.193386\n",
       "Rooms                -1.170713\n",
       "SellerG         -198087.252928\n",
       "Suburb            -9119.023041\n",
       "Type               -125.711573\n",
       "YearBuilt         27668.101062\n",
       "dtype: float64"
      ]
     },
     "execution_count": 106,
     "metadata": {},
     "output_type": "execute_result"
    }
   ],
   "source": [
    "coef"
   ]
  },
  {
   "cell_type": "code",
   "execution_count": null,
   "metadata": {},
   "outputs": [],
   "source": []
  }
 ],
 "metadata": {
  "kernelspec": {
   "display_name": "Python 3",
   "language": "python",
   "name": "python3"
  },
  "language_info": {
   "codemirror_mode": {
    "name": "ipython",
    "version": 3
   },
   "file_extension": ".py",
   "mimetype": "text/x-python",
   "name": "python",
   "nbconvert_exporter": "python",
   "pygments_lexer": "ipython3",
   "version": "3.8.3"
  }
 },
 "nbformat": 4,
 "nbformat_minor": 4
}
