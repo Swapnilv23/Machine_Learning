{
 "cells": [
  {
   "cell_type": "markdown",
   "metadata": {},
   "source": [
    "1) Write a Example of the mean, median,mode using NumPy and it's use in Data science "
   ]
  },
  {
   "cell_type": "code",
   "execution_count": 1,
   "metadata": {},
   "outputs": [
    {
     "name": "stdout",
     "output_type": "stream",
     "text": [
      "\n",
      "Original array:\n",
      "[0 1 2 3 4 5]\n",
      "mean of x: 2.5\n",
      "meadian of x: 2.5\n"
     ]
    }
   ],
   "source": [
    "import numpy as np\n",
    "x = np.arange(6)\n",
    "print(\"\\nOriginal array:\")\n",
    "print(x)\n",
    "r1 = np.mean(x)\n",
    "print(\"mean of x:\",r1)\n",
    "r2=np.median(x)\n",
    "print(\"meadian of x:\",r2)"
   ]
  },
  {
   "cell_type": "markdown",
   "metadata": {},
   "source": [
    "2) Write a note on a measure of dispersion explain each using with numpy calculation."
   ]
  },
  {
   "cell_type": "markdown",
   "metadata": {},
   "source": [
    "What are Measures of Dispersion?\n",
    "The measure of dispersion indicates the scattering of data. It explains the disparity of data from one another, delivering a precise view of the distribution of data. The measure of dispersion displays and gives us an idea about the variation and central value of an individual item.\n",
    "\n",
    "In other words, Dispersion is the extent to which values in a distribution differ from the average of the distribution. It gives us an idea about the extent to which individual items vary from one another and from the central value.\n",
    "\n",
    "The variation can be measured in different numerical measures, namely:\n",
    "\n",
    "(i) Range – It is the simplest method of measurement of dispersion and defines the difference between the largest and the smallest item in a given distribution. Suppose Y max and Y min are the two ultimate items then\n",
    "\n",
    "Range = Y max – Y min\n",
    "\n",
    "(ii) Quartile Deviation – It is known as Semi-Inter-Quartile Range, i.e. half of the difference between the upper quartile and lower quartile. The first quartile is derived as (Q), the middle digit (Q1) connects the least number with the median of the data. The median of a data set is the (Q2) second quartile. Lastly, the number connecting the largest number and the median is the third quartile (Q3). Quartile deviation can be calculated by\n",
    "\n",
    "Q = ½ × (Q3 – Q1)\n",
    "\n",
    "(iii) Mean Deviation-Mean deviation is the arithmetic mean (average) of deviations ⎜D⎜of observations from a central value {Mean or Median}.\n",
    "\n",
    "Mean deviation can be evaluated by using the formula: A = 1⁄n [∑i|xi – A|]\n",
    "\n",
    "(iv) Standard Deviation- Standard deviation is the Square Root of the Arithmetic Average of the squared of the deviations measured from the mean. The standard deviation is given as\n",
    "\n",
    "σ = [(Σi (yi – ȳ) ⁄ n] ½ = [(Σ i yi 2 ⁄ n) – ȳ 2] ½\n",
    "\n",
    "Apart from a numerical value, graphics method are also applied for estimating dispersion.\n",
    "\n",
    "Types of Measures of Dispersion\n",
    "(1) Absolute Measures\n",
    "\n",
    "Absolute measures of dispersion are expressed in the unit of Variable itself. Like, Kilograms, Rupees, Centimeters, Marks, etc.\n",
    "(2) Relative Measures\n",
    "\n",
    "Relative measures of dispersion are obtained as ratios or percentages of the average.\n",
    "These are also known as ‘Coefficient of dispersion.’\n",
    "These are pure numbers or percentages totally independent of the units of measurements.\n",
    "Characteristics of a Good Measure of Dispersion\n",
    "It should be easy to calculate and simple to understand.\n",
    "It should be based on all the observations of the series.\n",
    "It should be rigidly defined.\n",
    "It should not be affected by extreme values.\n",
    "It should not be unduly affected by sampling fluctuations.\n",
    "It should be capable of further mathematical treatment and statistical analysis.\n",
    "Related Topics:\n",
    "\n",
    "Measures of Central Tendency- Median\n",
    "Measures of Central Tendency- Mean\n",
    "Measures of Central Tendency- Mode\n",
    "What Are the Objectives of Computing Dispersion?\n",
    "(1) Comparative Study\n",
    "\n",
    "Measures of dispersion give a single value indicating the degree of consistency or uniformity of distribution. This single value helps us in making comparisons of various distributions.\n",
    "The smaller the magnitude (value) of dispersion, higher is the consistency or uniformity and vice-versa.\n",
    "(2) Reliability of an Average\n",
    "\n",
    "A small value of dispersion means low variation between observations and average. It means the average is a good representative of observation and very reliable.\n",
    "A higher value of dispersion means greater deviation among the observations. In this case, the average is not a good representative and it cannot be considered reliable.\n",
    "(3) Control the Variability\n",
    "\n",
    "Different measures of dispersion provide us data of variability from different angles, and this knowledge can prove helpful in controlling the variation.\n",
    "Especially in the financial analysis of business and Medical, these measures of dispersion can prove very useful.\n",
    "(4) Basis for Further Statistical Analysis\n",
    "\n",
    "Measures of dispersion provide the basis for further statistical analysis like computing Correlation, Regression, Test of hypothesis, etc."
   ]
  },
  {
   "cell_type": "code",
   "execution_count": 2,
   "metadata": {},
   "outputs": [
    {
     "name": "stdout",
     "output_type": "stream",
     "text": [
      "Array = [4 5 8 5 6 4 9 2 4 3 6]\n",
      "Measures of Dispersion\n",
      "Minimum = 2\n",
      "Maximum = 9\n",
      "Range = 7\n",
      "Varience = 3.9008264462809916\n",
      "Standard Deviation = 1.9750509984000393\n"
     ]
    }
   ],
   "source": [
    "import numpy as np \n",
    "  \n",
    "  \n",
    "arr = np.array([4, 5, 8, 5, 6, 4,  \n",
    "                9, 2, 4, 3, 6]) \n",
    "  \n",
    "# measures of dispersion \n",
    "min = np.amin(arr) \n",
    "max = np.amax(arr) \n",
    "range = np.ptp(arr) \n",
    "varience = np.var(arr) \n",
    "sd = np.std(arr) \n",
    "  \n",
    "print(\"Array =\", arr) \n",
    "print(\"Measures of Dispersion\") \n",
    "print(\"Minimum =\", min) \n",
    "print(\"Maximum =\", max) \n",
    "print(\"Range =\", range) \n",
    "print(\"Varience =\", varience) \n",
    "print(\"Standard Deviation =\", sd)"
   ]
  },
  {
   "cell_type": "code",
   "execution_count": null,
   "metadata": {},
   "outputs": [],
   "source": []
  }
 ],
 "metadata": {
  "kernelspec": {
   "display_name": "Python 3",
   "language": "python",
   "name": "python3"
  },
  "language_info": {
   "codemirror_mode": {
    "name": "ipython",
    "version": 3
   },
   "file_extension": ".py",
   "mimetype": "text/x-python",
   "name": "python",
   "nbconvert_exporter": "python",
   "pygments_lexer": "ipython3",
   "version": "3.8.3"
  }
 },
 "nbformat": 4,
 "nbformat_minor": 4
}
