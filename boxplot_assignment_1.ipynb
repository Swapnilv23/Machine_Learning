{
 "cells": [
  {
   "cell_type": "code",
   "execution_count": 1,
   "metadata": {},
   "outputs": [],
   "source": [
    "import numpy as np\n",
    "import pandas as pd\n",
    "import matplotlib.pyplot as plt\n",
    "import seaborn as sns\n",
    "import warnings\n",
    "warnings.filterwarnings('ignore')"
   ]
  },
  {
   "cell_type": "code",
   "execution_count": 2,
   "metadata": {},
   "outputs": [
    {
     "data": {
      "text/plain": [
       "'\\nConsider the following sample data\\ny: 7.03, 1.44, 4.06, 3.80, 9.86, 3.59\\n\\nDraw a  a box-plot of y and comment on them. Are there any anomalies or outliers in the data?\\n'"
      ]
     },
     "execution_count": 2,
     "metadata": {},
     "output_type": "execute_result"
    }
   ],
   "source": [
    "'''\n",
    "Consider the following sample data\n",
    "y: 7.03, 1.44, 4.06, 3.80, 9.86, 3.59\n",
    "\n",
    "Draw a  a box-plot of y and comment on them. Are there any anomalies or outliers in the data?\n",
    "'''"
   ]
  },
  {
   "cell_type": "code",
   "execution_count": 3,
   "metadata": {},
   "outputs": [
    {
     "data": {
      "text/plain": [
       "0    7.03\n",
       "1    1.44\n",
       "2    4.06\n",
       "3    3.80\n",
       "4    9.86\n",
       "5    3.59\n",
       "dtype: float64"
      ]
     },
     "execution_count": 3,
     "metadata": {},
     "output_type": "execute_result"
    }
   ],
   "source": [
    "#create a list\n",
    "Y=[7.03, 1.44, 4.06, 3.80, 9.86, 3.59]\n",
    "#convert in Series\n",
    "y=pd.Series(Y)\n",
    "y"
   ]
  },
  {
   "cell_type": "code",
   "execution_count": 4,
   "metadata": {},
   "outputs": [
    {
     "name": "stdout",
     "output_type": "stream",
     "text": [
      "3.6425\n",
      "6.2875\n",
      "2.6449999999999996\n",
      "Lower Whisker =  -0.3249999999999993 \n",
      " Upper Whisker :  10.254999999999999\n"
     ]
    }
   ],
   "source": [
    "#Find outlier\n",
    "Q1=y.quantile(0.25)\n",
    "Q3=y.quantile(0.75)\n",
    "IQR=Q3-Q1  #Inter Quentile Range\n",
    "print(Q1)\n",
    "print(Q3)\n",
    "print(IQR)\n",
    "Lower_Whisker = Q1-1.5*IQR\n",
    "Upper_Whisker = Q3+1.5*IQR\n",
    "print(\"Lower Whisker = \",Lower_Whisker,\"\\n Upper Whisker : \", Upper_Whisker)"
   ]
  },
  {
   "cell_type": "code",
   "execution_count": 5,
   "metadata": {},
   "outputs": [
    {
     "data": {
      "image/png": "[encoded data removed]",
      "text/plain": [
       "<Figure size 432x288 with 1 Axes>"
      ]
     },
     "metadata": {
      "needs_background": "light"
     },
     "output_type": "display_data"
    }
   ],
   "source": [
    "sns.boxplot(data=y) #vertical\n",
    "plt.show()"
   ]
  },
  {
   "cell_type": "code",
   "execution_count": 7,
   "metadata": {},
   "outputs": [],
   "source": [
    "#there is no outlier in data"
   ]
  },
  {
   "cell_type": "code",
   "execution_count": null,
   "metadata": {},
   "outputs": [],
   "source": []
  }
 ],
 "metadata": {
  "kernelspec": {
   "display_name": "Python 3",
   "language": "python",
   "name": "python3"
  },
  "language_info": {
   "codemirror_mode": {
    "name": "ipython",
    "version": 3
   },
   "file_extension": ".py",
   "mimetype": "text/x-python",
   "name": "python",
   "nbconvert_exporter": "python",
   "pygments_lexer": "ipython3",
   "version": "3.8.3"
  }
 },
 "nbformat": 4,
 "nbformat_minor": 4
}
